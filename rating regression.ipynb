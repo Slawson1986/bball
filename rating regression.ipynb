{
 "metadata": {
  "name": "",
  "signature": "sha256:1555ed1f8090682bacd4a6367207208cb82ba964ac86bd1b1f2ced2a1968f127"
 },
 "nbformat": 3,
 "nbformat_minor": 0,
 "worksheets": [
  {
   "cells": [
    {
     "cell_type": "code",
     "collapsed": false,
     "input": [
      "# scrape offensive and def ratings from basketball-reference\n",
      "from urllib2 import Request, urlopen, URLError\n",
      "\n",
      "def get_def_ratings(teams, year):\n",
      "    def_ratings = {}\n",
      "    off_ratings = {}\n",
      "    for team in teams:\n",
      "        team_url = 'http://www.basketball-reference.com/teams/' + team + '/'+ str(year) + '.html'\n",
      "        req = Request(team_url)\n",
      "        try:\n",
      "            response = urlopen(req)\n",
      "        except URLError as e:\n",
      "            if hasattr(e, 'reason'):\n",
      "                print 'We failed to reach a server.'\n",
      "                print 'Reason: ', e.reason\n",
      "            elif hasattr(e, 'code'):\n",
      "                print 'The server couldn\\'t fulfill the request.'\n",
      "                print 'Error code: ', e.code\n",
      "        else:\n",
      "            # everything is fine\n",
      "            html_page = response.read()\n",
      "            search = \"Def Rtg</span></a>: \"\n",
      "            loc = html_page.find(search)\n",
      "            def_ratings[team] = float(html_page[loc+len(search): loc+len(search)+5].rstrip(\" \"))\n",
      "            \n",
      "            search = \"Off Rtg</span></a>: \"\n",
      "            loc = html_page.find(search)\n",
      "            off_ratings[team] = float(html_page[loc+len(search): loc+len(search)+5].rstrip(\" \"))\n",
      "    return def_ratings, off_ratings\n",
      "\n",
      "teams = ['ATL','BOS','BRK','CHA','CHI','CLE','DAL','DEN','DET','GSW','HOU','IND','LAC','LAL','MEM',\n",
      "         'MIA','MIL','MIN','NOP','OKC','ORL','PHI','PHO','POR','SAC','SAS','TOR','UTA','WAS']\n",
      "year = 2014 #2013-2014\n",
      "#def_ratings, off_ratings = get_def_ratings(teams, year) # may take a bit to hit all the teams"
     ],
     "language": "python",
     "metadata": {},
     "outputs": [],
     "prompt_number": 3
    },
    {
     "cell_type": "code",
     "collapsed": false,
     "input": [
      "print def_ratings\n",
      "\n",
      "print off_ratings\n",
      "# now we need game logs, to see each player's points per game and who the opposing team was"
     ],
     "language": "python",
     "metadata": {},
     "outputs": [
      {
       "ename": "NameError",
       "evalue": "name 'def_ratings' is not defined",
       "output_type": "pyerr",
       "traceback": [
        "\u001b[1;31m---------------------------------------------------------------------------\u001b[0m\n\u001b[1;31mNameError\u001b[0m                                 Traceback (most recent call last)",
        "\u001b[1;32m<ipython-input-4-dbbd6d6b8ed9>\u001b[0m in \u001b[0;36m<module>\u001b[1;34m()\u001b[0m\n\u001b[1;32m----> 1\u001b[1;33m \u001b[1;32mprint\u001b[0m \u001b[0mdef_ratings\u001b[0m\u001b[1;33m\u001b[0m\u001b[0m\n\u001b[0m\u001b[0;32m      2\u001b[0m \u001b[1;33m\u001b[0m\u001b[0m\n\u001b[0;32m      3\u001b[0m \u001b[1;32mprint\u001b[0m \u001b[0moff_ratings\u001b[0m\u001b[1;33m\u001b[0m\u001b[0m\n\u001b[0;32m      4\u001b[0m \u001b[1;31m# now we need game logs, to see each player's points per game and who the opposing team was\u001b[0m\u001b[1;33m\u001b[0m\u001b[1;33m\u001b[0m\u001b[0m\n",
        "\u001b[1;31mNameError\u001b[0m: name 'def_ratings' is not defined"
       ]
      }
     ],
     "prompt_number": 4
    },
    {
     "cell_type": "code",
     "collapsed": false,
     "input": [
      "#To get boxscores, we can use stats.nba.com. Boxscores come in JSON format.\n",
      "#Just change the GameID \n",
      "#GameID format is 0021###### - where the first digit after 0021 decides the year, and then the numbers just count up from 000001\n",
      "#http://stats.nba.com/stats/boxscore?GameID=0021300001&RangeType=0&StartPeriod=0&EndPeriod=0&StartRange=0&EndRange=0\n",
      "import json\n",
      "\n",
      "# downloads game jsons from a given year to a given location\n",
      "# gets the games from start_game to end_game, inclusive\n",
      "def download_gamelog_jsons(year, location, start_game=1, end_game=1230):\n",
      "    y = year % 10\n",
      "    for g in xrange(start_game, end_game+1):\n",
      "        print g\n",
      "        url = 'http://stats.nba.com/stats/boxscore?GameID=0021' + str(y) + \"%05d\" % (g) + '&RangeType=0&StartPeriod=0&EndPeriod=0&StartRange=0&EndRange=0'\n",
      "        req = Request(url)\n",
      "        try:\n",
      "            response = urlopen(req)\n",
      "        except URLError as e:\n",
      "            if hasattr(e, 'reason'):\n",
      "                print 'We failed to reach a server.'\n",
      "                print 'Reason: ', e.reason\n",
      "            elif hasattr(e, 'code'):\n",
      "                print 'The server couldn\\'t fulfill the request.'\n",
      "                print 'Error code: ', e.code\n",
      "        else:\n",
      "            # everything is fine\n",
      "            data = response.read()\n",
      "            json_data = json.loads(data)\n",
      "            name = json_data['resultSets'][0]['rowSet'][0][5]\n",
      "            mod_name = name.split('/')[0] + '-' + name.split('/')[1]\n",
      "            #with open(location + '/' + str(year) + '_game' + str(g) + '.json', 'w') as outfile:\n",
      "            with open(location + '/' + mod_name + '.json', 'w') as outfile:\n",
      "                json.dump(json.loads(data), outfile, sort_keys=True, indent=4, ensure_ascii=False)"
     ],
     "language": "python",
     "metadata": {},
     "outputs": [],
     "prompt_number": 2
    },
    {
     "cell_type": "code",
     "collapsed": false,
     "input": [
      "#download_gamelog_jsons(2013,'boxscores',start_game=601, end_game=1230)"
     ],
     "language": "python",
     "metadata": {},
     "outputs": [],
     "prompt_number": 3
    },
    {
     "cell_type": "code",
     "collapsed": false,
     "input": [
      "# check for missing games\n",
      "import os\n",
      "\n",
      "downloaded = []\n",
      "for fn in os.listdir('boxscores'):\n",
      "    with open(os.path.join('boxscores', fn)) as f:\n",
      "        t = json.load(f)\n",
      "        gid = int(t['resultSets'][0]['rowSet'][0][2])%100000\n",
      "        downloaded.append(gid)\n",
      "downloaded = sorted(downloaded)\n",
      "\n",
      "for d in range(1,1231):\n",
      "    if d not in downloaded:\n",
      "        print d\n"
     ],
     "language": "python",
     "metadata": {},
     "outputs": [],
     "prompt_number": 4
    },
    {
     "cell_type": "code",
     "collapsed": false,
     "input": [
      "# write to excel sheet for donkjeff\n",
      "import xlwt\n",
      "\n",
      "def write_jsons_to_excel(excel_filename):\n",
      "    w = xlwt.Workbook()\n",
      "    counter = 0\n",
      "    for fn in os.listdir('boxscores'):\n",
      "        cursheet = w.add_sheet(fn.split(\".\")[0])\n",
      "        with open(os.path.join('boxscores', fn)) as f:\n",
      "            t = json.load(f)\n",
      "            cursheet.write(0,0,'Date')\n",
      "            cursheet.write(0,1,'Home Team')\n",
      "            cursheet.write(0,2,'Home Score')\n",
      "            cursheet.write(0,3,'Visiting Team')\n",
      "            cursheet.write(0,4,'Visiting Score')\n",
      "            home_id = t['resultSets'][0]['rowSet'][0][6]\n",
      "            away_id = t['resultSets'][0]['rowSet'][0][7]\n",
      "            \n",
      "            idmap = {}\n",
      "            idmap[t['resultSets'][1]['rowSet'][0][3]] = (t['resultSets'][1]['rowSet'][0][4],t['resultSets'][1]['rowSet'][0][21])\n",
      "            idmap[t['resultSets'][1]['rowSet'][1][3]] = (t['resultSets'][1]['rowSet'][1][4],t['resultSets'][1]['rowSet'][1][21])\n",
      "            \n",
      "            # print metadata info\n",
      "            cursheet.write(1,0,t['resultSets'][0]['rowSet'][0][0]) #date\n",
      "            cursheet.write(1,1,idmap[home_id][0]) #home team\n",
      "            cursheet.write(1,2,idmap[home_id][1])\n",
      "            cursheet.write(1,3,idmap[away_id][0]) #visiting team\n",
      "            cursheet.write(1,4,idmap[away_id][1])\n",
      "    \n",
      "            # print player stats\n",
      "            for i in range(len(t['resultSets'][4]['headers'])):\n",
      "                cursheet.write(2,i,t['resultSets'][4]['headers'][i])\n",
      "            for j in range(len(t['resultSets'][4]['rowSet'])):\n",
      "                for k in range(len(t['resultSets'][4]['rowSet'][j])):\n",
      "                    cursheet.write(3+j, k, t['resultSets'][4]['rowSet'][j][k])\n",
      "        \n",
      "    w.save(excel_filename)"
     ],
     "language": "python",
     "metadata": {},
     "outputs": [],
     "prompt_number": 29
    },
    {
     "cell_type": "code",
     "collapsed": false,
     "input": [
      "write_jsons_to_excel('excel_gamedata.xls')"
     ],
     "language": "python",
     "metadata": {},
     "outputs": []
    },
    {
     "cell_type": "code",
     "collapsed": false,
     "input": [
      "with open('boxscores/20131029-CHIMIA.json') as f:\n",
      "    t = json.load(f)\n",
      "    print t['resultSets'][4]"
     ],
     "language": "python",
     "metadata": {},
     "outputs": [
      {
       "output_type": "stream",
       "stream": "stdout",
       "text": [
        "{u'headers': [u'GAME_ID', u'TEAM_ID', u'TEAM_ABBREVIATION', u'TEAM_CITY', u'PLAYER_ID', u'PLAYER_NAME', u'START_POSITION', u'COMMENT', u'MIN', u'FGM', u'FGA', u'FG_PCT', u'FG3M', u'FG3A', u'FG3_PCT', u'FTM', u'FTA', u'FT_PCT', u'OREB', u'DREB', u'REB', u'AST', u'STL', u'BLK', u'TO', u'PF', u'PTS', u'PLUS_MINUS'], u'rowSet': [[u'0021300002', 1610612741, u'CHI', u'Chicago', 2736, u'Luol Deng', u'F', u'', u'29:28', 2, 8, 0.25, 0, 5, 0.0, 0, 0, 0.0, 1, 4, 5, 4, 2, 0, 3, 4, 4, 6.0], [u'0021300002', 1610612741, u'CHI', u'Chicago', 2430, u'Carlos Boozer', u'F', u'', u'32:24', 13, 18, 0.722, 0, 0, 0.0, 5, 5, 1.0, 3, 4, 7, 2, 1, 1, 2, 4, 31, -2.0], [u'0021300002', 1610612741, u'CHI', u'Chicago', 201149, u'Joakim Noah', u'C', u'', u'20:09', 1, 4, 0.25, 0, 0, 0.0, 0, 2, 0.0, 2, 9, 11, 2, 2, 2, 2, 2, 2, -4.0], [u'0021300002', 1610612741, u'CHI', u'Chicago', 202710, u'Jimmy Butler', u'G', u'', u'29:55', 6, 12, 0.5, 2, 4, 0.5, 6, 7, 0.857, 0, 3, 3, 3, 5, 1, 2, 4, 20, 10.0], [u'0021300002', 1610612741, u'CHI', u'Chicago', 201565, u'Derrick Rose', u'G', u'', u'34:21', 4, 15, 0.267, 1, 7, 0.143, 3, 4, 0.75, 0, 1, 1, 4, 0, 0, 5, 2, 12, -9.0], [u'0021300002', 1610612741, u'CHI', u'Chicago', 2399, u'Mike Dunleavy', u'', u'', u'22:56', 3, 9, 0.333, 2, 4, 0.5, 2, 2, 1.0, 0, 3, 3, 1, 0, 0, 1, 1, 10, -10.0], [u'0021300002', 1610612741, u'CHI', u'Chicago', 201959, u'Taj Gibson', u'', u'', u'29:19', 4, 8, 0.5, 0, 0, 0.0, 2, 3, 0.667, 4, 4, 8, 3, 0, 0, 0, 1, 10, -13.0], [u'0021300002', 1610612741, u'CHI', u'Chicago', 2550, u'Kirk Hinrich', u'', u'', u'29:29', 2, 6, 0.333, 2, 4, 0.5, 0, 0, 0.0, 0, 1, 1, 3, 0, 0, 2, 6, 6, -19.0], [u'0021300002', 1610612741, u'CHI', u'Chicago', 1737, u'Nazr Mohammed', u'', u'', u'5:16', 0, 0, 0.0, 0, 0, 0.0, 0, 0, 0.0, 1, 1, 2, 1, 0, 0, 0, 1, 0, -9.0], [u'0021300002', 1610612741, u'CHI', u'Chicago', 203503, u'Tony Snell', u'', u'', u'6:44', 0, 3, 0.0, 0, 2, 0.0, 0, 0, 0.0, 0, 0, 0, 0, 1, 0, 1, 2, 0, -10.0], [u'0021300002', 1610612741, u'CHI', u'Chicago', 2229, u'Mike James', u'', u\"DNP - Coach's Decision\", None, None, None, None, None, None, None, None, None, None, None, None, None, None, None, None, None, None, None, None], [u'0021300002', 1610612741, u'CHI', u'Chicago', 203513, u'Erik Murphy', u'', u\"DNP - Coach's Decision\", None, None, None, None, None, None, None, None, None, None, None, None, None, None, None, None, None, None, None, None], [u'0021300002', 1610612741, u'CHI', u'Chicago', 203104, u'Marquis Teague', u'', u\"DNP - Coach's Decision\", None, None, None, None, None, None, None, None, None, None, None, None, None, None, None, None, None, None, None, None], [u'0021300002', 1610612748, u'MIA', u'Miami', 2544, u'LeBron James', u'F', u'', u'38:01', 5, 11, 0.455, 0, 1, 0.0, 7, 9, 0.778, 0, 6, 6, 8, 1, 0, 2, 0, 17, 8.0], [u'0021300002', 1610612748, u'MIA', u'Miami', 2617, u'Udonis Haslem', u'F', u'', u'21:28', 2, 4, 0.5, 0, 0, 0.0, 2, 2, 1.0, 1, 2, 3, 0, 0, 0, 3, 3, 6, 0.0], [u'0021300002', 1610612748, u'MIA', u'Miami', 2547, u'Chris Bosh', u'C', u'', u'31:22', 6, 11, 0.545, 1, 2, 0.5, 3, 4, 0.75, 1, 5, 6, 0, 0, 3, 1, 3, 16, 0.0], [u'0021300002', 1610612748, u'MIA', u'Miami', 2548, u'Dwyane Wade', u'G', u'', u'36:07', 5, 13, 0.385, 1, 1, 1.0, 2, 5, 0.4, 0, 4, 4, 3, 1, 1, 3, 4, 13, 2.0], [u'0021300002', 1610612748, u'MIA', u'Miami', 201596, u'Mario Chalmers', u'G', u'', u'26:50', 3, 8, 0.375, 1, 3, 0.333, 6, 7, 0.857, 2, 1, 3, 4, 5, 0, 3, 2, 13, -5.0], [u'0021300002', 1610612748, u'MIA', u'Miami', 951, u'Ray Allen', u'', u'', u'26:19', 3, 7, 0.429, 3, 6, 0.5, 2, 2, 1.0, 0, 1, 1, 7, 0, 1, 3, 4, 11, 9.0], [u'0021300002', 1610612748, u'MIA', u'Miami', 2203, u'Shane Battier', u'', u'', u'22:10', 5, 6, 0.833, 4, 4, 1.0, 0, 0, 0.0, 0, 2, 2, 1, 0, 0, 0, 3, 14, 15.0], [u'0021300002', 1610612748, u'MIA', u'Miami', 202708, u'Norris Cole', u'', u'', u'21:10', 5, 7, 0.714, 1, 3, 0.333, 0, 0, 0.0, 0, 7, 7, 3, 1, 0, 3, 0, 11, 17.0], [u'0021300002', 1610612748, u'MIA', u'Miami', 2365, u'Chris Andersen', u'', u'', u'16:33', 3, 5, 0.6, 0, 0, 0.0, 0, 0, 0.0, 1, 7, 8, 0, 2, 2, 0, 2, 6, 14.0], [u'0021300002', 1610612748, u'MIA', u'Miami', 201202, u'Joel Anthony', u'', u\"DNP - Coach's Decision\", None, None, None, None, None, None, None, None, None, None, None, None, None, None, None, None, None, None, None, None], [u'0021300002', 1610612748, u'MIA', u'Miami', 201563, u'Michael Beasley', u'', u\"DNP - Coach's Decision\", None, None, None, None, None, None, None, None, None, None, None, None, None, None, None, None, None, None, None, None], [u'0021300002', 1610612748, u'MIA', u'Miami', 2592, u'James Jones', u'', u\"DNP - Coach's Decision\", None, None, None, None, None, None, None, None, None, None, None, None, None, None, None, None, None, None, None, None], [u'0021300002', 1610612748, u'MIA', u'Miami', 1740, u'Rashard Lewis', u'', u\"DNP - Coach's Decision\", None, None, None, None, None, None, None, None, None, None, None, None, None, None, None, None, None, None, None, None]], u'name': u'PlayerStats'}\n"
       ]
      }
     ],
     "prompt_number": 26
    },
    {
     "cell_type": "code",
     "collapsed": false,
     "input": [],
     "language": "python",
     "metadata": {},
     "outputs": []
    }
   ],
   "metadata": {}
  }
 ]
}
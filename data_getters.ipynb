{
 "metadata": {
  "name": "",
  "signature": "sha256:1555ed1f8090682bacd4a6367207208cb82ba964ac86bd1b1f2ced2a1968f127"
 },
 "nbformat": 3,
 "nbformat_minor": 0,
 "worksheets": [
  {
   "cells": [
    {
     "cell_type": "code",
     "collapsed": false,
     "input": [
      "import os\n",
      "from urllib2 import Request, urlopen, URLError\n",
      "import json"
     ],
     "language": "python",
     "metadata": {},
     "outputs": [],
     "prompt_number": 42
    },
    {
     "cell_type": "code",
     "collapsed": false,
     "input": [
      "#To get boxscores, we can use stats.nba.com. Boxscores come in JSON format.\n",
      "#Just change the GameID \n",
      "#GameID format is 0021###### - where the first digit after 0021 decides the year, and then the numbers just count up from 000001\n",
      "#http://stats.nba.com/stats/boxscore?GameID=0021300001&RangeType=0&StartPeriod=0&EndPeriod=0&StartRange=0&EndRange=0\n",
      "\n",
      "# downloads game jsons from a given year to a given location\n",
      "# gets the games from start_game to end_game, inclusive\n",
      "def download_gamelog_jsons(year, location, start_game=1, end_game=1230):\n",
      "    y = year % 10\n",
      "    for g in xrange(start_game, end_game+1):\n",
      "        print g\n",
      "        url = 'http://stats.nba.com/stats/boxscore?GameID=0021' + str(y) + \"%05d\" % (g) + '&RangeType=0&StartPeriod=0&EndPeriod=0&StartRange=0&EndRange=0'\n",
      "        req = Request(url)\n",
      "        try:\n",
      "            response = urlopen(req)\n",
      "        except URLError as e:\n",
      "            if hasattr(e, 'reason'):\n",
      "                print 'We failed to reach a server.'\n",
      "                print 'Reason: ', e.reason\n",
      "            elif hasattr(e, 'code'):\n",
      "                print 'The server couldn\\'t fulfill the request.'\n",
      "                print 'Error code: ', e.code\n",
      "        else:\n",
      "            # everything is fine\n",
      "            data = response.read()\n",
      "            json_data = json.loads(data)\n",
      "            if json_data['resultSets'][1]['rowSet'][0][-1] is None:\n",
      "                print \"Downloaded until game \" + str(g-1)\n",
      "                break\n",
      "            name = json_data['resultSets'][0]['rowSet'][0][5]\n",
      "            mod_name = name.split('/')[0] + '-' + name.split('/')[1]\n",
      "            print mod_name\n",
      "            with open(location + '/' + mod_name + '.json', 'w') as outfile:\n",
      "                json.dump(json.loads(data), outfile, sort_keys=True, indent=4, ensure_ascii=False)"
     ],
     "language": "python",
     "metadata": {},
     "outputs": [],
     "prompt_number": 56
    },
    {
     "cell_type": "code",
     "collapsed": false,
     "input": [
      "download_gamelog_jsons(2014,'boxscores/2014',start_game=142, end_game=1230)"
     ],
     "language": "python",
     "metadata": {},
     "outputs": [
      {
       "output_type": "stream",
       "stream": "stdout",
       "text": [
        "142\n",
        "20141116-DENNYK"
       ]
      },
      {
       "output_type": "stream",
       "stream": "stdout",
       "text": [
        "\n",
        "143\n",
        "20141116-MILMIA"
       ]
      },
      {
       "output_type": "stream",
       "stream": "stdout",
       "text": [
        "\n",
        "144\n",
        "20141116-HOUOKC"
       ]
      },
      {
       "output_type": "stream",
       "stream": "stdout",
       "text": [
        "\n",
        "145\n",
        "20141116-GSWLAL"
       ]
      },
      {
       "output_type": "stream",
       "stream": "stdout",
       "text": [
        "\n",
        "146\n",
        "Downloaded until game 145"
       ]
      },
      {
       "output_type": "stream",
       "stream": "stdout",
       "text": [
        "\n"
       ]
      }
     ],
     "prompt_number": 60
    },
    {
     "cell_type": "code",
     "collapsed": false,
     "input": [],
     "language": "python",
     "metadata": {},
     "outputs": [],
     "prompt_number": 57
    },
    {
     "cell_type": "code",
     "collapsed": false,
     "input": [
      "# check for missing games\n",
      "downloaded = []\n",
      "for fn in os.listdir('boxscores/2013'):\n",
      "    with open(os.path.join('boxscores/2013', fn)) as f:\n",
      "        t = json.load(f)\n",
      "        gid = int(t['resultSets'][0]['rowSet'][0][2])%100000\n",
      "        downloaded.append(gid)\n",
      "downloaded = sorted(downloaded)\n",
      "\n",
      "for d in range(1,1231):\n",
      "    if d not in downloaded:\n",
      "        print d\n",
      "print \"Done\""
     ],
     "language": "python",
     "metadata": {},
     "outputs": [
      {
       "output_type": "stream",
       "stream": "stdout",
       "text": [
        "Done\n"
       ]
      }
     ],
     "prompt_number": 36
    },
    {
     "cell_type": "code",
     "collapsed": false,
     "input": [
      "# write to excel sheet for donkjeff\n",
      "import xlwt\n",
      "\n",
      "def write_jsons_to_excel(excel_filename, json_directory):\n",
      "    w = xlwt.Workbook()\n",
      "    counter = 0\n",
      "    for fn in os.listdir(json_directory):\n",
      "        cursheet = w.add_sheet(fn.split(\".\")[0])\n",
      "        with open(os.path.join(json_directory, fn)) as f:\n",
      "            t = json.load(f)\n",
      "            cursheet.write(0,0,'Date')\n",
      "            cursheet.write(0,1,'Home Team')\n",
      "            cursheet.write(0,2,'Home Score')\n",
      "            cursheet.write(0,3,'Visiting Team')\n",
      "            cursheet.write(0,4,'Visiting Score')\n",
      "            home_id = t['resultSets'][0]['rowSet'][0][6]\n",
      "            away_id = t['resultSets'][0]['rowSet'][0][7]\n",
      "            \n",
      "            idmap = {}\n",
      "            idmap[t['resultSets'][1]['rowSet'][0][3]] = (t['resultSets'][1]['rowSet'][0][4],t['resultSets'][1]['rowSet'][0][21])\n",
      "            idmap[t['resultSets'][1]['rowSet'][1][3]] = (t['resultSets'][1]['rowSet'][1][4],t['resultSets'][1]['rowSet'][1][21])\n",
      "            \n",
      "            # print metadata info\n",
      "            cursheet.write(1,0,t['resultSets'][0]['rowSet'][0][0]) #date\n",
      "            cursheet.write(1,1,idmap[home_id][0]) #home team\n",
      "            cursheet.write(1,2,idmap[home_id][1])\n",
      "            cursheet.write(1,3,idmap[away_id][0]) #visiting team\n",
      "            cursheet.write(1,4,idmap[away_id][1])\n",
      "    \n",
      "            # print player stats\n",
      "            for i in range(len(t['resultSets'][4]['headers'])):\n",
      "                cursheet.write(2,i,t['resultSets'][4]['headers'][i])\n",
      "            for j in range(len(t['resultSets'][4]['rowSet'])):\n",
      "                for k in range(len(t['resultSets'][4]['rowSet'][j])):\n",
      "                    cursheet.write(3+j, k, t['resultSets'][4]['rowSet'][j][k])\n",
      "        \n",
      "    w.save(excel_filename)\n",
      "write_jsons_to_excel('excel_gamedata_2014.xls', 'boxscores/2014')"
     ],
     "language": "python",
     "metadata": {},
     "outputs": [],
     "prompt_number": 59
    },
    {
     "cell_type": "code",
     "collapsed": false,
     "input": [
      "# scrape offensive and def ratings from basketball-reference\n",
      "def get_def_ratings(teams, year):\n",
      "    def_ratings = {}\n",
      "    off_ratings = {}\n",
      "    for team in teams:\n",
      "        team_url = 'http://www.basketball-reference.com/teams/' + team + '/'+ str(year) + '.html'\n",
      "        req = Request(team_url)\n",
      "        try:\n",
      "            response = urlopen(req)\n",
      "        except URLError as e:\n",
      "            if hasattr(e, 'reason'):\n",
      "                print 'We failed to reach a server.'\n",
      "                print 'Reason: ', e.reason\n",
      "            elif hasattr(e, 'code'):\n",
      "                print 'The server couldn\\'t fulfill the request.'\n",
      "                print 'Error code: ', e.code\n",
      "        else:\n",
      "            # everything is fine\n",
      "            html_page = response.read()\n",
      "            search = \"Def Rtg</span></a>: \"\n",
      "            loc = html_page.find(search)\n",
      "            def_ratings[team] = float(html_page[loc+len(search): loc+len(search)+5].rstrip(\" \"))\n",
      "            \n",
      "            search = \"Off Rtg</span></a>: \"\n",
      "            loc = html_page.find(search)\n",
      "            off_ratings[team] = float(html_page[loc+len(search): loc+len(search)+5].rstrip(\" \"))\n",
      "    return def_ratings, off_ratings\n",
      "\n",
      "teams = ['ATL','BOS','BRK','CHA','CHI','CLE','DAL','DEN','DET','GSW','HOU','IND','LAC','LAL','MEM',\n",
      "         'MIA','MIL','MIN','NOP','OKC','ORL','PHI','PHO','POR','SAC','SAS','TOR','UTA','WAS']\n",
      "year = 2014 #2013-2014\n",
      "\n",
      "#def_ratings, off_ratings = get_def_ratings(teams, year) # may take a bit to hit all the teams\n",
      "#print def_ratings\n",
      "#print off_ratings"
     ],
     "language": "python",
     "metadata": {},
     "outputs": [],
     "prompt_number": 37
    },
    {
     "cell_type": "code",
     "collapsed": false,
     "input": [],
     "language": "python",
     "metadata": {},
     "outputs": []
    }
   ],
   "metadata": {}
  }
 ]
}
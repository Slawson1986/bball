{
 "metadata": {
  "name": ""
 },
 "nbformat": 3,
 "nbformat_minor": 0,
 "worksheets": [
  {
   "cells": [
    {
     "cell_type": "code",
     "collapsed": false,
     "input": [
      "import datetime\n",
      "import os\n",
      "import json\n",
      "import numpy as np\n",
      "import pandas as pd\n",
      "import csv"
     ],
     "language": "python",
     "metadata": {},
     "outputs": [],
     "prompt_number": 106
    },
    {
     "cell_type": "code",
     "collapsed": false,
     "input": [
      "# player class\n",
      "class Player:\n",
      "    def __init__(self):\n",
      "        self.info = {}\n",
      "        self.headers = [u'GAME_ID', u'TEAM_ID', \n",
      "                   u'TEAM_ABBREVIATION', u'TEAM_CITY', \n",
      "                   u'PLAYER_ID', u'PLAYER_NAME', \n",
      "                   u'START_POSITION', u'COMMENT', \n",
      "                   u'MIN', u'FGM', u'FGA', \n",
      "                   u'FG_PCT', u'FG3M', u'FG3A', \n",
      "                   u'FG3_PCT', u'FTM', u'FTA', u'FT_PCT', \n",
      "                   u'OREB', u'DREB', u'REB', u'AST', \n",
      "                   u'STL', u'BLK', u'TO', u'PF', u'PTS', \n",
      "                   u'PLUS_MINUS']\n",
      "        for h in self.headers:\n",
      "            self.info[h] = []\n",
      "    \n",
      "    # TODO\n",
      "    def add_game_from_boxscore(self, data):\n",
      "        assert len(data) == len(self.headers)\n",
      "        for i in range(len(data)):\n",
      "            self.info[self.headers[i]].append(data[i])\n",
      "    \n",
      "    # predict the given stat:\n",
      "    # [PTS, FG3M, REB, AST, STL, BLK, TO]\n",
      "    # \n",
      "    \"\"\" currently uses span-6 EWMA but we can change this \"\"\"\n",
      "    def predict(self, stat):\n",
      "        return float(pd.stats.moments.ewma(pandas.Series(self.info[stat]), span=6).tail(1))\n",
      "\n",
      "    \n",
      "    def get_info(self):\n",
      "        return self.info\n",
      "    \n",
      "    def get_name(self):\n",
      "        return self.info['PLAYER_NAME'][-1]\n",
      "    \n",
      "    def __repr__(self):\n",
      "        return self.get_name()\n",
      "    \n",
      "    def __str__(self):\n",
      "        return self.get_name()"
     ],
     "language": "python",
     "metadata": {},
     "outputs": [],
     "prompt_number": 94
    },
    {
     "cell_type": "code",
     "collapsed": false,
     "input": [
      "# calculates expected fantasy points\n",
      "# DK Formula:\n",
      "#   Point = +1 PT\n",
      "#   Made 3pt. shot = +0.5 PTs\n",
      "#   Rebound = +1.25 PTs\n",
      "#   Assist = +1.5 PTs\n",
      "#   Steal = +2 PTs\n",
      "#   Block = +2 PTs\n",
      "#   Turnover = -0.5 PTs\n",
      "#   Double-Double = +1.5PTs (MAX 1 PER PLAYER: Points, Rebounds, Assists, Blocks, Steals)\n",
      "#   Triple-Double = +3PTs (MAX 1 PER PLAYER: Points, Rebounds, Assists, Blocks, Steals)\n",
      "def expected_fp(player, site=\"DraftKings\"):\n",
      "    if site == \"DraftKings\":\n",
      "        fp = 0\n",
      "        doubled = 0\n",
      "        weights = {'PTS': 1.0, 'FG3M': 0.5, 'REB': 1.25, 'AST': 1.5, 'STL': 2.0, 'BLK': 2.0, 'TO': -0.5}\n",
      "        for s, w in weights.iteritems():\n",
      "            v = player.predict(s)\n",
      "            fp += v * w\n",
      "            if s in ['PTS', 'REB', 'AST', 'BLK', 'STL']:\n",
      "                if v >= 10.0:\n",
      "                    doubled += 1\n",
      "        if doubled == 2:\n",
      "            fp += 1.5\n",
      "        elif doubled >= 3:\n",
      "            fp += 4.5 # assume that you get both DD and TD bonus\n",
      "        return fp if not np.isnan(fp) else 0.0\n",
      "    else:\n",
      "        return \"Not yet supported\""
     ],
     "language": "python",
     "metadata": {},
     "outputs": [],
     "prompt_number": 119
    },
    {
     "cell_type": "code",
     "collapsed": false,
     "input": [
      "# loads jsons to memory from box score directory\n",
      "# loads jsons up until and including end_date\n",
      "def load_jsons_to_memory(box_score_directory, end_date):\n",
      "    players = []\n",
      "    player_ids = []\n",
      "    for fn in os.listdir(box_score_directory):\n",
      "        datestring = fn.split('-')[0]\n",
      "        year = int(datestring[0:4])\n",
      "        month = int(datestring[4:6])\n",
      "        day = int(datestring[6:8])\n",
      "        if datetime.date(year, month, day) <= end_date:\n",
      "            with open(os.path.join(box_score_directory, fn)) as f:\n",
      "                t = json.load(f)\n",
      "                for player_data in t['resultSets'][4]['rowSet']:\n",
      "                    # can optimize here by keeping sorted list of player_ids but too lazy\n",
      "                    try:\n",
      "                        ind = player_ids.index(player_data[4])\n",
      "                        players[ind].add_game_from_boxscore(player_data)\n",
      "                    # player not in player_ids\n",
      "                    except ValueError:\n",
      "                        player_ids.append(player_data[4])\n",
      "                        temp_player = Player()\n",
      "                        temp_player.add_game_from_boxscore(player_data)\n",
      "                        players.append(temp_player)   \n",
      "    return players"
     ],
     "language": "python",
     "metadata": {},
     "outputs": [],
     "prompt_number": 120
    },
    {
     "cell_type": "code",
     "collapsed": false,
     "input": [
      "player_data = load_jsons_to_memory('boxscores/2014', datetime.date(2014,11,15))\n",
      "players = [p.get_name() for p in player_data]\n",
      "\n",
      "\n",
      "lookup = 'Tobias Harris'\n",
      "p = player_data[players.index(lookup)]\n",
      "p_info = p.get_info()\n",
      "\n",
      "#for key in p_info:\n",
      "#    print key + \": \" + str(p_info[key])\n",
      "\n",
      "print \"\\npredictions\"\n",
      "\n",
      "for s in ['PTS', 'FG3M', 'REB', 'AST', 'STL', 'BLK', 'TO']:\n",
      "    print s + \": \" + str(p.predict(s))\n",
      "\n",
      "print \"expected FP (DK): \" + str(expected_fp(p, \"DraftKings\"))"
     ],
     "language": "python",
     "metadata": {},
     "outputs": [
      {
       "output_type": "stream",
       "stream": "stdout",
       "text": [
        "\n",
        "predictions\n",
        "PTS: 18.9742870648\n",
        "FG3M: 0.963805781685\n",
        "REB: 8.54930010326\n",
        "AST: 1.99165621492\n",
        "STL: 0.680194289877\n",
        "BLK: 0.533281725173\n",
        "TO: 2.04752959175\n",
        "expected FP (DK): 34.5334866413\n"
       ]
      }
     ],
     "prompt_number": 121
    },
    {
     "cell_type": "code",
     "collapsed": false,
     "input": [
      "team = [\"James Harden\",\n",
      "        \"Dwight Howard\",\n",
      "        \"Reggie Jackson\",\n",
      "        \"Brandon Knight\",\n",
      "        \"Anthony Morrow\",\n",
      "        \"Donatas Motiejunas\",\n",
      "        \"Ed Davis\",\n",
      "        \"Marreese Speights\"]\n",
      "predicted = []\n",
      "for t in team:\n",
      "    p = player_data[players.index(t)]\n",
      "    expected = expected_fp(p)\n",
      "    predicted.append(expected)\n",
      "    print t + \": \" + str(expected)\n",
      "\n",
      "print \"Total: \" + str(sum(predicted))"
     ],
     "language": "python",
     "metadata": {},
     "outputs": [
      {
       "output_type": "stream",
       "stream": "stdout",
       "text": [
        "James Harden: 51.3410844817\n",
        "Dwight Howard: 49.6599408914\n",
        "Reggie Jackson: 42.7405321578\n",
        "Brandon Knight: 34.5881938018\n",
        "Anthony Morrow: 22.4587155963\n",
        "Donatas Motiejunas: 19.6618605334\n",
        "Ed Davis: 19.4945506804\n",
        "Marreese Speights: 18.6218069524\n",
        "Total: 258.566685095\n"
       ]
      }
     ],
     "prompt_number": 126
    },
    {
     "cell_type": "code",
     "collapsed": false,
     "input": [
      "# write predictions to excel sheet\n",
      "def write_predictions(player_data, excel_fn):\n",
      "    predictions = {}\n",
      "    for p in player_data:\n",
      "        predictions[p.get_name()] = expected_fp(p)\n",
      "    #print predictions\n",
      "    with open(excel_fn, 'wb') as f:\n",
      "        writer = csv.writer(f)\n",
      "        for k, v in predictions.iteritems():\n",
      "            writer.writerow([k, v])\n",
      "    return True\n",
      "\n",
      "write_predictions(player_data, 'model_predictions.csv')"
     ],
     "language": "python",
     "metadata": {},
     "outputs": [
      {
       "metadata": {},
       "output_type": "pyout",
       "prompt_number": 125,
       "text": [
        "True"
       ]
      }
     ],
     "prompt_number": 125
    },
    {
     "cell_type": "code",
     "collapsed": false,
     "input": [],
     "language": "python",
     "metadata": {},
     "outputs": [],
     "prompt_number": 107
    },
    {
     "cell_type": "code",
     "collapsed": false,
     "input": [],
     "language": "python",
     "metadata": {},
     "outputs": []
    }
   ],
   "metadata": {}
  }
 ]
}
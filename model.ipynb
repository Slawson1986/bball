{
 "metadata": {
  "name": "",
  "signature": "sha256:4420334fa00b07c11a5581ad329e9cd2fba6a2a8391db99c680dcc992cd92032"
 },
 "nbformat": 3,
 "nbformat_minor": 0,
 "worksheets": [
  {
   "cells": [
    {
     "cell_type": "code",
     "collapsed": false,
     "input": [
      "import os\n",
      "import datetime\n",
      "import numpy as np\n",
      "import pandas as pd\n",
      "import matplotlib.pyplot as plt\n",
      "%matplotlib inline\n",
      "import statsmodels.formula.api as sm\n",
      "\n",
      "# custom modules\n",
      "import data_getters, model, boxscores, optimizer\n",
      "from entities import Player, Game"
     ],
     "language": "python",
     "metadata": {},
     "outputs": [],
     "prompt_number": 1
    },
    {
     "cell_type": "code",
     "collapsed": false,
     "input": [
      "# TODO: CHANGE latest_day\n",
      "latest_day = datetime.date(2014,12,11)\n",
      "dk = 'DraftKings'\n",
      "fd = 'FanDuel'"
     ],
     "language": "python",
     "metadata": {},
     "outputs": [],
     "prompt_number": 2
    },
    {
     "cell_type": "code",
     "collapsed": false,
     "input": [
      "########## RUN ONLY ONCE A DAY ##########\n",
      "\n",
      "# Downloads latest boxscores.\n",
      "data_getters.download_gamelog_jsons(2014,'boxscores_advanced/2014',boxtype='advanced',start_game=308, end_game=1230)"
     ],
     "language": "python",
     "metadata": {},
     "outputs": [
      {
       "output_type": "stream",
       "stream": "stdout",
       "text": [
        "308\n",
        "20141209-TORCLE"
       ]
      },
      {
       "output_type": "stream",
       "stream": "stdout",
       "text": [
        "\n",
        "309\n",
        "20141209-PORDET"
       ]
      },
      {
       "output_type": "stream",
       "stream": "stdout",
       "text": [
        "\n",
        "310\n",
        "20141209-DALMEM"
       ]
      },
      {
       "output_type": "stream",
       "stream": "stdout",
       "text": [
        "\n",
        "311\n",
        "20141209-NYKNOP"
       ]
      },
      {
       "output_type": "stream",
       "stream": "stdout",
       "text": [
        "\n",
        "312\n",
        "20141209-MILOKC"
       ]
      },
      {
       "output_type": "stream",
       "stream": "stdout",
       "text": [
        "\n",
        "313\n",
        "20141209-MIAPHX"
       ]
      },
      {
       "output_type": "stream",
       "stream": "stdout",
       "text": [
        "\n",
        "314\n",
        "20141209-SASUTA"
       ]
      },
      {
       "output_type": "stream",
       "stream": "stdout",
       "text": [
        "\n",
        "315\n",
        "20141209-SACLAL"
       ]
      },
      {
       "output_type": "stream",
       "stream": "stdout",
       "text": [
        "\n",
        "316\n",
        "20141210-BOSCHA"
       ]
      },
      {
       "output_type": "stream",
       "stream": "stdout",
       "text": [
        "\n",
        "317\n",
        "20141210-LACIND"
       ]
      },
      {
       "output_type": "stream",
       "stream": "stdout",
       "text": [
        "\n",
        "318\n",
        "20141210-WASORL"
       ]
      },
      {
       "output_type": "stream",
       "stream": "stdout",
       "text": [
        "\n",
        "319\n",
        "20141210-PHIATL"
       ]
      },
      {
       "output_type": "stream",
       "stream": "stdout",
       "text": [
        "\n",
        "320\n",
        "20141210-BKNCHI"
       ]
      },
      {
       "output_type": "stream",
       "stream": "stdout",
       "text": [
        "\n",
        "321\n",
        "20141210-PORMIN"
       ]
      },
      {
       "output_type": "stream",
       "stream": "stdout",
       "text": [
        "\n",
        "322\n",
        "20141210-NYKSAS"
       ]
      },
      {
       "output_type": "stream",
       "stream": "stdout",
       "text": [
        "\n",
        "323\n",
        "20141210-NOPDAL"
       ]
      },
      {
       "output_type": "stream",
       "stream": "stdout",
       "text": [
        "\n",
        "324\n",
        "20141210-HOUGSW"
       ]
      },
      {
       "output_type": "stream",
       "stream": "stdout",
       "text": [
        "\n",
        "325\n",
        "20141210-MIADEN"
       ]
      },
      {
       "output_type": "stream",
       "stream": "stdout",
       "text": [
        "\n",
        "326\n",
        "20141211-CLEOKC"
       ]
      },
      {
       "output_type": "stream",
       "stream": "stdout",
       "text": [
        "\n",
        "327\n",
        "20141211-HOUSAC"
       ]
      },
      {
       "output_type": "stream",
       "stream": "stdout",
       "text": [
        "\n",
        "328\n",
        "Downloaded until game 327"
       ]
      },
      {
       "output_type": "stream",
       "stream": "stdout",
       "text": [
        "\n"
       ]
      }
     ],
     "prompt_number": 3
    },
    {
     "cell_type": "code",
     "collapsed": false,
     "input": [
      "########## RUN JUST ONCE A DAY ##########\n",
      "### if already run, run the next cell to load from excel rather than rescraping ###\n",
      "\n",
      "# downloads vegas lines (add one to date because lines are current for today's games whereas ratings are up to games from yesterday)\n",
      "vegas_lines = data_getters.get_vegas_lines('vegas_lines/' + str(latest_day+datetime.timedelta(days=1)) + '_lines.csv', site='covers')\n",
      "print vegas_lines\n",
      "\n",
      "# downloads defensive and offensive ratings\n",
      "def_ratings, off_ratings = data_getters.get_ratings(2015, 'defoff_ratings/' + str(latest_day) + '.csv') # may take a bit to hit all the teams"
     ],
     "language": "python",
     "metadata": {},
     "outputs": [
      {
       "output_type": "stream",
       "stream": "stdout",
       "text": [
        "{u'Oklahoma City@Minnesota': [205.0, 8.5], u'New York@Boston': [195.5, -6.5], u'L.A. Lakers@San Antonio': [204.5, -9.5], u'Indiana@Toronto': [197.5, -9.0], u'L.A. Clippers@Washington': [202.5, 2.5], u'Charlotte@Memphis': [193.0, -10.0], u'Miami@Utah': [191.0, -1.5], u'Detroit@Phoenix': [202.0, -9.5], u'Philadelphia@Brooklyn': [193.5, -9.5], u'Orlando@Atlanta': [196.5, -9.5], u'Portland@Chicago': [200.0, -2.0], u'Cleveland@New Orleans': [205.5, 3.0]}\n",
        "ATL\n",
        "BOS"
       ]
      },
      {
       "output_type": "stream",
       "stream": "stdout",
       "text": [
        "\n",
        "BRK"
       ]
      },
      {
       "output_type": "stream",
       "stream": "stdout",
       "text": [
        "\n",
        "CHO"
       ]
      },
      {
       "output_type": "stream",
       "stream": "stdout",
       "text": [
        "\n",
        "CHI"
       ]
      },
      {
       "output_type": "stream",
       "stream": "stdout",
       "text": [
        "\n",
        "CLE"
       ]
      },
      {
       "output_type": "stream",
       "stream": "stdout",
       "text": [
        "\n",
        "DAL"
       ]
      },
      {
       "output_type": "stream",
       "stream": "stdout",
       "text": [
        "\n",
        "DEN"
       ]
      },
      {
       "output_type": "stream",
       "stream": "stdout",
       "text": [
        "\n",
        "DET"
       ]
      },
      {
       "output_type": "stream",
       "stream": "stdout",
       "text": [
        "\n",
        "GSW"
       ]
      },
      {
       "output_type": "stream",
       "stream": "stdout",
       "text": [
        "\n",
        "HOU"
       ]
      },
      {
       "output_type": "stream",
       "stream": "stdout",
       "text": [
        "\n",
        "IND"
       ]
      },
      {
       "output_type": "stream",
       "stream": "stdout",
       "text": [
        "\n",
        "LAC"
       ]
      },
      {
       "output_type": "stream",
       "stream": "stdout",
       "text": [
        "\n",
        "LAL"
       ]
      },
      {
       "output_type": "stream",
       "stream": "stdout",
       "text": [
        "\n",
        "MEM"
       ]
      },
      {
       "output_type": "stream",
       "stream": "stdout",
       "text": [
        "\n",
        "MIA"
       ]
      },
      {
       "output_type": "stream",
       "stream": "stdout",
       "text": [
        "\n",
        "MIL"
       ]
      },
      {
       "output_type": "stream",
       "stream": "stdout",
       "text": [
        "\n",
        "MIN"
       ]
      },
      {
       "output_type": "stream",
       "stream": "stdout",
       "text": [
        "\n",
        "NOP"
       ]
      },
      {
       "output_type": "stream",
       "stream": "stdout",
       "text": [
        "\n",
        "NYK"
       ]
      },
      {
       "output_type": "stream",
       "stream": "stdout",
       "text": [
        "\n",
        "OKC"
       ]
      },
      {
       "output_type": "stream",
       "stream": "stdout",
       "text": [
        "\n",
        "ORL"
       ]
      },
      {
       "output_type": "stream",
       "stream": "stdout",
       "text": [
        "\n",
        "PHI"
       ]
      },
      {
       "output_type": "stream",
       "stream": "stdout",
       "text": [
        "\n",
        "PHO"
       ]
      },
      {
       "output_type": "stream",
       "stream": "stdout",
       "text": [
        "\n",
        "POR"
       ]
      },
      {
       "output_type": "stream",
       "stream": "stdout",
       "text": [
        "\n",
        "SAC"
       ]
      },
      {
       "output_type": "stream",
       "stream": "stdout",
       "text": [
        "\n",
        "SAS"
       ]
      },
      {
       "output_type": "stream",
       "stream": "stdout",
       "text": [
        "\n",
        "TOR"
       ]
      },
      {
       "output_type": "stream",
       "stream": "stdout",
       "text": [
        "\n",
        "UTA"
       ]
      },
      {
       "output_type": "stream",
       "stream": "stdout",
       "text": [
        "\n",
        "WAS"
       ]
      },
      {
       "output_type": "stream",
       "stream": "stdout",
       "text": [
        "\n"
       ]
      }
     ],
     "prompt_number": 4
    },
    {
     "cell_type": "code",
     "collapsed": false,
     "input": [
      "# LOAD vegas lines and def/off ratings to memory from excel files\n",
      "vegas_lines = data_getters.read_from_file('vegas_lines', 'vegas_lines/' + str(latest_day+datetime.timedelta(days=1)) +'_lines.csv')\n",
      "\n",
      "def_ratings, off_ratings = data_getters.read_from_file('ratings', 'defoff_ratings/' + str(latest_day) + '.csv')\n",
      "\n",
      "print vegas_lines"
     ],
     "language": "python",
     "metadata": {},
     "outputs": [
      {
       "output_type": "stream",
       "stream": "stdout",
       "text": [
        "{'Oklahoma City@Minnesota': [205.0, 8.5], 'New York@Boston': [195.5, -6.5], 'L.A. Lakers@San Antonio': [204.5, -9.5], 'Indiana@Toronto': [197.5, -9.0], 'L.A. Clippers@Washington': [202.5, 2.5], 'Charlotte@Memphis': [193.0, -10.0], 'Miami@Utah': [191.0, -1.5], 'Detroit@Phoenix': [202.0, -9.5], 'Philadelphia@Brooklyn': [193.5, -9.5], 'Orlando@Atlanta': [196.5, -9.5], 'Portland@Chicago': [200.0, -2.0], 'Cleveland@New Orleans': [205.5, 3.0]}\n"
       ]
      }
     ],
     "prompt_number": 5
    },
    {
     "cell_type": "code",
     "collapsed": false,
     "input": [
      "##### LOADS BOXSCORE DATA TO MEMORY #####\n",
      "player_data, game_data = boxscores.load_jsons_to_memory('boxscores_advanced/2014', latest_day)\n",
      "players = [p.get_name() for p in player_data]\n",
      "\n",
      "# writes EMA model results\n",
      "ema_dk_projections = model.write_predictions(player_data, 'ema', vegas_lines=None, def_ratings=None, off_ratings=None,\n",
      "                        excel_fn='model_predictions/model_predictions_' + dk + '_' + str(latest_day) + '.csv', dfs_site=dk)\n",
      "ema_fd_projections = model.write_predictions(player_data, 'ema', vegas_lines=None, def_ratings=None, off_ratings=None,\n",
      "                        excel_fn='model_predictions/model_predictions_' + fd + '_' + str(latest_day) + '.csv', dfs_site=fd)\n",
      "\n",
      "# writes possession model results\n",
      "minutes_adjustments = {'Greivis Vasquez': 31.0,\n",
      "                       'Zach LaVine': 37.0,\n",
      "                       #'Eric Bledsoe': 36.0,\n",
      "                       'Cory Joseph': 33.0,\n",
      "                       'Ronnie Price': 25.,\n",
      "                       'Ed Davis': 30.0,\n",
      "                       #'Gerald Green': 35.0,\n",
      "                       #'Marcus Morris': 25.,\n",
      "                       #'Mario Chalmers': 31\n",
      "                       }\n",
      "poss_dk_projections = model.write_predictions(player_data, 'possessions', vegas_lines, def_ratings, off_ratings,\n",
      "                        'model_predictions/pos_model_predictions_' + dk + '_' + str(latest_day) + '.csv', dk, minutes_adjustments)"
     ],
     "language": "python",
     "metadata": {},
     "outputs": [],
     "prompt_number": 6
    },
    {
     "cell_type": "code",
     "collapsed": false,
     "input": [
      "print poss_dk_projections['Tim Duncan']\n",
      "print poss_dk_projections['Josh Smith']"
     ],
     "language": "python",
     "metadata": {},
     "outputs": [
      {
       "output_type": "stream",
       "stream": "stdout",
       "text": [
        "37.7352297519\n",
        "35.646905742\n"
       ]
      }
     ],
     "prompt_number": 7
    },
    {
     "cell_type": "code",
     "collapsed": false,
     "input": [
      "##### RUN OPTIMIZER #####\n",
      "fn = 'draftkings_data/DKSalaries_'+(latest_day+datetime.timedelta(days=1)).strftime('%m%d%Y')+'.csv'\n",
      "\n",
      "adjustments = {'Kevin Martin': 0.0, #injury - wrist (early jan)\n",
      "               'Terrence Jones': 0.0, #injury - leg\n",
      "               'Perry Jones': 0.0, #injury\n",
      "               'Michael Kidd-Gilchrist': 0.0, #injury\n",
      "               'David Lee': 0.0, #injured - hamstring\n",
      "               'Dwight Howard': 0.0, # doubtful - knee\n",
      "               'Ricky Rubio': 0.0, #injured - ankle (early jan)\n",
      "               'Eric Gordon': 0.0, #out indefinitely\n",
      "               'Aaron Gordon': 0.0, #out indefinitely\n",
      "               'Tiago Splitter': 0.0, #out indefinitely\n",
      "               'Tony Wroten': 0.0,\n",
      "               'Nikola Pekovic': 0.0,\n",
      "               'Jeff Adrien': 0,\n",
      "               'Reggie Jackson': 0,\n",
      "               'DeMarcus Cousins': 0,\n",
      "               'Ersan Ilyasova': 0,\n",
      "               'Brook Lopez': 0,\n",
      "               'Mo Williams': 0,\n",
      "               'Andrew Bogut': 0,\n",
      "               'Tayshaun Prince': 0,\n",
      "               'Lavoy Allen': 0,\n",
      "               'Joakim Noah': 0\n",
      "               #'Donald Sloan': 0\n",
      "              }\n",
      "\n",
      "num_lineups = 20\n",
      "\n",
      "# other constraints\n",
      "other_constraints = {'max_players_per_game': 4}\n",
      "\n",
      "##### gets results for pure DraftKings projections #####\n",
      "#results = optimizer.run_optimization(fn, None, adjustments, num_lineups, other_constraints)\n",
      "\n",
      "##### gets results for our EMA DraftKings projections #####\n",
      "#results = optimizer.run_optimization(fn, ema_dk_projections, adjustments, num_lineups, other_constraints)\n",
      "\n",
      "##### gets results for our possessions model projections #####\n",
      "results = optimizer.run_optimization(fn, poss_dk_projections, adjustments, num_lineups, other_constraints)\n",
      "\n",
      "# get best teams of every night\n",
      "pool = {}\n",
      "for r in results:\n",
      "    print r['value'], r['team']\n",
      "    for player in r['team']:\n",
      "        if player not in pool:\n",
      "            pool[player] = 1\n",
      "        else:\n",
      "            pool[player] += 1\n",
      "\n",
      "print \"\\nPool of players in top \" + str(num_lineups) + \" lineups:\"\n",
      "for s in sorted( ((v,k) for k,v in pool.iteritems()), reverse=True):\n",
      "    print s\n",
      "\n"
     ],
     "language": "python",
     "metadata": {},
     "outputs": [
      {
       "output_type": "stream",
       "stream": "stdout",
       "text": [
        "255.42479802 ['Pau Gasol', 'Tim Duncan', 'Jrue Holiday', 'Jimmy Butler', 'Corey Brewer', 'Jonas Valanciunas', 'Rasual Butler', 'Kendrick Perkins']\n",
        "255.30928468 ['Kyle Lowry', 'Pau Gasol', 'Tim Duncan', 'Corey Brewer', 'Jonas Valanciunas', 'Manu Ginobili', 'Rasual Butler', 'Kendrick Perkins']\n",
        "255.22888848 ['Pau Gasol', 'Tim Duncan', 'Jrue Holiday', 'Jimmy Butler', 'Corey Brewer', 'Jonas Valanciunas', 'Rasual Butler', 'Donald Sloan']\n",
        "255.14189732 ['Kyle Lowry', 'Pau Gasol', 'Tim Duncan', 'Corey Brewer', 'Jonas Valanciunas', 'Jeremy Lamb', 'Kelly Olynyk', 'Rasual Butler']\n",
        "255.11337514 ['Kyle Lowry', 'Pau Gasol', 'Tim Duncan', 'Corey Brewer', 'Jonas Valanciunas', 'Manu Ginobili', 'Rasual Butler', 'Donald Sloan']\n",
        "255.07732449 ['Pau Gasol', 'Tim Duncan', 'DeAndre Jordan', 'Jimmy Butler', 'Corey Brewer', 'Jonas Valanciunas', 'Rasual Butler', 'Donald Sloan']\n",
        "255.04033916 ['Pau Gasol', 'Tim Duncan', 'Marc Gasol', 'Jimmy Butler', 'Jonas Valanciunas', 'Elfrid Payton', 'Shabazz Muhammad', 'Rasual Butler']\n",
        "254.89652674 ['Kyle Lowry', 'Pau Gasol', 'Tim Duncan', 'Corey Brewer', 'Jonas Valanciunas', 'Jeremy Lamb', 'C.J. Watson', 'Rasual Butler']\n",
        "254.82685161 ['Pau Gasol', 'Tim Duncan', 'Jimmy Butler', 'Tobias Harris', 'Corey Brewer', 'Jonas Valanciunas', 'Elfrid Payton', 'Rasual Butler']\n",
        "254.80417548 ['Pau Gasol', 'Tim Duncan', 'Eric Bledsoe', 'Jrue Holiday', 'Jonas Valanciunas', 'Shabazz Muhammad', 'Dennis Schroder', 'Rasual Butler']\n",
        "254.80031432 ['Pau Gasol', 'Tim Duncan', 'Jrue Holiday', 'Jimmy Butler', 'Jonas Valanciunas', 'Greivis Vasquez', 'Shabazz Muhammad', 'Rasual Butler']\n",
        "254.68957585 ['Pau Gasol', 'Tim Duncan', 'Marc Gasol', 'Jimmy Butler', 'Jonas Valanciunas', 'Paul Pierce', 'Rasual Butler', 'Donald Sloan']\n",
        "254.68480097 ['Kyle Lowry', 'Pau Gasol', 'Tim Duncan', 'Jonas Valanciunas', 'Manu Ginobili', 'Greivis Vasquez', 'Shabazz Muhammad', 'Rasual Butler']\n",
        "254.67619553 ['Pau Gasol', 'Tim Duncan', 'Jrue Holiday', 'Jimmy Butler', 'Corey Brewer', 'Greivis Vasquez', 'Kelly Olynyk', 'Rasual Butler']\n",
        "254.65261149 ['Pau Gasol', 'Tim Duncan', 'Eric Bledsoe', 'DeAndre Jordan', 'Jonas Valanciunas', 'Shabazz Muhammad', 'Dennis Schroder', 'Rasual Butler']\n",
        "254.64875033 ['Pau Gasol', 'Tim Duncan', 'DeAndre Jordan', 'Jimmy Butler', 'Jonas Valanciunas', 'Greivis Vasquez', 'Shabazz Muhammad', 'Rasual Butler']\n",
        "254.61159734 ['Pau Gasol', 'Tim Duncan', 'Jrue Holiday', 'Jimmy Butler', 'Corey Brewer', 'Jonas Valanciunas', 'Rasual Butler', 'Matthew Dellavedova']\n",
        "254.58987096 ['Pau Gasol', 'Tim Duncan', 'Jrue Holiday', 'Corey Brewer', 'Jonas Valanciunas', 'Paul Pierce', 'Manu Ginobili', 'Rasual Butler']\n",
        "254.56450982 ['Kyle Lowry', 'Pau Gasol', 'Tim Duncan', 'Corey Brewer', 'Jonas Valanciunas', 'Jeremy Lamb', 'Shabazz Muhammad', 'Rasual Butler']\n",
        "254.5284927 ['Pau Gasol', 'Tim Duncan', 'Eric Bledsoe', 'DeAndre Jordan', 'Corey Brewer', 'Kelly Olynyk', 'Dennis Schroder', 'Rasual Butler']\n",
        "\n",
        "Pool of players in top 20 lineups:\n",
        "(20, 'Tim Duncan')\n",
        "(20, 'Rasual Butler')\n",
        "(20, 'Pau Gasol')\n",
        "(18, 'Jonas Valanciunas')\n",
        "(13, 'Corey Brewer')\n",
        "(10, 'Jimmy Butler')\n",
        "(7, 'Shabazz Muhammad')\n",
        "(7, 'Jrue Holiday')\n",
        "(6, 'Kyle Lowry')\n",
        "(4, 'Manu Ginobili')\n",
        "(4, 'Greivis Vasquez')\n",
        "(4, 'Donald Sloan')\n",
        "(4, 'DeAndre Jordan')\n",
        "(3, 'Kelly Olynyk')\n",
        "(3, 'Jeremy Lamb')\n",
        "(3, 'Eric Bledsoe')\n",
        "(3, 'Dennis Schroder')\n",
        "(2, 'Paul Pierce')\n",
        "(2, 'Marc Gasol')\n",
        "(2, 'Kendrick Perkins')\n",
        "(2, 'Elfrid Payton')\n",
        "(1, 'Tobias Harris')\n",
        "(1, 'Matthew Dellavedova')\n",
        "(1, 'C.J. Watson')\n"
       ]
      }
     ],
     "prompt_number": 12
    },
    {
     "cell_type": "code",
     "collapsed": false,
     "input": [
      "##### CALCULATES FP FOR A GIVEN TEAM #####\n",
      "\n",
      "# team: list of players\n",
      "# game_number: if \"predict\", then uses the specified model to predict the next game's results\n",
      "#   if an actual number, calculates past results for that game. use -1 for the last game, or 0 for the first game, 1 for the second, etc.\n",
      "# modeL: if game_number=='predict', uses the appropriate model to make projections for the next game. possessions model only \n",
      "#    works if vegas line exists\n",
      "# site: uses that site's scoring system\n",
      "def print_summary(team, game_number, model, site='DraftKings'):\n",
      "    score = []\n",
      "    var = []\n",
      "    for t in team:\n",
      "        p = player_data[players.index(t)]\n",
      "        if model == 'EMA' or game_number!='predict':\n",
      "            score.append(p.calculate_fp(game_number, site))\n",
      "        elif model == 'possessions':\n",
      "            score.append(poss_dk_projections[p.get_name()])\n",
      "        var.append(p.calculate_fp_variance(scaled=False))\n",
      "        if score[-1] is not None:\n",
      "            print t + \": \" + \"%.2f\" % score[-1] + \"\\t\\tStd: \" + \"%.2f\" % np.sqrt(var[-1]) + \"\\t ScaledStd: \" + \"%.2f\" % (np.sqrt(var[-1])/score[-1])\n",
      "        else:\n",
      "            print t + \": \" + \"0.0\"\n",
      "    print \"Total: \" + str(sum([x for x in score if x != None]))\n",
      "    print \"Std of lineup: \" + str(np.sqrt(sum(var)))\n",
      "\n",
      "\n",
      "team = ['Kyle Lowry', 'DeAndre Jordan', 'Klay Thompson', 'Draymond Green', 'Mirza Teletovic', 'Greivis Vasquez', 'Kris Humphries', 'Rasual Butler']\n",
      "#team = ['Eric Bledsoe', 'DeAndre Jordan', 'Klay Thompson', 'Draymond Green', 'Mirza Teletovic', 'Amir Johnson', 'Greivis Vasquez', 'Zach LaVine']\n",
      "print_summary(team, game_number=-1, model='possessions', site='DraftKings')\n"
     ],
     "language": "python",
     "metadata": {},
     "outputs": [
      {
       "output_type": "stream",
       "stream": "stdout",
       "text": [
        "Kyle Lowry: 37.75\t\tStd: 9.33\t ScaledStd: 0.25\n",
        "DeAndre Jordan: 40.50\t\tStd: 10.24\t ScaledStd: 0.25\n",
        "Klay Thompson: 27.75\t\tStd: 8.50\t ScaledStd: 0.31\n",
        "Draymond Green: 37.00\t\tStd: 10.83\t ScaledStd: 0.29\n",
        "Mirza Teletovic: 21.50\t\tStd: 11.35\t ScaledStd: 0.53\n",
        "Greivis Vasquez: 25.75\t\tStd: 8.10\t ScaledStd: 0.31\n",
        "Kris Humphries: 32.75\t\tStd: 10.85\t ScaledStd: 0.33\n",
        "Rasual Butler: 12.25\t\tStd: 10.08\t ScaledStd: 0.82\n",
        "Total: 235.25\n",
        "Std of lineup: 28.2024875033\n"
       ]
      }
     ],
     "prompt_number": 12
    },
    {
     "cell_type": "code",
     "collapsed": false,
     "input": [],
     "language": "python",
     "metadata": {},
     "outputs": [],
     "prompt_number": 25
    },
    {
     "cell_type": "code",
     "collapsed": false,
     "input": [
      "# EXAMPLE USAGE\n",
      "lookup = 'Ty Lawson'\n",
      "p = player_data[players.index(lookup)]\n",
      "p_info = p.get_info()\n",
      "p_adv_info = p.get_adv_info()\n",
      "\n",
      "#for key in p_info:\n",
      "#    print key + \": \" + str(p_info[key])\n",
      "\n",
      "#for key in p_adv_info:\n",
      "#    print key + \": \" + str(p_adv_info[key])\n",
      "    \n",
      "print \"\\npredictions\"\n",
      "\n",
      "for s in ['PTS', 'FG3M', 'REB', 'AST', 'STL', 'BLK', 'TO']:\n",
      "    print s + \": \" + str(p.predict(s))\n",
      "\n",
      "print \"expected FP (DK): \" + str(p.calculate_fp(game_number=-1, site=\"DraftKings\"))\n",
      "\n",
      "p.possessions_model(105.)"
     ],
     "language": "python",
     "metadata": {},
     "outputs": []
    },
    {
     "cell_type": "code",
     "collapsed": false,
     "input": [
      "# BACKTESTER\n",
      "# Backtester basically first uses all days except the desired day to make projections, then calculates the actual fpts\n",
      "# performance of all players on the desired day. The optimizer then runs with the projections, and then the fpts of the teams \n",
      "# it spits out is returned. The backtester supports multiple lineups on each day. \n",
      "\n",
      "import os\n",
      "import datetime\n",
      "import data_getters, model, boxscores, optimizer\n",
      "\n",
      "date = datetime.date(2014,11,1)\n",
      "end_date = datetime.date(2014,11,30)\n",
      "dk = 'DraftKings'\n",
      "num_lineups = 10\n",
      "\n",
      "# backtest through date range\n",
      "while date < end_date:\n",
      "    # load data up to the date\n",
      "    player_data, game_data = boxscores.load_jsons_to_memory('boxscores_advanced/2014', date-datetime.timedelta(days=1))\n",
      "    players = [p.get_name() for p in player_data]\n",
      "\n",
      "    # get predictions given data up to the day before the desired date\n",
      "    ema_dk_projections = model.write_predictions(player_data, 'ema', vegas_lines=None, def_ratings=None, off_ratings=None,excel_fn='model_predictions/model_predictions_' + dk + '_' + str(date) + '.csv', dfs_site=dk)\n",
      "\n",
      "    adjustments = {} # fades/injuries\n",
      "    players_fpts = {} # player performance of desired day\n",
      "    \n",
      "    # load the boxscore up to desired date\n",
      "    player_data, game_data = boxscores.load_jsons_to_memory('boxscores_advanced/2014', date)\n",
      "    #print \"length\", len(player_data[0].info['GAME_ID'])\n",
      "    players = [p.get_name() for p in player_data]\n",
      "    \n",
      "    # go through players, get the game_id that the player is in on the given date, and\n",
      "    # put player's fantasy performance into players_fpts\n",
      "    for player_name in players:\n",
      "        player = player_data[players.index(player_name)]\n",
      "        relevant_games =[g for g in game_data if g.home_info['TEAM_ABBREVIATION'] == player.info['TEAM_ABBREVIATION'][0] or g.away_info['TEAM_ABBREVIATION'] == player.info['TEAM_ABBREVIATION'][0]]\n",
      "        game_dates = [g.home_info['GAME_DATE_EST'] for g in relevant_games]\n",
      "        game_date_objs = []\n",
      "        for game_date in game_dates:\n",
      "            date_attrs = game_date.split(\"T\")[0].split('-')\n",
      "            game_date_objs.append(datetime.date(int(date_attrs[0]), int(date_attrs[1]), int(date_attrs[2])))\n",
      "        try:\n",
      "            game_id = relevant_games[game_date_objs.index(date)].home_info['GAME_ID']\n",
      "            index = player.info['GAME_ID'].index(game_id) \n",
      "            players_fpts[player_name] = player.calculate_fp(game_number=index)\n",
      "            if players_fpts[player_name] == None: # can't compute player fp due to injury, coach's decision to not play, etc. \n",
      "                adjustments[player_name] = 0.0\n",
      "        except Exception as e: # player didn't play on the date or doesn't have the game_id (both cases do occur, i've checked)\n",
      "            adjustments[player_name] = 0.0 \n",
      "            \n",
      "    try:\n",
      "        fn = 'DKSalaries_' + date.strftime('%m%d%Y') + '.csv' \n",
      "        print fn\n",
      "        \n",
      "        # weird bug where player might not be in our players dict. if this happens, toss player and rerun optimizer\n",
      "        # TODO: investigate bug more -- what's really going on? \n",
      "        finished = False\n",
      "        \n",
      "        \n",
      "        adjustments_disc = {'Kevin Martin': 0.0, #injury - wrist (early jan)\n",
      "               'Terrence Jones': 0.0, #injury - leg\n",
      "               'Perry Jones': 0.0, #injury\n",
      "               'Gary Neal': 0.0, #QUESTIONABLE\n",
      "               'Marvin Williams': 0.0, #QUESTIONABLE\n",
      "               'Michael Kidd-Gilchrist': 0.0, #injury\n",
      "               'Joakim Noah': 0.0, #questionable - knee\n",
      "               'Taj Gibson': 0.0, #doubtful - ankle\n",
      "               'Derrick Rose': 0.0, #doubtful - hamstring\n",
      "               'Raymond Felton': 0.0, #QUESTIONABLE\n",
      "               'Jameer Nelson': 0.0, #QUESTIONABLE\n",
      "               'JaVale McGee': 0.0, #QUESTIONABLE\n",
      "               'Danilo Gallinari': 0.0, #QUESTIONABLE\n",
      "               'Brandon Jennings': 0.0, #QUESTIONABLE\n",
      "               'David Lee': 0.0, #injured - hamstring\n",
      "               'Dwight Howard': 0.0, # doubtful - knee\n",
      "               'Patrick Beverley': 0.0, #doubtful - hamstring\n",
      "               'George Hill': 0.0, #QUESTIONABLE\n",
      "               'C.J. Watson': 0.0, #QUESTIONABLE\n",
      "               'David West': 0.0, #QUESTIONABLE\n",
      "               'Roy Hibbert': 0.0, #QUESTIONABLE\n",
      "               'Matt Barnes': 0.0, #QUESTIONABLE\n",
      "               'Dwyane Wade': 0.0, #QUESTIONABLE\n",
      "               'Ricky Rubio': 0.0, #injured - ankle (early jan)\n",
      "               'Eric Gordon': 0.0, #out indefinitely\n",
      "               'Carmelo Anthony': 0.0, # doubtful - back\n",
      "               'Aaron Gordon': 0.0, #out indefinitely\n",
      "               'Isaiah Thomas': 0.0, #questionable, ankle\n",
      "               'Darren Collison': 0.0, # questionable, quad\n",
      "               'Rudy Gay': 0.0, #questionable, achilles\n",
      "               'Tiago Splitter': 0.0, #out indefinitely\n",
      "               'Tyler Hansbrough': 0.0, #doubtful\n",
      "               'Nene Hilario': 0.0, #QUESTIONABLE\n",
      "               'Dirk Nowitzki': 0.0,\n",
      "               'Ersan Ilyasova': 0.0,\n",
      "               'Jamal Crawford': 0.0,\n",
      "               'Tony Wroten': 0.0,\n",
      "               'Kemba Walker':0.0\n",
      "               #'Andrew Wiggins': 0.0, #nope\n",
      "              }\n",
      "        for key in adjustments_disc.keys():\n",
      "            adjustments[key] = 0.0\n",
      "        \n",
      "        while (finished == False):\n",
      "            finished = True\n",
      "            results = optimizer.run_optimization(os.path.join('draftkings_data', fn), ema_dk_projections, adjustments, num_lineups)\n",
      "            for i in range(num_lineups): #make sure all lineups are valid\n",
      "                for player_name in results[i]['team']:\n",
      "                    if player_name not in players_fpts.keys():\n",
      "                        adjustments[player_name] = 0.0\n",
      "                        finished = False\n",
      "        for i in range(num_lineups):\n",
      "            team_fpts = 0.0\n",
      "            for player_name in results[i]['team']:\n",
      "                team_fpts += players_fpts[player_name] \n",
      "            print results[i]['team'] , team_fpts, str(date)\n",
      "    except IOError, e:\n",
      "        print 'no cost data for date ' + str(date)\n",
      "        #print 'no cost data for date ' + str(date) \n",
      "    \n",
      "    print \"\\n\"\n",
      "    date += datetime.timedelta(days=1)\n",
      "            "
     ],
     "language": "python",
     "metadata": {},
     "outputs": []
    },
    {
     "cell_type": "code",
     "collapsed": false,
     "input": [
      "### REGRESSION: Players' fantasy points vs pace of the game. Filtered by players who play more than X minutes.\n",
      "## results: ??\n",
      "\n",
      "gids = [g.get_game_id() for g in game_data]\n",
      "pace = []\n",
      "player_fp = []\n",
      "for p in player_data:\n",
      "    p_info = p.get_info()\n",
      "    index = 0\n",
      "    for gid in p_info['GAME_ID']:\n",
      "        g = game_data[gids.index(gid)]\n",
      "        temp = p.calculate_fp(game_number=index,site='DraftKings')\n",
      "        if temp is not None:\n",
      "            # minutes filter\n",
      "            if float(p_info['MIN'][index].split(':')[0]) > 20:\n",
      "                pace.append(g.home_info['PACE']) #WLOG use home_info, pace should be the same for both teams\n",
      "                player_fp.append(temp)\n",
      "        index += 1\n",
      "        \n",
      "df = pd.DataFrame(np.array([pace, player_fp]).T, columns=['pace', 'fp'])\n",
      "df['const'] = np.ones((len(df), ))\n",
      "reg = sm.OLS(df.fp, df[['pace', 'const']]).fit()\n",
      "print reg.summary()\n",
      "\n",
      "plt.figure()\n",
      "plt.plot(df.pace, df.fp, '.', alpha=0.5)\n",
      "xval = np.linspace(80,110,10)\n",
      "plt.plot(xval, reg.params['const']+reg.params['pace']*xval,'-')\n",
      "plt.xlabel('pace')\n",
      "plt.ylabel('fantasy points')\n",
      "plt.show()\n"
     ],
     "language": "python",
     "metadata": {},
     "outputs": []
    },
    {
     "cell_type": "code",
     "collapsed": false,
     "input": [
      "### REGRESSION: Players' fantasy points vs opponent's def ratings. Filtered by players who play more than X minutes.\n",
      "## results: not promising; check accuracy of data?\n",
      "\n",
      "#for g in game_data:\n",
      "#    print g\n",
      "#def_ratings, off_ratings = data_getters.get_ratings(2015) # may take a bit to hit all the teams\n",
      "def_ratings['CHA'] = def_ratings['CHO'] # note CHO = CHA\n",
      "def_ratings['PHX'] = def_ratings['PHO'] # note PHO = PHX\n",
      "def_ratings['BKN'] = def_ratings['BRK']\n",
      "#print def_ratings\n",
      "\n",
      "\n",
      "# regress a player's fantasy points vs opponent's def rating\n",
      "gids = [g.get_game_id() for g in game_data]\n",
      "opp_def_rating = []\n",
      "player_fp = []\n",
      "for p in player_data:\n",
      "    p_info = p.get_info()\n",
      "    index = 0\n",
      "    for gid in p_info['GAME_ID']:\n",
      "        g = game_data[gids.index(gid)]\n",
      "        # check for which team the player is on, then get the other team's defensive rating\n",
      "        if p_info['TEAM_ID'][index] == g.get_home_id():\n",
      "            opp_abb = g.get_away_abb()\n",
      "        elif p_info['TEAM_ID'][index] == g.get_away_id():\n",
      "            opp_abb = g.get_home_abb()\n",
      "        else:\n",
      "            print \"what\"\n",
      "        temp = p.calculate_fp(game_number=index,site='DraftKings')\n",
      "        if temp is not None:\n",
      "            # minutes filter\n",
      "            if float(p_info['MIN'][index].split(':')[0]) > 20:\n",
      "                opp_def_rating.append(def_ratings[opp_abb])\n",
      "                player_fp.append(temp)\n",
      "        index += 1\n",
      "\n",
      "        \n",
      "df = pd.DataFrame(np.array([opp_def_rating, player_fp]).T, columns=['opp_def_rating', 'fp'])\n",
      "df['const'] = np.ones((len(df), ))\n",
      "reg = sm.OLS(df.fp, df[['opp_def_rating', 'const']]).fit()\n",
      "print reg.summary()\n",
      "\n",
      "plt.figure()\n",
      "plt.plot(df.opp_def_rating, df.fp, '.', alpha=0.5)\n",
      "xval = np.linspace(95,120,10)\n",
      "plt.plot(xval, reg.params['const']+reg.params['opp_def_rating']*xval,'-')\n",
      "plt.xlabel('opponent def rating')\n",
      "plt.ylabel('fantasy points')\n",
      "plt.show()"
     ],
     "language": "python",
     "metadata": {},
     "outputs": []
    }
   ],
   "metadata": {}
  }
 ]
}
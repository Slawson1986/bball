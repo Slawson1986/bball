{
 "metadata": {
  "name": "",
  "signature": "sha256:4420334fa00b07c11a5581ad329e9cd2fba6a2a8391db99c680dcc992cd92032"
 },
 "nbformat": 3,
 "nbformat_minor": 0,
 "worksheets": [
  {
   "cells": [
    {
     "cell_type": "code",
     "collapsed": false,
     "input": [
      "import os\n",
      "import datetime\n",
      "import numpy as np\n",
      "import pandas as pd\n",
      "import matplotlib.pyplot as plt\n",
      "%matplotlib inline\n",
      "import statsmodels.formula.api as sm\n",
      "\n",
      "# custom modules\n",
      "import data_getters, model, boxscores, optimizer\n",
      "from entities import Player, Game"
     ],
     "language": "python",
     "metadata": {},
     "outputs": [],
     "prompt_number": 1
    },
    {
     "cell_type": "code",
     "collapsed": false,
     "input": [
      "# TODO: CHANGE latest_day\n",
      "latest_day = datetime.date(2014,12,8)\n",
      "dk = 'DraftKings'\n",
      "fd = 'FanDuel'"
     ],
     "language": "python",
     "metadata": {},
     "outputs": [],
     "prompt_number": 3
    },
    {
     "cell_type": "code",
     "collapsed": false,
     "input": [
      "########## RUN ONLY ONCE A DAY ##########\n",
      "\n",
      "# Downloads latest boxscores.\n",
      "data_getters.download_gamelog_jsons(2014,'boxscores_advanced/2014',boxtype='advanced',start_game=301, end_game=1230)"
     ],
     "language": "python",
     "metadata": {},
     "outputs": [
      {
       "output_type": "stream",
       "stream": "stdout",
       "text": [
        "301\n",
        "20141208-ATLIND"
       ]
      },
      {
       "output_type": "stream",
       "stream": "stdout",
       "text": [
        "\n",
        "302\n",
        "20141208-BOSWAS"
       ]
      },
      {
       "output_type": "stream",
       "stream": "stdout",
       "text": [
        "\n",
        "303\n",
        "20141208-CLEBKN"
       ]
      },
      {
       "output_type": "stream",
       "stream": "stdout",
       "text": [
        "\n",
        "304\n",
        "20141208-DENTOR"
       ]
      },
      {
       "output_type": "stream",
       "stream": "stdout",
       "text": [
        "\n",
        "305\n",
        "20141208-GSWMIN"
       ]
      },
      {
       "output_type": "stream",
       "stream": "stdout",
       "text": [
        "\n",
        "306\n",
        "20141208-UTASAC"
       ]
      },
      {
       "output_type": "stream",
       "stream": "stdout",
       "text": [
        "\n",
        "307\n",
        "20141208-PHXLAC"
       ]
      },
      {
       "output_type": "stream",
       "stream": "stdout",
       "text": [
        "\n",
        "308\n",
        "Downloaded until game 307"
       ]
      },
      {
       "output_type": "stream",
       "stream": "stdout",
       "text": [
        "\n"
       ]
      }
     ],
     "prompt_number": 27
    },
    {
     "cell_type": "code",
     "collapsed": false,
     "input": [
      "########## RUN JUST ONCE A DAY ##########\n",
      "### if already run, run the next cell to load from excel rather than rescraping ###\n",
      "\n",
      "# downloads vegas lines (add one to date because lines are current for today's games whereas ratings are up to games from yesterday)\n",
      "vegas_lines = data_getters.get_vegas_lines('vegas_lines/' + str(latest_day+datetime.timedelta(days=1)) + '_lines.csv', site='covers')\n",
      "print vegas_lines\n",
      "\n",
      "# downloads defensive and offensive ratings\n",
      "def_ratings, off_ratings = data_getters.get_ratings(2015, 'defoff_ratings/' + str(latest_day) + '.csv') # may take a bit to hit all the teams"
     ],
     "language": "python",
     "metadata": {},
     "outputs": [
      {
       "output_type": "stream",
       "stream": "stdout",
       "text": [
        "{u'Portland@Detroit': [197.5, 8.0], u'Dallas@Memphis': [203.0, -3.0], u'San Antonio@Utah': [194.0, 9.0], u'Milwaukee@Oklahoma City': [201.0, -10.0], u'Sacramento@L.A. Lakers': [207.5, -3.5], u'Toronto@Cleveland': [205.5, -6.0], u'Miami@Phoenix': [202.5, -4.5], u'New York@New Orleans': [195.0, -6.0]}\n",
        "ATL\n",
        "BOS"
       ]
      },
      {
       "output_type": "stream",
       "stream": "stdout",
       "text": [
        "\n",
        "BRK"
       ]
      },
      {
       "output_type": "stream",
       "stream": "stdout",
       "text": [
        "\n",
        "CHO"
       ]
      },
      {
       "output_type": "stream",
       "stream": "stdout",
       "text": [
        "\n",
        "CHI"
       ]
      },
      {
       "output_type": "stream",
       "stream": "stdout",
       "text": [
        "\n",
        "CLE"
       ]
      },
      {
       "output_type": "stream",
       "stream": "stdout",
       "text": [
        "\n",
        "DAL"
       ]
      },
      {
       "output_type": "stream",
       "stream": "stdout",
       "text": [
        "\n",
        "DEN"
       ]
      },
      {
       "output_type": "stream",
       "stream": "stdout",
       "text": [
        "\n",
        "DET"
       ]
      },
      {
       "output_type": "stream",
       "stream": "stdout",
       "text": [
        "\n",
        "GSW"
       ]
      },
      {
       "output_type": "stream",
       "stream": "stdout",
       "text": [
        "\n",
        "HOU"
       ]
      },
      {
       "output_type": "stream",
       "stream": "stdout",
       "text": [
        "\n",
        "IND"
       ]
      },
      {
       "output_type": "stream",
       "stream": "stdout",
       "text": [
        "\n",
        "LAC"
       ]
      },
      {
       "output_type": "stream",
       "stream": "stdout",
       "text": [
        "\n",
        "LAL"
       ]
      },
      {
       "output_type": "stream",
       "stream": "stdout",
       "text": [
        "\n",
        "MEM"
       ]
      },
      {
       "output_type": "stream",
       "stream": "stdout",
       "text": [
        "\n",
        "MIA"
       ]
      },
      {
       "output_type": "stream",
       "stream": "stdout",
       "text": [
        "\n",
        "MIL"
       ]
      },
      {
       "output_type": "stream",
       "stream": "stdout",
       "text": [
        "\n",
        "MIN"
       ]
      },
      {
       "output_type": "stream",
       "stream": "stdout",
       "text": [
        "\n",
        "NOP"
       ]
      },
      {
       "output_type": "stream",
       "stream": "stdout",
       "text": [
        "\n",
        "NYK"
       ]
      },
      {
       "output_type": "stream",
       "stream": "stdout",
       "text": [
        "\n",
        "OKC"
       ]
      },
      {
       "output_type": "stream",
       "stream": "stdout",
       "text": [
        "\n",
        "ORL"
       ]
      },
      {
       "output_type": "stream",
       "stream": "stdout",
       "text": [
        "\n",
        "PHI"
       ]
      },
      {
       "output_type": "stream",
       "stream": "stdout",
       "text": [
        "\n",
        "PHO"
       ]
      },
      {
       "output_type": "stream",
       "stream": "stdout",
       "text": [
        "\n",
        "POR"
       ]
      },
      {
       "output_type": "stream",
       "stream": "stdout",
       "text": [
        "\n",
        "SAC"
       ]
      },
      {
       "output_type": "stream",
       "stream": "stdout",
       "text": [
        "\n",
        "SAS"
       ]
      },
      {
       "output_type": "stream",
       "stream": "stdout",
       "text": [
        "\n",
        "TOR"
       ]
      },
      {
       "output_type": "stream",
       "stream": "stdout",
       "text": [
        "\n",
        "UTA"
       ]
      },
      {
       "output_type": "stream",
       "stream": "stdout",
       "text": [
        "\n",
        "WAS"
       ]
      },
      {
       "output_type": "stream",
       "stream": "stdout",
       "text": [
        "\n"
       ]
      }
     ],
     "prompt_number": 4
    },
    {
     "cell_type": "code",
     "collapsed": false,
     "input": [
      "# LOAD vegas lines and def/off ratings to memory from excel files\n",
      "vegas_lines = data_getters.read_from_file('vegas_lines', 'vegas_lines/' + str(latest_day+datetime.timedelta(days=1)) +'_lines.csv')\n",
      "\n",
      "def_ratings, off_ratings = data_getters.read_from_file('ratings', 'defoff_ratings/' + str(latest_day) + '.csv')\n",
      "\n",
      "print vegas_lines"
     ],
     "language": "python",
     "metadata": {},
     "outputs": [
      {
       "output_type": "stream",
       "stream": "stdout",
       "text": [
        "{'Portland@Detroit': [197.5, 8.0], 'Dallas@Memphis': [203.0, -3.0], 'San Antonio@Utah': [194.0, 9.0], 'Milwaukee@Oklahoma City': [201.0, -10.0], 'Toronto@Cleveland': [205.5, -6.0], 'Sacramento@L.A. Lakers': [207.5, -3.5], 'Miami@Phoenix': [202.5, -4.5], 'New York@New Orleans': [195.0, -6.0]}\n"
       ]
      }
     ],
     "prompt_number": 5
    },
    {
     "cell_type": "code",
     "collapsed": false,
     "input": [
      "##### LOADS BOXSCORE DATA TO MEMORY #####\n",
      "player_data, game_data = boxscores.load_jsons_to_memory('boxscores_advanced/2014', latest_day)\n",
      "players = [p.get_name() for p in player_data]\n",
      "\n",
      "# writes EMA model results\n",
      "ema_dk_projections = model.write_predictions(player_data, 'ema', vegas_lines=None, def_ratings=None, off_ratings=None,\n",
      "                        excel_fn='model_predictions/model_predictions_' + dk + '_' + str(latest_day) + '.csv', dfs_site=dk)\n",
      "ema_fd_projections = model.write_predictions(player_data, 'ema', vegas_lines=None, def_ratings=None, off_ratings=None,\n",
      "                        excel_fn='model_predictions/model_predictions_' + fd + '_' + str(latest_day) + '.csv', dfs_site=fd)\n",
      "\n",
      "# writes possession model results\n",
      "minutes_adjustments = {'Greivis Vasquez': 31.0,\n",
      "                       'Zach LaVine': 37.0,\n",
      "                       'Eric Bledsoe': 36.0,\n",
      "                       'Cory Joseph': 33.0,\n",
      "                       'Ronnie Price': 25.,\n",
      "                       'Ed Davis': 30.0,\n",
      "                       'Gerald Green': 35.0,\n",
      "                       'Marcus Morris': 25.,\n",
      "                       'Mario Chalmers': 31\n",
      "                       }\n",
      "poss_dk_projections = model.write_predictions(player_data, 'possessions', vegas_lines, def_ratings, off_ratings,\n",
      "                        'model_predictions/pos_model_predictions_' + dk + '_' + str(latest_day) + '.csv', dk, minutes_adjustments)"
     ],
     "language": "python",
     "metadata": {},
     "outputs": [],
     "prompt_number": 6
    },
    {
     "cell_type": "code",
     "collapsed": false,
     "input": [
      "print poss_dk_projections['Tim Duncan']\n",
      "print poss_dk_projections['Josh Smith']"
     ],
     "language": "python",
     "metadata": {},
     "outputs": [
      {
       "output_type": "stream",
       "stream": "stdout",
       "text": [
        "37.7352297519\n",
        "35.646905742\n"
       ]
      }
     ],
     "prompt_number": 7
    },
    {
     "cell_type": "code",
     "collapsed": false,
     "input": [
      "##### RUN OPTIMIZER #####\n",
      "fn = 'draftkings_data/DKSalaries_'+(latest_day+datetime.timedelta(days=1)).strftime('%m%d%Y')+'.csv'\n",
      "\n",
      "adjustments = {'Kevin Martin': 0.0, #injury - wrist (early jan)\n",
      "               'Terrence Jones': 0.0, #injury - leg\n",
      "               'Perry Jones': 0.0, #injury\n",
      "               'Michael Kidd-Gilchrist': 0.0, #injury\n",
      "               'David Lee': 0.0, #injured - hamstring\n",
      "               'Dwight Howard': 0.0, # doubtful - knee\n",
      "               'Ricky Rubio': 0.0, #injured - ankle (early jan)\n",
      "               'Eric Gordon': 0.0, #out indefinitely\n",
      "               'Aaron Gordon': 0.0, #out indefinitely\n",
      "               'Tiago Splitter': 0.0, #out indefinitely\n",
      "               'Tony Wroten': 0.0,\n",
      "               'Nikola Pekovic': 0.0,\n",
      "               'Jeff Adrien': 0,\n",
      "               'Reggie Jackson': 0,\n",
      "               'DeMarcus Cousins': 0,\n",
      "               'Ersan Ilyasova': 0,\n",
      "               'Brook Lopez': 0,\n",
      "               'Mo Williams': 0,\n",
      "               'Andrew Bogut': 0,\n",
      "               'Donald Sloan': 0\n",
      "              }\n",
      "\n",
      "num_lineups = 100\n",
      "\n",
      "# other constraints\n",
      "other_constraints = {'max_players_per_game': 4}\n",
      "\n",
      "##### gets results for pure DraftKings projections #####\n",
      "#results = optimizer.run_optimization(fn, None, adjustments, num_lineups, other_constraints)\n",
      "\n",
      "##### gets results for our EMA DraftKings projections #####\n",
      "#results = optimizer.run_optimization(fn, ema_dk_projections, adjustments, num_lineups, other_constraints)\n",
      "\n",
      "##### gets results for our possessions model projections #####\n",
      "results = optimizer.run_optimization(fn, poss_dk_projections, adjustments, num_lineups, other_constraints)\n",
      "\n",
      "# get best teams of every night\n",
      "pool = {}\n",
      "for r in results:\n",
      "    print r['value'], r['team']\n",
      "    for player in r['team']:\n",
      "        if player not in pool:\n",
      "            pool[player] = 1\n",
      "        else:\n",
      "            pool[player] += 1\n",
      "\n",
      "print \"\\nPool of players in top \" + str(num_lineups) + \" lineups:\"\n",
      "for s in sorted( ((v,k) for k,v in pool.iteritems()), reverse=True):\n",
      "    print s\n",
      "\n"
     ],
     "language": "python",
     "metadata": {},
     "outputs": [
      {
       "output_type": "stream",
       "stream": "stdout",
       "text": [
        "261.39148089 ['LaMarcus Aldridge', 'Josh Smith', 'Rudy Gay', 'Tyson Chandler', 'Gerald Green', 'Cory Joseph', 'Ed Davis', 'Jeremy Lamb']\n",
        "261.11778661 ['Tim Duncan', 'Eric Bledsoe', 'Rudy Gay', 'Tyson Chandler', 'Greivis Vasquez', 'Gerald Green', 'Cory Joseph', 'Ed Davis']\n",
        "260.7282791 ['Tim Duncan', 'Eric Bledsoe', 'Rudy Gay', 'Tyson Chandler', 'Jabari Parker', 'Gerald Green', 'Cory Joseph', 'Ed Davis']\n",
        "260.6129195 ['Chris Bosh', 'Eric Bledsoe', 'Rudy Gay', 'Tyson Chandler', 'Tristan Thompson', 'Gerald Green', 'Cory Joseph', 'Ed Davis']\n",
        "260.2434357 ['Eric Bledsoe', 'Josh Smith', 'Rudy Gay', 'Tyson Chandler', 'Trey Burke', 'Gerald Green', 'Cory Joseph', 'Ed Davis']\n",
        "259.71335669 ['LaMarcus Aldridge', 'Eric Bledsoe', 'Rudy Gay', 'Tyson Chandler', 'Gerald Green', 'Cory Joseph', 'Ed Davis', 'J.J. Barea']\n",
        "259.68234955 ['Eric Bledsoe', 'Josh Smith', 'Rudy Gay', 'Tyson Chandler', 'Tristan Thompson', 'Gerald Green', 'Cory Joseph', 'Ed Davis']\n",
        "259.61540917 ['Tim Duncan', 'Eric Bledsoe', 'Josh Smith', 'Tyson Chandler', 'Greivis Vasquez', 'Gerald Green', 'Cory Joseph', 'Ed Davis']\n",
        "259.57052503 ['Chris Bosh', 'Eric Bledsoe', 'Rudy Gay', 'Tyson Chandler', 'Jabari Parker', 'Gerald Green', 'Cory Joseph', 'Ed Davis']\n",
        "259.43559223 ['Tim Duncan', 'Rudy Gay', 'Dwyane Wade', 'Tyson Chandler', 'Trey Burke', 'Gerald Green', 'Cory Joseph', 'Ed Davis']\n",
        "259.33053056 ['Eric Bledsoe', 'Josh Smith', 'Rudy Gay', 'Tyson Chandler', 'Jonas Valanciunas', 'Gerald Green', 'Cory Joseph', 'Ed Davis']\n",
        "259.28309187 ['Marc Gasol', 'Rudy Gay', 'Dwyane Wade', 'Tyson Chandler', 'Tristan Thompson', 'Gerald Green', 'Cory Joseph', 'Ed Davis']\n",
        "259.22590165 ['Tim Duncan', 'Eric Bledsoe', 'Josh Smith', 'Tyson Chandler', 'Jabari Parker', 'Gerald Green', 'Cory Joseph', 'Ed Davis']\n",
        "259.1784077 ['LaMarcus Aldridge', 'Rudy Gay', 'Serge Ibaka', 'Tyson Chandler', 'Greivis Vasquez', 'Gerald Green', 'Cory Joseph', 'Jeremy Lamb']\n",
        "259.13720197 ['Russell Westbrook', 'Rudy Gay', 'Serge Ibaka', 'Tyson Chandler', 'Gerald Green', 'Cory Joseph', 'Ed Davis', 'Jeremy Lamb']\n",
        "259.11054205 ['Chris Bosh', 'Eric Bledsoe', 'Josh Smith', 'Tyson Chandler', 'Tristan Thompson', 'Gerald Green', 'Cory Joseph', 'Ed Davis']\n",
        "259.07584344 ['Chris Bosh', 'Eric Bledsoe', 'Rudy Gay', 'Serge Ibaka', 'Greivis Vasquez', 'Gerald Green', 'Cory Joseph', 'Ed Davis']\n",
        "259.0294626 ['Eric Bledsoe', 'Josh Smith', 'Rudy Gay', 'Tyson Chandler', 'Greivis Vasquez', 'Gerald Green', 'Cory Joseph', 'Ed Davis']\n",
        "258.94902513 ['Eric Bledsoe', 'Rudy Gay', 'Serge Ibaka', 'Tyson Chandler', 'Mario Chalmers', 'Gerald Green', 'Cory Joseph', 'Ed Davis']\n",
        "258.84421479 ['Eric Bledsoe', 'Josh Smith', 'Rudy Gay', 'Tyson Chandler', 'Trey Burke', 'Tristan Thompson', 'Gerald Green', 'Ed Davis']\n",
        "258.78890019 ['LaMarcus Aldridge', 'Rudy Gay', 'Serge Ibaka', 'Tyson Chandler', 'Jabari Parker', 'Gerald Green', 'Cory Joseph', 'Jeremy Lamb']\n",
        "258.69387977 ['LaMarcus Aldridge', 'Rudy Gay', 'Gordon Hayward', 'Tyson Chandler', 'Gerald Green', 'Cory Joseph', 'Ed Davis', 'Jeremy Lamb']\n",
        "258.68633593 ['Chris Bosh', 'Eric Bledsoe', 'Rudy Gay', 'Serge Ibaka', 'Jabari Parker', 'Gerald Green', 'Cory Joseph', 'Ed Davis']\n",
        "258.68324947 ['Eric Bledsoe', 'Rudy Gay', 'Serge Ibaka', 'Tyson Chandler', 'Trey Burke', 'Tristan Thompson', 'Gerald Green', 'Cory Joseph']\n",
        "258.59202682 ['LaMarcus Aldridge', 'Rudy Gay', 'Goran Dragic', 'Tyson Chandler', 'Gerald Green', 'Cory Joseph', 'Ed Davis', 'Jeremy Lamb']\n",
        "258.55721087 ['Marc Gasol', 'Eric Bledsoe', 'Josh Smith', 'Rudy Gay', 'Gerald Green', 'Cory Joseph', 'Ed Davis', 'Jon Leuer']\n",
        "258.53979322 ['Eric Bledsoe', 'Rudy Gay', 'Tyson Chandler', 'Brandon Knight', 'Markieff Morris', 'Gerald Green', 'Cory Joseph', 'Ed Davis']\n",
        "258.53926524 ['LaMarcus Aldridge', 'Eric Bledsoe', 'Rudy Gay', 'Tyson Chandler', 'Gerald Green', 'Cory Joseph', 'Ed Davis', 'Kendrick Perkins']\n",
        "258.47567666 ['LaMarcus Aldridge', 'Rudy Gay', 'Dwyane Wade', 'Tyson Chandler', 'Gerald Green', 'Cory Joseph', 'Ed Davis', 'Zaza Pachulia']\n",
        "258.46044074 ['Rudy Gay', 'Dwyane Wade', 'Serge Ibaka', 'Tyson Chandler', 'Brandon Knight', 'Gerald Green', 'Cory Joseph', 'Ed Davis']\n",
        "258.40216705 ['Marc Gasol', 'Eric Bledsoe', 'Rudy Gay', 'Tyson Chandler', 'Gerald Green', 'Patrick Patterson', 'Cory Joseph', 'Ed Davis']\n",
        "258.3980313 ['Kyle Lowry', 'Rudy Gay', 'Dwyane Wade', 'Tyson Chandler', 'Gerald Green', 'Cory Joseph', 'Ed Davis', 'Jon Leuer']\n",
        "258.29964302 ['Damian Lillard', 'Rudy Gay', 'Dwyane Wade', 'Tyson Chandler', 'Tristan Thompson', 'Gerald Green', 'Cory Joseph', 'Ed Davis']\n",
        "258.26550182 ['Josh Smith', 'Rudy Gay', 'Dwyane Wade', 'Tyson Chandler', 'Mario Chalmers', 'Gerald Green', 'Cory Joseph', 'Ed Davis']\n",
        "258.24069741 ['Marc Gasol', 'Rudy Gay', 'Dwyane Wade', 'Tyson Chandler', 'Jabari Parker', 'Gerald Green', 'Cory Joseph', 'Ed Davis']\n",
        "258.22161913 ['Tim Duncan', 'Rudy Gay', 'Dwyane Wade', 'Tyson Chandler', 'Greivis Vasquez', 'Gerald Green', 'Cory Joseph', 'Ed Davis']\n",
        "258.21097924 ['LaMarcus Aldridge', 'Eric Bledsoe', 'Josh Smith', 'Tyson Chandler', 'Gerald Green', 'Cory Joseph', 'Ed Davis', 'J.J. Barea']\n",
        "258.19132784 ['Eric Bledsoe', 'Josh Smith', 'Rudy Gay', 'Tyson Chandler', 'Trey Burke', 'Greivis Vasquez', 'Gerald Green', 'Ed Davis']\n",
        "258.16452269 ['Eric Bledsoe', 'Andre Drummond', 'Rudy Gay', 'Tyson Chandler', 'Tristan Thompson', 'Gerald Green', 'Cory Joseph', 'Ed Davis']\n",
        "258.13178116 ['Tim Duncan', 'Eric Bledsoe', 'Gordon Hayward', 'Tyson Chandler', 'Trey Burke', 'Gerald Green', 'Cory Joseph', 'Ed Davis']\n",
        "258.12207227 ['LaMarcus Aldridge', 'Chris Bosh', 'Gordon Hayward', 'Tyson Chandler', 'Gerald Green', 'Cory Joseph', 'Ed Davis', 'Jeremy Lamb']\n",
        "258.08223455 ['Eric Bledsoe', 'Rudy Gay', 'Tyson Chandler', 'Darren Collison', 'Dirk Nowitzki', 'Gerald Green', 'Cory Joseph', 'Ed Davis']\n",
        "258.06814759 ['Chris Bosh', 'Eric Bledsoe', 'Josh Smith', 'Tyson Chandler', 'Jabari Parker', 'Gerald Green', 'Cory Joseph', 'Ed Davis']\n",
        "258.0337141 ['Tim Duncan', 'Eric Bledsoe', 'Rudy Gay', 'Tyson Chandler', 'Trey Burke', 'Gerald Green', 'Cory Joseph', 'Jon Leuer']\n",
        "258.03079154 ['Eric Bledsoe', 'Rudy Gay', 'Serge Ibaka', 'Tyson Chandler', 'Trey Burke', 'Gerald Green', 'Cory Joseph', 'Ed Davis']\n",
        "258.02400522 ['LaMarcus Aldridge', 'Chris Bosh', 'Rudy Gay', 'Tyson Chandler', 'Gerald Green', 'Cory Joseph', 'Jeremy Lamb', 'Jon Leuer']\n",
        "257.9792808 ['Marc Gasol', 'Eric Bledsoe', 'Gordon Hayward', 'Tyson Chandler', 'Tristan Thompson', 'Gerald Green', 'Cory Joseph', 'Ed Davis']\n",
        "257.95124826 ['Chris Bosh', 'Josh Smith', 'Rudy Gay', 'Tyson Chandler', 'Danny Green', 'Gerald Green', 'Cory Joseph', 'Ed Davis']\n",
        "257.93993935 ['LaMarcus Aldridge', 'Eric Bledsoe', 'Rudy Gay', 'Trey Burke', 'Anderson Varejao', 'Gerald Green', 'Cory Joseph', 'Ed Davis']\n",
        "257.93398983 ['Marc Gasol', 'Eric Bledsoe', 'Rudy Gay', 'Dirk Nowitzki', 'Trey Burke', 'Gerald Green', 'Cory Joseph', 'Ed Davis']\n",
        "257.93321479 ['Tim Duncan', 'Josh Smith', 'Dwyane Wade', 'Tyson Chandler', 'Trey Burke', 'Gerald Green', 'Cory Joseph', 'Ed Davis']\n",
        "257.88121374 ['Marc Gasol', 'Eric Bledsoe', 'Rudy Gay', 'Tyson Chandler', 'Tristan Thompson', 'Gerald Green', 'Cory Joseph', 'Jon Leuer']\n",
        "257.88032986 ['Marc Gasol', 'Eric Bledsoe', 'Rudy Gay', 'Brandon Knight', 'Tristan Thompson', 'Gerald Green', 'Cory Joseph', 'Ed Davis']\n",
        "257.84432815 ['LaMarcus Aldridge', 'Eric Bledsoe', 'Rudy Gay', 'Tyson Chandler', 'Gerald Green', 'Cory Joseph', 'Ed Davis', 'Ramon Sessions']\n",
        "257.83211162 ['Tim Duncan', 'Rudy Gay', 'Dwyane Wade', 'Tyson Chandler', 'Jabari Parker', 'Gerald Green', 'Cory Joseph', 'Ed Davis']\n",
        "257.82879019 ['Marc Gasol', 'Chris Bosh', 'Josh Smith', 'Rudy Gay', 'Gerald Green', 'Cory Joseph', 'Ed Davis', 'Jeremy Lamb']\n",
        "257.8253683 ['Marc Gasol', 'Eric Bledsoe', 'Rudy Gay', 'Markieff Morris', 'Greivis Vasquez', 'Gerald Green', 'Cory Joseph', 'Ed Davis']\n",
        "257.78071443 ['Marc Gasol', 'Josh Smith', 'Dwyane Wade', 'Tyson Chandler', 'Tristan Thompson', 'Gerald Green', 'Cory Joseph', 'Ed Davis']\n",
        "257.76596228 ['LaMarcus Aldridge', 'Rudy Gay', 'Mike Conley', 'Tyson Chandler', 'Gerald Green', 'Cory Joseph', 'Ed Davis', 'Jeremy Lamb']\n",
        "257.74601582 ['Marc Gasol', 'Rudy Gay', 'Dwyane Wade', 'Serge Ibaka', 'Greivis Vasquez', 'Gerald Green', 'Cory Joseph', 'Ed Davis']\n",
        "257.71675202 ['Chris Bosh', 'Rudy Gay', 'Dwyane Wade', 'Tyson Chandler', 'Tristan Thompson', 'Gerald Green', 'Cory Joseph', 'Ed Davis']\n",
        "257.70113047 ['LaMarcus Aldridge', 'Eric Bledsoe', 'Rudy Gay', 'Tyson Chandler', 'Trey Burke', 'Gerald Green', 'Ed Davis', 'Kendrick Perkins']\n",
        "257.6995831 ['Eric Bledsoe', 'Josh Smith', 'Rudy Gay', 'Tyson Chandler', 'Ryan Anderson', 'Gerald Green', 'Cory Joseph', 'Ed Davis']\n",
        "257.68542052 ['Eric Bledsoe', 'Rudy Gay', 'Mike Conley', 'Tyson Chandler', \"Amar'e Stoudemire\", 'Gerald Green', 'Cory Joseph', 'Ed Davis']\n",
        "257.67758605 ['LaMarcus Aldridge', 'Eric Bledsoe', 'Rudy Gay', 'Tyson Chandler', 'Gerald Green', 'Cory Joseph', 'Ed Davis', 'Tayshaun Prince']\n",
        "257.67603026 ['LaMarcus Aldridge', 'Josh Smith', 'Serge Ibaka', 'Tyson Chandler', 'Greivis Vasquez', 'Gerald Green', 'Cory Joseph', 'Jeremy Lamb']\n",
        "257.65808919 ['Marc Gasol', 'Tim Duncan', 'Rudy Gay', 'Tyson Chandler', 'Gerald Green', 'Cory Joseph', 'Ed Davis', 'Jeremy Lamb']\n",
        "257.65682447 ['Eric Bledsoe', 'Rudy Gay', 'Serge Ibaka', 'Tyson Chandler', 'Jordan Hill', 'Gerald Green', 'Cory Joseph', 'Ed Davis']\n",
        "257.64085501 ['Eric Bledsoe', 'Rudy Gay', 'Serge Ibaka', 'Tyson Chandler', 'Trey Burke', 'Jabari Parker', 'Gerald Green', 'Cory Joseph']\n",
        "257.6359513 ['Russell Westbrook', 'Eric Bledsoe', 'Rudy Gay', 'Tyson Chandler', 'Gerald Green', 'Cory Joseph', 'Ed Davis', 'Tayshaun Prince']\n",
        "257.63482453 ['Russell Westbrook', 'Josh Smith', 'Serge Ibaka', 'Tyson Chandler', 'Gerald Green', 'Cory Joseph', 'Ed Davis', 'Jeremy Lamb']\n",
        "257.63024169 ['Eric Bledsoe', 'Josh Smith', 'Rudy Gay', 'Tyson Chandler', 'Greivis Vasquez', 'Tristan Thompson', 'Gerald Green', 'Ed Davis']\n",
        "257.61640766 ['Eric Bledsoe', 'Rudy Gay', 'Tyson Chandler', 'Darren Collison', 'Nicolas Batum', 'Gerald Green', 'Cory Joseph', 'Ed Davis']\n",
        "257.60941235 ['Russell Westbrook', 'LaMarcus Aldridge', 'Tyson Chandler', 'Jabari Parker', 'Gerald Green', 'Cory Joseph', 'Ed Davis', 'Jeremy Lamb']\n",
        "257.5936977 ['LeBron James', 'Russell Westbrook', 'Tyson Chandler', 'Gerald Green', 'Cory Joseph', 'Ed Davis', 'Jeremy Lamb', 'Jon Leuer']\n",
        "257.58044402 ['LaMarcus Aldridge', 'Dwyane Wade', 'Tyson Chandler', 'Darren Collison', 'Jabari Parker', 'Gerald Green', 'Cory Joseph', 'Ed Davis']\n",
        "257.57556581 ['LaMarcus Aldridge', 'Rudy Gay', 'Tyson Chandler', 'Markieff Morris', 'Trey Burke', 'Gerald Green', 'Cory Joseph', 'Jeremy Lamb']\n",
        "257.57346599 ['Chris Bosh', 'Eric Bledsoe', 'Josh Smith', 'Serge Ibaka', 'Greivis Vasquez', 'Gerald Green', 'Cory Joseph', 'Ed Davis']\n",
        "257.56654015 ['Eric Bledsoe', 'Rudy Gay', 'Tyson Chandler', 'Markieff Morris', 'Nicolas Batum', 'Gerald Green', 'Cory Joseph', 'Ed Davis']\n",
        "257.56287866 ['LaMarcus Aldridge', 'Dwyane Wade', 'Tyson Chandler', 'Nicolas Batum', 'Trey Burke', 'Gerald Green', 'Cory Joseph', 'Ed Davis']\n",
        "257.54805382 ['LaMarcus Aldridge', 'Chris Bosh', 'Eric Bledsoe', 'Greivis Vasquez', 'Jabari Parker', 'Gerald Green', 'Cory Joseph', 'Ed Davis']\n",
        "257.54583459 ['Eric Bledsoe', 'Rudy Gay', 'Gordon Hayward', 'Tyson Chandler', 'Trey Burke', 'Gerald Green', 'Cory Joseph', 'Ed Davis']\n",
        "257.54143565 ['Russell Westbrook', 'Rudy Gay', 'Derrick Favors', 'Tyson Chandler', 'Gerald Green', 'Cory Joseph', 'Ed Davis', 'Jeremy Lamb']\n",
        "257.48718767 ['Rudy Gay', 'Dwyane Wade', 'Serge Ibaka', 'Tyson Chandler', 'Nicolas Batum', 'Gerald Green', 'Cory Joseph', 'Ed Davis']\n",
        "257.47551397 ['LaMarcus Aldridge', 'Eric Bledsoe', 'Rudy Gay', 'Tyson Chandler', 'Gerald Green', 'Cory Joseph', 'Ed Davis', 'Steve Blake']\n",
        "257.47300154 ['Chris Bosh', 'Eric Bledsoe', 'Rudy Gay', 'Markieff Morris', 'Trey Burke', 'Gerald Green', 'Cory Joseph', 'Ed Davis']\n",
        "257.46927637 ['Eric Bledsoe', 'Rudy Gay', 'Serge Ibaka', 'Tyson Chandler', 'Greivis Vasquez', 'Tristan Thompson', 'Gerald Green', 'Cory Joseph']\n",
        "257.44664769 ['Eric Bledsoe', 'Josh Smith', 'Serge Ibaka', 'Tyson Chandler', 'Mario Chalmers', 'Gerald Green', 'Cory Joseph', 'Ed Davis']\n",
        "257.43586079 ['Marc Gasol', 'Eric Bledsoe', 'Rudy Gay', 'Markieff Morris', 'Jabari Parker', 'Gerald Green', 'Cory Joseph', 'Ed Davis']\n",
        "257.43444165 ['Eric Bledsoe', 'Rudy Gay', 'Tyson Chandler', 'Brandon Knight', 'Dirk Nowitzki', 'Gerald Green', 'Cory Joseph', 'Ed Davis']\n",
        "257.43115449 ['LaMarcus Aldridge', 'Chris Bosh', 'Rudy Gay', 'Danny Green', 'Greivis Vasquez', 'Gerald Green', 'Cory Joseph', 'Ed Davis']\n",
        "257.42256398 ['Kyle Lowry', 'Rudy Gay', 'Serge Ibaka', 'Tyson Chandler', 'Gerald Green', 'Cory Joseph', 'Ed Davis', 'Jeremy Lamb']\n",
        "257.42184328 ['Marc Gasol', 'Eric Bledsoe', 'Serge Ibaka', 'Tyson Chandler', 'Jabari Parker', 'Gerald Green', 'Cory Joseph', 'Ed Davis']\n",
        "257.42123551 ['LaMarcus Aldridge', 'Eric Bledsoe', 'Tyson Chandler', 'Mario Chalmers', 'Jabari Parker', 'Gerald Green', 'Cory Joseph', 'Ed Davis']\n",
        "257.4202044 ['Tim Duncan', 'Chris Bosh', 'Josh Smith', 'Rudy Gay', 'Gerald Green', 'Cory Joseph', 'Ed Davis', 'Jeremy Lamb']\n",
        "257.4187182 ['Damian Lillard', 'Eric Bledsoe', 'Rudy Gay', 'Tyson Chandler', 'Gerald Green', 'Patrick Patterson', 'Cory Joseph', 'Ed Davis']\n",
        "257.40552086 ['LeBron James', 'Eric Bledsoe', 'Tyson Chandler', 'Mario Chalmers', 'Gerald Green', 'Cory Joseph', 'Ed Davis', 'Jon Leuer']\n",
        "257.39817751 ['LeBron James', 'Rudy Gay', 'Tyson Chandler', \"Amar'e Stoudemire\", 'Gerald Green', 'Cory Joseph', 'Ed Davis', 'Jeremy Lamb']\n",
        "257.39364906 ['Chris Bosh', 'Rudy Gay', 'Dwyane Wade', 'Serge Ibaka', 'Trey Burke', 'Gerald Green', 'Cory Joseph', 'Ed Davis']\n",
        "257.35650831 ['Marc Gasol', 'Rudy Gay', 'Dwyane Wade', 'Serge Ibaka', 'Jabari Parker', 'Gerald Green', 'Cory Joseph', 'Ed Davis']\n",
        "\n",
        "Pool of players in top 100 lineups:\n",
        "(100, 'Gerald Green')\n",
        "(96, 'Cory Joseph')\n",
        "(90, 'Ed Davis')\n",
        "(83, 'Tyson Chandler')\n",
        "(78, 'Rudy Gay')\n",
        "(59, 'Eric Bledsoe')\n",
        "(25, 'LaMarcus Aldridge')\n",
        "(25, 'Josh Smith')\n",
        "(22, 'Serge Ibaka')\n",
        "(20, 'Jeremy Lamb')\n",
        "(19, 'Dwyane Wade')\n",
        "(18, 'Trey Burke')\n",
        "(17, 'Chris Bosh')\n",
        "(16, 'Marc Gasol')\n",
        "(16, 'Jabari Parker')\n",
        "(15, 'Tristan Thompson')\n",
        "(15, 'Greivis Vasquez')\n",
        "(12, 'Tim Duncan')\n",
        "(7, 'Jon Leuer')\n",
        "(6, 'Russell Westbrook')\n",
        "(6, 'Markieff Morris')\n",
        "(5, 'Mario Chalmers')\n",
        "(5, 'Gordon Hayward')\n",
        "(4, 'Nicolas Batum')\n",
        "(4, 'Brandon Knight')\n",
        "(3, 'LeBron James')\n",
        "(3, 'Dirk Nowitzki')\n",
        "(3, 'Darren Collison')\n",
        "(2, 'Tayshaun Prince')\n",
        "(2, 'Patrick Patterson')\n",
        "(2, 'Mike Conley')\n",
        "(2, 'Kyle Lowry')\n",
        "(2, 'Kendrick Perkins')\n",
        "(2, 'J.J. Barea')\n",
        "(2, 'Danny Green')\n",
        "(2, 'Damian Lillard')\n",
        "(2, \"Amar'e Stoudemire\")\n",
        "(1, 'Zaza Pachulia')\n",
        "(1, 'Steve Blake')\n",
        "(1, 'Ryan Anderson')\n",
        "(1, 'Ramon Sessions')\n",
        "(1, 'Jordan Hill')\n",
        "(1, 'Jonas Valanciunas')\n",
        "(1, 'Goran Dragic')\n",
        "(1, 'Derrick Favors')\n",
        "(1, 'Andre Drummond')\n",
        "(1, 'Anderson Varejao')\n"
       ]
      }
     ],
     "prompt_number": 8
    },
    {
     "cell_type": "code",
     "collapsed": false,
     "input": [
      "##### CALCULATES FP FOR A GIVEN TEAM #####\n",
      "\n",
      "# team: list of players\n",
      "# game_number: if \"predict\", then uses the specified model to predict the next game's results\n",
      "#   if an actual number, calculates past results for that game. use -1 for the last game, or 0 for the first game, 1 for the second, etc.\n",
      "# modeL: if game_number=='predict', uses the appropriate model to make projections for the next game. possessions model only \n",
      "#    works if vegas line exists\n",
      "# site: uses that site's scoring system\n",
      "def print_summary(team, game_number, model, site='DraftKings'):\n",
      "    score = []\n",
      "    var = []\n",
      "    for t in team:\n",
      "        p = player_data[players.index(t)]\n",
      "        if model == 'EMA' or game_number!='predict':\n",
      "            score.append(p.calculate_fp(game_number, site))\n",
      "        elif model == 'possessions':\n",
      "            score.append(poss_dk_projections[p.get_name()])\n",
      "        var.append(p.calculate_fp_variance(scaled=False))\n",
      "        if score[-1] is not None:\n",
      "            print t + \": \" + \"%.2f\" % score[-1] + \"\\t\\tStd: \" + \"%.2f\" % np.sqrt(var[-1]) + \"\\t ScaledStd: \" + \"%.2f\" % (np.sqrt(var[-1])/score[-1])\n",
      "        else:\n",
      "            print t + \": \" + \"0.0\"\n",
      "    print \"Total: \" + str(sum([x for x in score if x != None]))\n",
      "    print \"Std of lineup: \" + str(np.sqrt(sum(var)))\n",
      "\n",
      "\n",
      "team = ['Kyle Lowry', 'DeAndre Jordan', 'Klay Thompson', 'Draymond Green', 'Mirza Teletovic', 'Greivis Vasquez', 'Kris Humphries', 'Rasual Butler']\n",
      "#team = ['Eric Bledsoe', 'DeAndre Jordan', 'Klay Thompson', 'Draymond Green', 'Mirza Teletovic', 'Amir Johnson', 'Greivis Vasquez', 'Zach LaVine']\n",
      "print_summary(team, game_number=-1, model='possessions', site='DraftKings')\n"
     ],
     "language": "python",
     "metadata": {},
     "outputs": [
      {
       "output_type": "stream",
       "stream": "stdout",
       "text": [
        "Kyle Lowry: 37.75\t\tStd: 9.33\t ScaledStd: 0.25\n",
        "DeAndre Jordan: 40.50\t\tStd: 10.24\t ScaledStd: 0.25\n",
        "Klay Thompson: 27.75\t\tStd: 8.50\t ScaledStd: 0.31\n",
        "Draymond Green: 37.00\t\tStd: 10.83\t ScaledStd: 0.29\n",
        "Mirza Teletovic: 21.50\t\tStd: 11.35\t ScaledStd: 0.53\n",
        "Greivis Vasquez: 25.75\t\tStd: 8.10\t ScaledStd: 0.31\n",
        "Kris Humphries: 32.75\t\tStd: 10.85\t ScaledStd: 0.33\n",
        "Rasual Butler: 12.25\t\tStd: 10.08\t ScaledStd: 0.82\n",
        "Total: 235.25\n",
        "Std of lineup: 28.2024875033\n"
       ]
      }
     ],
     "prompt_number": 12
    },
    {
     "cell_type": "code",
     "collapsed": false,
     "input": [],
     "language": "python",
     "metadata": {},
     "outputs": [],
     "prompt_number": 25
    },
    {
     "cell_type": "code",
     "collapsed": false,
     "input": [
      "# EXAMPLE USAGE\n",
      "lookup = 'Ty Lawson'\n",
      "p = player_data[players.index(lookup)]\n",
      "p_info = p.get_info()\n",
      "p_adv_info = p.get_adv_info()\n",
      "\n",
      "#for key in p_info:\n",
      "#    print key + \": \" + str(p_info[key])\n",
      "\n",
      "#for key in p_adv_info:\n",
      "#    print key + \": \" + str(p_adv_info[key])\n",
      "    \n",
      "print \"\\npredictions\"\n",
      "\n",
      "for s in ['PTS', 'FG3M', 'REB', 'AST', 'STL', 'BLK', 'TO']:\n",
      "    print s + \": \" + str(p.predict(s))\n",
      "\n",
      "print \"expected FP (DK): \" + str(p.calculate_fp(game_number=-1, site=\"DraftKings\"))\n",
      "\n",
      "p.possessions_model(105.)"
     ],
     "language": "python",
     "metadata": {},
     "outputs": []
    },
    {
     "cell_type": "code",
     "collapsed": false,
     "input": [
      "# BACKTESTER\n",
      "# Backtester basically first uses all days except the desired day to make projections, then calculates the actual fpts\n",
      "# performance of all players on the desired day. The optimizer then runs with the projections, and then the fpts of the teams \n",
      "# it spits out is returned. The backtester supports multiple lineups on each day. \n",
      "\n",
      "import os\n",
      "import datetime\n",
      "import data_getters, model, boxscores, optimizer\n",
      "\n",
      "date = datetime.date(2014,11,1)\n",
      "end_date = datetime.date(2014,11,30)\n",
      "dk = 'DraftKings'\n",
      "num_lineups = 10\n",
      "\n",
      "# backtest through date range\n",
      "while date < end_date:\n",
      "    # load data up to the date\n",
      "    player_data, game_data = boxscores.load_jsons_to_memory('boxscores_advanced/2014', date-datetime.timedelta(days=1))\n",
      "    players = [p.get_name() for p in player_data]\n",
      "\n",
      "    # get predictions given data up to the day before the desired date\n",
      "    ema_dk_projections = model.write_predictions(player_data, 'ema', vegas_lines=None, def_ratings=None, off_ratings=None,excel_fn='model_predictions/model_predictions_' + dk + '_' + str(date) + '.csv', dfs_site=dk)\n",
      "\n",
      "    adjustments = {} # fades/injuries\n",
      "    players_fpts = {} # player performance of desired day\n",
      "    \n",
      "    # load the boxscore up to desired date\n",
      "    player_data, game_data = boxscores.load_jsons_to_memory('boxscores_advanced/2014', date)\n",
      "    #print \"length\", len(player_data[0].info['GAME_ID'])\n",
      "    players = [p.get_name() for p in player_data]\n",
      "    \n",
      "    # go through players, get the game_id that the player is in on the given date, and\n",
      "    # put player's fantasy performance into players_fpts\n",
      "    for player_name in players:\n",
      "        player = player_data[players.index(player_name)]\n",
      "        relevant_games =[g for g in game_data if g.home_info['TEAM_ABBREVIATION'] == player.info['TEAM_ABBREVIATION'][0] or g.away_info['TEAM_ABBREVIATION'] == player.info['TEAM_ABBREVIATION'][0]]\n",
      "        game_dates = [g.home_info['GAME_DATE_EST'] for g in relevant_games]\n",
      "        game_date_objs = []\n",
      "        for game_date in game_dates:\n",
      "            date_attrs = game_date.split(\"T\")[0].split('-')\n",
      "            game_date_objs.append(datetime.date(int(date_attrs[0]), int(date_attrs[1]), int(date_attrs[2])))\n",
      "        try:\n",
      "            game_id = relevant_games[game_date_objs.index(date)].home_info['GAME_ID']\n",
      "            index = player.info['GAME_ID'].index(game_id) \n",
      "            players_fpts[player_name] = player.calculate_fp(game_number=index)\n",
      "            if players_fpts[player_name] == None: # can't compute player fp due to injury, coach's decision to not play, etc. \n",
      "                adjustments[player_name] = 0.0\n",
      "        except Exception as e: # player didn't play on the date or doesn't have the game_id (both cases do occur, i've checked)\n",
      "            adjustments[player_name] = 0.0 \n",
      "            \n",
      "    try:\n",
      "        fn = 'DKSalaries_' + date.strftime('%m%d%Y') + '.csv' \n",
      "        print fn\n",
      "        \n",
      "        # weird bug where player might not be in our players dict. if this happens, toss player and rerun optimizer\n",
      "        # TODO: investigate bug more -- what's really going on? \n",
      "        finished = False\n",
      "        \n",
      "        \n",
      "        adjustments_disc = {'Kevin Martin': 0.0, #injury - wrist (early jan)\n",
      "               'Terrence Jones': 0.0, #injury - leg\n",
      "               'Perry Jones': 0.0, #injury\n",
      "               'Gary Neal': 0.0, #QUESTIONABLE\n",
      "               'Marvin Williams': 0.0, #QUESTIONABLE\n",
      "               'Michael Kidd-Gilchrist': 0.0, #injury\n",
      "               'Joakim Noah': 0.0, #questionable - knee\n",
      "               'Taj Gibson': 0.0, #doubtful - ankle\n",
      "               'Derrick Rose': 0.0, #doubtful - hamstring\n",
      "               'Raymond Felton': 0.0, #QUESTIONABLE\n",
      "               'Jameer Nelson': 0.0, #QUESTIONABLE\n",
      "               'JaVale McGee': 0.0, #QUESTIONABLE\n",
      "               'Danilo Gallinari': 0.0, #QUESTIONABLE\n",
      "               'Brandon Jennings': 0.0, #QUESTIONABLE\n",
      "               'David Lee': 0.0, #injured - hamstring\n",
      "               'Dwight Howard': 0.0, # doubtful - knee\n",
      "               'Patrick Beverley': 0.0, #doubtful - hamstring\n",
      "               'George Hill': 0.0, #QUESTIONABLE\n",
      "               'C.J. Watson': 0.0, #QUESTIONABLE\n",
      "               'David West': 0.0, #QUESTIONABLE\n",
      "               'Roy Hibbert': 0.0, #QUESTIONABLE\n",
      "               'Matt Barnes': 0.0, #QUESTIONABLE\n",
      "               'Dwyane Wade': 0.0, #QUESTIONABLE\n",
      "               'Ricky Rubio': 0.0, #injured - ankle (early jan)\n",
      "               'Eric Gordon': 0.0, #out indefinitely\n",
      "               'Carmelo Anthony': 0.0, # doubtful - back\n",
      "               'Aaron Gordon': 0.0, #out indefinitely\n",
      "               'Isaiah Thomas': 0.0, #questionable, ankle\n",
      "               'Darren Collison': 0.0, # questionable, quad\n",
      "               'Rudy Gay': 0.0, #questionable, achilles\n",
      "               'Tiago Splitter': 0.0, #out indefinitely\n",
      "               'Tyler Hansbrough': 0.0, #doubtful\n",
      "               'Nene Hilario': 0.0, #QUESTIONABLE\n",
      "               'Dirk Nowitzki': 0.0,\n",
      "               'Ersan Ilyasova': 0.0,\n",
      "               'Jamal Crawford': 0.0,\n",
      "               'Tony Wroten': 0.0,\n",
      "               'Kemba Walker':0.0\n",
      "               #'Andrew Wiggins': 0.0, #nope\n",
      "              }\n",
      "        for key in adjustments_disc.keys():\n",
      "            adjustments[key] = 0.0\n",
      "        \n",
      "        while (finished == False):\n",
      "            finished = True\n",
      "            results = optimizer.run_optimization(os.path.join('draftkings_data', fn), ema_dk_projections, adjustments, num_lineups)\n",
      "            for i in range(num_lineups): #make sure all lineups are valid\n",
      "                for player_name in results[i]['team']:\n",
      "                    if player_name not in players_fpts.keys():\n",
      "                        adjustments[player_name] = 0.0\n",
      "                        finished = False\n",
      "        for i in range(num_lineups):\n",
      "            team_fpts = 0.0\n",
      "            for player_name in results[i]['team']:\n",
      "                team_fpts += players_fpts[player_name] \n",
      "            print results[i]['team'] , team_fpts, str(date)\n",
      "    except IOError, e:\n",
      "        print 'no cost data for date ' + str(date)\n",
      "        #print 'no cost data for date ' + str(date) \n",
      "    \n",
      "    print \"\\n\"\n",
      "    date += datetime.timedelta(days=1)\n",
      "            "
     ],
     "language": "python",
     "metadata": {},
     "outputs": []
    },
    {
     "cell_type": "code",
     "collapsed": false,
     "input": [
      "### REGRESSION: Players' fantasy points vs pace of the game. Filtered by players who play more than X minutes.\n",
      "## results: ??\n",
      "\n",
      "gids = [g.get_game_id() for g in game_data]\n",
      "pace = []\n",
      "player_fp = []\n",
      "for p in player_data:\n",
      "    p_info = p.get_info()\n",
      "    index = 0\n",
      "    for gid in p_info['GAME_ID']:\n",
      "        g = game_data[gids.index(gid)]\n",
      "        temp = p.calculate_fp(game_number=index,site='DraftKings')\n",
      "        if temp is not None:\n",
      "            # minutes filter\n",
      "            if float(p_info['MIN'][index].split(':')[0]) > 20:\n",
      "                pace.append(g.home_info['PACE']) #WLOG use home_info, pace should be the same for both teams\n",
      "                player_fp.append(temp)\n",
      "        index += 1\n",
      "        \n",
      "df = pd.DataFrame(np.array([pace, player_fp]).T, columns=['pace', 'fp'])\n",
      "df['const'] = np.ones((len(df), ))\n",
      "reg = sm.OLS(df.fp, df[['pace', 'const']]).fit()\n",
      "print reg.summary()\n",
      "\n",
      "plt.figure()\n",
      "plt.plot(df.pace, df.fp, '.', alpha=0.5)\n",
      "xval = np.linspace(80,110,10)\n",
      "plt.plot(xval, reg.params['const']+reg.params['pace']*xval,'-')\n",
      "plt.xlabel('pace')\n",
      "plt.ylabel('fantasy points')\n",
      "plt.show()\n"
     ],
     "language": "python",
     "metadata": {},
     "outputs": []
    },
    {
     "cell_type": "code",
     "collapsed": false,
     "input": [
      "### REGRESSION: Players' fantasy points vs opponent's def ratings. Filtered by players who play more than X minutes.\n",
      "## results: not promising; check accuracy of data?\n",
      "\n",
      "#for g in game_data:\n",
      "#    print g\n",
      "#def_ratings, off_ratings = data_getters.get_ratings(2015) # may take a bit to hit all the teams\n",
      "def_ratings['CHA'] = def_ratings['CHO'] # note CHO = CHA\n",
      "def_ratings['PHX'] = def_ratings['PHO'] # note PHO = PHX\n",
      "def_ratings['BKN'] = def_ratings['BRK']\n",
      "#print def_ratings\n",
      "\n",
      "\n",
      "# regress a player's fantasy points vs opponent's def rating\n",
      "gids = [g.get_game_id() for g in game_data]\n",
      "opp_def_rating = []\n",
      "player_fp = []\n",
      "for p in player_data:\n",
      "    p_info = p.get_info()\n",
      "    index = 0\n",
      "    for gid in p_info['GAME_ID']:\n",
      "        g = game_data[gids.index(gid)]\n",
      "        # check for which team the player is on, then get the other team's defensive rating\n",
      "        if p_info['TEAM_ID'][index] == g.get_home_id():\n",
      "            opp_abb = g.get_away_abb()\n",
      "        elif p_info['TEAM_ID'][index] == g.get_away_id():\n",
      "            opp_abb = g.get_home_abb()\n",
      "        else:\n",
      "            print \"what\"\n",
      "        temp = p.calculate_fp(game_number=index,site='DraftKings')\n",
      "        if temp is not None:\n",
      "            # minutes filter\n",
      "            if float(p_info['MIN'][index].split(':')[0]) > 20:\n",
      "                opp_def_rating.append(def_ratings[opp_abb])\n",
      "                player_fp.append(temp)\n",
      "        index += 1\n",
      "\n",
      "        \n",
      "df = pd.DataFrame(np.array([opp_def_rating, player_fp]).T, columns=['opp_def_rating', 'fp'])\n",
      "df['const'] = np.ones((len(df), ))\n",
      "reg = sm.OLS(df.fp, df[['opp_def_rating', 'const']]).fit()\n",
      "print reg.summary()\n",
      "\n",
      "plt.figure()\n",
      "plt.plot(df.opp_def_rating, df.fp, '.', alpha=0.5)\n",
      "xval = np.linspace(95,120,10)\n",
      "plt.plot(xval, reg.params['const']+reg.params['opp_def_rating']*xval,'-')\n",
      "plt.xlabel('opponent def rating')\n",
      "plt.ylabel('fantasy points')\n",
      "plt.show()"
     ],
     "language": "python",
     "metadata": {},
     "outputs": []
    }
   ],
   "metadata": {}
  }
 ]
}
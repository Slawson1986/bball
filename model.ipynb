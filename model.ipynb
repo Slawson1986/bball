{
 "metadata": {
  "name": "",
  "signature": "sha256:3a9ef2770f4fcffa675f0c713e4f1ea19d366c1a2b827ee192d4bbebdab23ccd"
 },
 "nbformat": 3,
 "nbformat_minor": 0,
 "worksheets": [
  {
   "cells": [
    {
     "cell_type": "code",
     "collapsed": false,
     "input": [
      "import os\n",
      "import datetime\n",
      "import numpy as np\n",
      "import pandas as pd\n",
      "import data_getters\n",
      "from entities import Player, Game\n",
      "import boxscores"
     ],
     "language": "python",
     "metadata": {},
     "outputs": [],
     "prompt_number": 1
    },
    {
     "cell_type": "code",
     "collapsed": false,
     "input": [
      "data_getters.download_gamelog_jsons(2014,'boxscores_advanced/2014',boxtype='advanced',start_game=170, end_game=1230)"
     ],
     "language": "python",
     "metadata": {},
     "outputs": [
      {
       "output_type": "stream",
       "stream": "stdout",
       "text": [
        "170\n",
        "20141120-LACMIA\n",
        "171"
       ]
      },
      {
       "output_type": "stream",
       "stream": "stdout",
       "text": [
        "\n",
        "20141120-CHISAC\n",
        "172\n",
        "20141121-ORLCHA"
       ]
      },
      {
       "output_type": "stream",
       "stream": "stdout",
       "text": [
        "\n",
        "173\n",
        "20141121-PHXPHI\n",
        "174\n",
        "20141121-DETATL"
       ]
      },
      {
       "output_type": "stream",
       "stream": "stdout",
       "text": [
        "\n",
        "175\n",
        "20141121-MILTOR\n",
        "176"
       ]
      },
      {
       "output_type": "stream",
       "stream": "stdout",
       "text": [
        "\n",
        "20141121-BOSMEM\n",
        "177\n",
        "20141121-SASMIN"
       ]
      },
      {
       "output_type": "stream",
       "stream": "stdout",
       "text": [
        "\n",
        "178\n",
        "20141121-BKNOKC\n",
        "179"
       ]
      },
      {
       "output_type": "stream",
       "stream": "stdout",
       "text": [
        "\n",
        "20141121-CLEWAS\n",
        "180\n",
        "20141121-LALDAL"
       ]
      },
      {
       "output_type": "stream",
       "stream": "stdout",
       "text": [
        "\n",
        "181\n",
        "20141121-NOPDEN\n",
        "182"
       ]
      },
      {
       "output_type": "stream",
       "stream": "stdout",
       "text": [
        "\n",
        "Downloaded until game 181\n"
       ]
      }
     ],
     "prompt_number": 2
    },
    {
     "cell_type": "code",
     "collapsed": false,
     "input": [
      "# LOADS DATA TO MEMORY AND WRITES TO CSV\n",
      "\n",
      "# TODO: CHANGE DAY\n",
      "latest_day = datetime.date(2014,11,20)\n",
      "dk = 'DraftKings'\n",
      "fd = 'FanDuel'\n",
      "\n",
      "player_data, game_data = boxscores.load_jsons_to_`memory('boxscores_advanced/2014', latest_day)\n",
      "players = [p.get_name() for p in player_data]\n",
      "\n",
      "boxscores.write_predictions(player_data, 'model_predictions/model_predictions_' + dk + '_' + str(latest_day) + '.csv', dk)\n",
      "boxscores.write_predictions(player_data, 'model_predictions/model_predictions_' + fd + '_' + str(latest_day) + '.csv', fd)"
     ],
     "language": "python",
     "metadata": {},
     "outputs": [
      {
       "metadata": {},
       "output_type": "pyout",
       "prompt_number": 3,
       "text": [
        "True"
       ]
      }
     ],
     "prompt_number": 3
    },
    {
     "cell_type": "code",
     "collapsed": false,
     "input": [
      "#for g in game_data:\n",
      "#    print g\n"
     ],
     "language": "python",
     "metadata": {},
     "outputs": [],
     "prompt_number": 7
    },
    {
     "cell_type": "code",
     "collapsed": false,
     "input": [
      "# EXAMPLE USAGE\n",
      "lookup = 'Zaza Pachulia'\n",
      "p = player_data[players.index(lookup)]\n",
      "p_info = p.get_info()\n",
      "p_adv_info = p.get_adv_info()\n",
      "\n",
      "for key in p_info:\n",
      "    print key + \": \" + str(p_info[key])\n",
      "\n",
      "for key in p_adv_info:\n",
      "    print key + \": \" + str(p_adv_info[key])\n",
      "    \n",
      "print \"\\npredictions\"\n",
      "\n",
      "for s in ['PTS', 'FG3M', 'REB', 'AST', 'STL', 'BLK', 'TO']:\n",
      "    print s + \": \" + str(p.predict(s))\n",
      "\n",
      "print \"expected FP (DK): \" + str(p.calculate_fp(game_number='predict', site=\"DraftKings\"))"
     ],
     "language": "python",
     "metadata": {},
     "outputs": [
      {
       "output_type": "stream",
       "stream": "stdout",
       "text": [
        "TO: [3, None, 3, 1, 2, 1, 0, 2, 2, 2, 4, 2]\n",
        "MIN: [u'14:28', None, u'14:08', u'20:21', u'18:26', u'16:57', u'14:49', u'22:29', u'14:54', u'25:17', u'34:33', u'28:58']\n",
        "PLAYER_ID: [2585, 2585, 2585, 2585, 2585, 2585, 2585, 2585, 2585, 2585, 2585, 2585]\n",
        "TEAM_ID: [1610612749, 1610612749, 1610612749, 1610612749, 1610612749, 1610612749, 1610612749, 1610612749, 1610612749, 1610612749, 1610612749, 1610612749]\n",
        "REB: [1, None, 2, 3, 3, 4, 3, 10, 5, 5, 13, 5]\n",
        "COMMENT: [u'', u\"DNP - Coach's Decision                  \", u'', u'', u'', u'', u'', u'', u'', u'', u'', u'']\n",
        "FG3A: [0, None, 0, 0, 0, 0, 0, 0, 0, 1, 0, 0]\n",
        "PLAYER_NAME: [u'Zaza Pachulia', u'Zaza Pachulia', u'Zaza Pachulia', u'Zaza Pachulia', u'Zaza Pachulia', u'Zaza Pachulia', u'Zaza Pachulia', u'Zaza Pachulia', u'Zaza Pachulia', u'Zaza Pachulia', u'Zaza Pachulia', u'Zaza Pachulia']\n",
        "AST: [0, None, 1, 3, 3, 1, 0, 4, 1, 2, 4, 1]\n",
        "TEAM_ABBREVIATION: [u'MIL', u'MIL', u'MIL', u'MIL', u'MIL', u'MIL', u'MIL', u'MIL', u'MIL', u'MIL', u'MIL', u'MIL']\n",
        "FG3M: [0, None, 0, 0, 0, 0, 0, 0, 0, 0, 0, 0]\n",
        "OREB: [0, None, 1, 0, 1, 1, 2, 4, 1, 2, 7, 2]\n",
        "FGM: [2, None, 1, 4, 1, 3, 2, 3, 1, 5, 6, 2]\n",
        "START_POSITION: [u'', u'', u'', u'', u'', u'', u'', u'', u'', u'', u'C', u'']\n",
        "PF: [1, None, 1, 4, 2, 3, 4, 4, 4, 3, 2, 5]\n",
        "PTS: [4, None, 2, 9, 3, 6, 4, 8, 2, 11, 14, 4]\n",
        "FGA: [5, None, 3, 7, 5, 3, 4, 7, 3, 9, 11, 7]\n",
        "PLUS_MINUS: [-8.0, None, -2.0, -5.0, 3.0, 2.0, -2.0, 13.0, -11.0, 2.0, 15.0, 3.0]\n",
        "STL: [2, None, 0, 1, 1, 2, 0, 2, 0, 1, 2, 1]\n",
        "FTA: [0, None, 0, 2, 1, 0, 0, 2, 0, 1, 2, 0]\n",
        "BLK: [1, None, 0, 1, 0, 1, 0, 1, 0, 0, 0, 1]\n",
        "GAME_ID: [u'0021400004', u'0021400023', u'0021400031', u'0021400049', u'0021400062', u'0021400076', u'0021400088', u'0021400105', u'0021400123', u'0021400143', u'0021400156', u'0021400164']\n",
        "DREB: [1, None, 1, 3, 2, 3, 1, 6, 4, 3, 6, 3]\n",
        "FTM: [0, None, 0, 1, 1, 0, 0, 2, 0, 1, 2, 0]\n",
        "FT_PCT: [0.0, None, 0.0, 0.5, 1.0, 0.0, 0.0, 1.0, 0.0, 1.0, 1.0, 0.0]\n",
        "FG_PCT: [0.4, None, 0.333, 0.571, 0.2, 1.0, 0.5, 0.429, 0.333, 0.556, 0.545, 0.286]\n",
        "FG3_PCT: [0.0, None, 0.0, 0.0, 0.0, 0.0, 0.0, 0.0, 0.0, 0.0, 0.0, 0.0]\n",
        "TEAM_CITY: [u'Milwaukee', u'Milwaukee', u'Milwaukee', u'Milwaukee', u'Milwaukee', u'Milwaukee', u'Milwaukee', u'Milwaukee', u'Milwaukee', u'Milwaukee', u'Milwaukee', u'Milwaukee']\n",
        "MIN: [u'14:28', None, u'14:08', u'20:21', u'18:26', u'16:57', u'14:49', u'22:29', u'14:54', u'25:17', u'34:33', u'28:58']\n",
        "TEAM_ID: [1610612749, 1610612749, 1610612749, 1610612749, 1610612749, 1610612749, 1610612749, 1610612749, 1610612749, 1610612749, 1610612749, 1610612749]\n",
        "PLAYER_ID: [2585, 2585, 2585, 2585, 2585, 2585, 2585, 2585, 2585, 2585, 2585, 2585]\n",
        "AST_PCT: [0.0, None, 0.125, 0.273, 0.25, 0.091, 0.0, 0.333, 0.125, 0.133, 0.148, 0.045]\n",
        "COMMENT: [u'', u\"DNP - Coach's Decision                  \", u'', u'', u'', u'', u'', u'', u'', u'', u'', u'']\n",
        "EFG_PCT: [0.4, None, 0.333, 0.571, 0.2, 1.0, 0.5, 0.429, 0.333, 0.556, 0.545, 0.286]\n",
        "PLAYER_NAME: [u'Zaza Pachulia', u'Zaza Pachulia', u'Zaza Pachulia', u'Zaza Pachulia', u'Zaza Pachulia', u'Zaza Pachulia', u'Zaza Pachulia', u'Zaza Pachulia', u'Zaza Pachulia', u'Zaza Pachulia', u'Zaza Pachulia', u'Zaza Pachulia']\n",
        "DEF_RATING: [98.5, None, 92.0, 126.2, 88.0, 111.8, 85.1, 58.1, 115.6, 93.5, 115.7, 93.8]\n",
        "NET_RATING: [-14.4, None, -11.7, -22.5, 2.9, 7.1, -5.3, 38.7, -38.4, -0.6, 22.6, 7.9]\n",
        "TEAM_ABBREVIATION: [u'MIL', u'MIL', u'MIL', u'MIL', u'MIL', u'MIL', u'MIL', u'MIL', u'MIL', u'MIL', u'MIL', u'MIL']\n",
        "PIE: [0.011, None, -0.042, 0.115, 0.036, 0.143, 0.0, 0.391, -0.01, 0.151, 0.126, -0.017]\n",
        "START_POSITION: [u'', u'', u'', u'', u'', u'', u'', u'', u'', u'', u'C', u'']\n",
        "TM_TOV_PCT: [37.5, None, 42.9, 8.4, 19.2, 20.0, 0.0, 14.4, 33.3, 14.9, 20.1, 20.0]\n",
        "TS_PCT: [0.4, None, 0.333, 0.571, 0.276, 1.0, 0.5, 0.508, 0.333, 0.583, 0.589, 0.286]\n",
        "USG_PCT: [0.249, 0.0, 0.14, 0.224, 0.16, 0.114, 0.11, 0.209, 0.153, 0.214, 0.205, 0.152]\n",
        "OREB_PCT: [0.0, None, 0.059, 0.0, 0.048, 0.1, 0.2, 0.182, 0.059, 0.087, 0.304, 0.083]\n",
        "REB_PCT: [0.042, None, 0.074, 0.088, 0.088, 0.174, 0.136, 0.208, 0.172, 0.135, 0.25, 0.111]\n",
        "GAME_ID: [u'0021400004', u'0021400023', u'0021400031', u'0021400049', u'0021400062', u'0021400076', u'0021400088', u'0021400105', u'0021400123', u'0021400143', u'0021400156', u'0021400164']\n",
        "DREB_PCT: [0.077, None, 0.1, 0.158, 0.154, 0.231, 0.083, 0.231, 0.333, 0.214, 0.207, 0.143]\n",
        "PACE: [112.16, None, 114.52, 83.4, 97.49, 90.85, 102.09, 90.73, 95.3, 91.66, 89.14, 92.49]\n",
        "AST_TOV: [0.0, None, 0.33, 3.0, 1.5, 1.0, 0.0, 2.0, 0.5, 1.0, 1.0, 0.5]\n",
        "AST_RATIO: [0.0, 0.0, 14.3, 25.3, 28.7, 20.0, 0.0, 28.8, 16.7, 14.9, 20.1, 10.0]\n",
        "TEAM_CITY: [u'Milwaukee', u'Milwaukee', u'Milwaukee', u'Milwaukee', u'Milwaukee', u'Milwaukee', u'Milwaukee', u'Milwaukee', u'Milwaukee', u'Milwaukee', u'Milwaukee', u'Milwaukee']\n",
        "OFF_RATING: [84.2, None, 80.4, 103.7, 90.9, 118.9, 79.8, 96.8, 77.3, 92.9, 138.3, 101.7]\n",
        "\n",
        "predictions\n",
        "PTS: 7.35115721094\n",
        "FG3M: 0.0\n",
        "REB: 6.72910147763\n",
        "AST: 2.0366649949\n",
        "STL: 1.15913237745\n",
        "BLK: 0.438089760664\n",
        "TO: 2.2751089034\n",
        "expected FP (DK): 20.8744213749\n"
       ]
      }
     ],
     "prompt_number": 5
    },
    {
     "cell_type": "code",
     "collapsed": false,
     "input": [
      "# CALCULATES FP FOR A GIVEN TEAM\n",
      "\n",
      "def print_summary(team, game_number):\n",
      "    score = []\n",
      "    var = []\n",
      "    for t in team:\n",
      "        p = player_data[players.index(t)]\n",
      "        score.append(p.calculate_fp(game_number))\n",
      "        var.append(p.calculate_fp_variance(scaled=False))\n",
      "        print t + \": \" + \"%.2f\" % score[-1] + \"\\t\\tStd: \" + \"%.2f\" % np.sqrt(var[-1]) + \"\\t ScaledStd: \" + \"%.2f\" % (np.sqrt(var[-1])/score[-1])\n",
      "    \n",
      "    print \"Total: \" + str(sum([x for x in score if x != None]))\n",
      "    print \"Std of lineup: \" + str(np.sqrt(sum(var)))\n",
      "\n",
      "team = ['Chris Paul',\n",
      "        'Rudy Gay',\n",
      "        'Jimmy Butler',\n",
      "        'Mario Chalmers',\n",
      "        'Jamal Crawford',\n",
      "        'Taj Gibson',\n",
      "        'Shawne Williams',\n",
      "        'Spencer Hawes']\n",
      "\n",
      "print_summary(team, game_number=-1)\n",
      "print\n",
      "\n",
      "team = ['DeMarcus Cousins',\n",
      "        'Rudy Gay',\n",
      "        'Jimmy Butler',\n",
      "        'Mario Chalmers',\n",
      "        'Jamal Crawford',\n",
      "        'Taj Gibson',\n",
      "        'Carl Landry',\n",
      "        'Spencer Hawes']\n",
      "print_summary(team, game_number=-1)\n",
      "print"
     ],
     "language": "python",
     "metadata": {},
     "outputs": [
      {
       "output_type": "stream",
       "stream": "stdout",
       "text": [
        "Chris Paul: 51.00\t\tStd: 8.45\t ScaledStd: 0.17\n",
        "Rudy Gay: 32.75\t\tStd: 10.05\t ScaledStd: 0.31\n",
        "Jimmy Butler: 37.00\t\tStd: 6.20\t ScaledStd: 0.17\n",
        "Mario Chalmers: 23.75\t\tStd: 9.61\t ScaledStd: 0.40\n",
        "Jamal Crawford: 23.75\t\tStd: 7.21\t ScaledStd: 0.30\n",
        "Taj Gibson: 26.50\t\tStd: 9.33\t ScaledStd: 0.35\n",
        "Shawne Williams: 13.75\t\tStd: 7.02\t ScaledStd: 0.51\n",
        "Spencer Hawes: 15.75\t\tStd: 7.66\t ScaledStd: 0.49\n",
        "Total: 224.25\n",
        "Std of lineup: 23.458107714\n",
        "\n",
        "DeMarcus Cousins: 48.50\t\tStd: 10.04\t ScaledStd: 0.21\n",
        "Rudy Gay: 32.75\t\tStd: 10.05\t ScaledStd: 0.31\n",
        "Jimmy Butler: 37.00\t\tStd: 6.20\t ScaledStd: 0.17\n",
        "Mario Chalmers: 23.75\t\tStd: 9.61\t ScaledStd: 0.40\n",
        "Jamal Crawford: 23.75\t\tStd: 7.21\t ScaledStd: 0.30\n",
        "Taj Gibson: 26.50\t\tStd: 9.33\t ScaledStd: 0.35\n",
        "Carl Landry: 10.00\t\tStd: 6.48\t ScaledStd: 0.65\n",
        "Spencer Hawes: 15.75\t\tStd: 7.66\t ScaledStd: 0.49\n",
        "Total: 218.0\n",
        "Std of lineup: 23.9228583631\n",
        "\n"
       ]
      }
     ],
     "prompt_number": 6
    },
    {
     "cell_type": "code",
     "collapsed": false,
     "input": [],
     "language": "python",
     "metadata": {},
     "outputs": [],
     "prompt_number": 37
    },
    {
     "cell_type": "code",
     "collapsed": false,
     "input": [],
     "language": "python",
     "metadata": {},
     "outputs": []
    },
    {
     "cell_type": "code",
     "collapsed": false,
     "input": [],
     "language": "python",
     "metadata": {},
     "outputs": []
    },
    {
     "cell_type": "code",
     "collapsed": false,
     "input": [],
     "language": "python",
     "metadata": {},
     "outputs": []
    }
   ],
   "metadata": {}
  }
 ]
}
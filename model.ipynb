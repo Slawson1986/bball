{
 "metadata": {
  "name": "",
  "signature": "sha256:564da8d31f2248c1d0a08282821055bbfe517fbcc672c04a221e3c6de54b3a63"
 },
 "nbformat": 3,
 "nbformat_minor": 0,
 "worksheets": [
  {
   "cells": [
    {
     "cell_type": "code",
     "collapsed": false,
     "input": [
      "import os\n",
      "import datetime\n",
      "import numpy as np\n",
      "import pandas as pd\n",
      "import matplotlib.pyplot as plt\n",
      "%matplotlib inline\n",
      "import statsmodels.formula.api as sm\n",
      "\n",
      "# custom modules\n",
      "import data_getters, model, boxscores, optimizer\n",
      "from entities import Player, Game"
     ],
     "language": "python",
     "metadata": {},
     "outputs": [],
     "prompt_number": 1
    },
    {
     "cell_type": "code",
     "collapsed": false,
     "input": [
      "# Downloads latest boxscores. Run only once a day.\n",
      "data_getters.download_gamelog_jsons(2014,'boxscores_advanced/2014',boxtype='advanced',start_game=235, end_game=1230)"
     ],
     "language": "python",
     "metadata": {},
     "outputs": [
      {
       "output_type": "stream",
       "stream": "stdout",
       "text": [
        "222\n",
        "20141126-MEMLAL"
       ]
      },
      {
       "output_type": "stream",
       "stream": "stdout",
       "text": [
        "\n",
        "223\n",
        "20141128-CHIBOS"
       ]
      },
      {
       "output_type": "stream",
       "stream": "stdout",
       "text": [
        "\n",
        "224\n",
        "20141128-GSWCHA"
       ]
      },
      {
       "output_type": "stream",
       "stream": "stdout",
       "text": [
        "\n",
        "225\n",
        "20141128-NOPATL"
       ]
      },
      {
       "output_type": "stream",
       "stream": "stdout",
       "text": [
        "\n",
        "226\n",
        "20141128-MILDET"
       ]
      },
      {
       "output_type": "stream",
       "stream": "stdout",
       "text": [
        "\n",
        "227\n",
        "20141128-DALTOR"
       ]
      },
      {
       "output_type": "stream",
       "stream": "stdout",
       "text": [
        "\n",
        "228\n",
        "20141128-LACHOU"
       ]
      },
      {
       "output_type": "stream",
       "stream": "stdout",
       "text": [
        "\n",
        "229\n",
        "20141128-NYKOKC"
       ]
      },
      {
       "output_type": "stream",
       "stream": "stdout",
       "text": [
        "\n",
        "230\n",
        "20141128-ORLIND"
       ]
      },
      {
       "output_type": "stream",
       "stream": "stdout",
       "text": [
        "\n",
        "231\n",
        "20141128-SACSAS"
       ]
      },
      {
       "output_type": "stream",
       "stream": "stdout",
       "text": [
        "\n",
        "232\n",
        "20141128-PHXDEN"
       ]
      },
      {
       "output_type": "stream",
       "stream": "stdout",
       "text": [
        "\n",
        "233\n",
        "20141128-MEMPOR"
       ]
      },
      {
       "output_type": "stream",
       "stream": "stdout",
       "text": [
        "\n",
        "234\n",
        "20141128-MINLAL"
       ]
      },
      {
       "output_type": "stream",
       "stream": "stdout",
       "text": [
        "\n",
        "235\n",
        "Downloaded until game 234"
       ]
      },
      {
       "output_type": "stream",
       "stream": "stdout",
       "text": [
        "\n"
       ]
      }
     ],
     "prompt_number": 6
    },
    {
     "cell_type": "code",
     "collapsed": false,
     "input": [
      "# TODO: CHANGE latest_day\n",
      "latest_day = datetime.date(2014,11,29)\n",
      "dk = 'DraftKings'\n",
      "fd = 'FanDuel'"
     ],
     "language": "python",
     "metadata": {},
     "outputs": [],
     "prompt_number": 8
    },
    {
     "cell_type": "code",
     "collapsed": true,
     "input": [
      "## RUN JUST ONCE A DAY, if already run, run the next cell to load from excel rather than rescraping\n",
      "\n",
      "# downloads vegas lines (add one to date because lines are current for today's games whereas ratings are up to games from yesterday)\n",
      "vegas_lines = data_getters.get_vegas_lines('vegas_lines/' + str(latest_day+datetime.timedelta(days=1)) + '_lines.csv', site='covers')\n",
      "print vegas_lines\n",
      "\n",
      "# downloads defensive and offensive ratings\n",
      "def_ratings, off_ratings = data_getters.get_ratings(2015, 'defoff_ratings/' + str(latest_day) + '.csv') # may take a bit to hit all the teams"
     ],
     "language": "python",
     "metadata": {},
     "outputs": [
      {
       "output_type": "stream",
       "stream": "stdout",
       "text": [
        "{u'Chicago@Boston': [205.5, 3.0], u'Sacramento@San Antonio': [194.0, -8.5], u'Minnesota@L.A. Lakers': [214.5, -5.5], u'New Orleans@Atlanta': [206.0, -2.5], u'Phoenix@Denver': [218.0, -1.0], u'Milwaukee@Detroit': [188.0, -3.0], u'Golden State@Charlotte': [200.0, 9.0], u'L.A. Clippers@Houston': [199.0, 3.0], u'Orlando@Indiana': [190.0, -5.5], u'Memphis@Portland': [192.5, -3.5], u'New York@Oklahoma City': [185.5, -7.5], u'Dallas@Toronto': [210.0, -3.5]}\n",
        "ATL\n",
        "BOS"
       ]
      },
      {
       "output_type": "stream",
       "stream": "stdout",
       "text": [
        "\n",
        "BRK"
       ]
      },
      {
       "output_type": "stream",
       "stream": "stdout",
       "text": [
        "\n",
        "CHO"
       ]
      },
      {
       "output_type": "stream",
       "stream": "stdout",
       "text": [
        "\n",
        "CHI"
       ]
      },
      {
       "output_type": "stream",
       "stream": "stdout",
       "text": [
        "\n",
        "CLE"
       ]
      },
      {
       "output_type": "stream",
       "stream": "stdout",
       "text": [
        "\n",
        "DAL"
       ]
      },
      {
       "output_type": "stream",
       "stream": "stdout",
       "text": [
        "\n",
        "DEN"
       ]
      },
      {
       "output_type": "stream",
       "stream": "stdout",
       "text": [
        "\n",
        "DET"
       ]
      },
      {
       "output_type": "stream",
       "stream": "stdout",
       "text": [
        "\n",
        "GSW"
       ]
      },
      {
       "output_type": "stream",
       "stream": "stdout",
       "text": [
        "\n",
        "HOU"
       ]
      },
      {
       "output_type": "stream",
       "stream": "stdout",
       "text": [
        "\n",
        "IND"
       ]
      },
      {
       "output_type": "stream",
       "stream": "stdout",
       "text": [
        "\n",
        "LAC"
       ]
      },
      {
       "output_type": "stream",
       "stream": "stdout",
       "text": [
        "\n",
        "LAL"
       ]
      },
      {
       "output_type": "stream",
       "stream": "stdout",
       "text": [
        "\n",
        "MEM"
       ]
      },
      {
       "output_type": "stream",
       "stream": "stdout",
       "text": [
        "\n",
        "MIA"
       ]
      },
      {
       "output_type": "stream",
       "stream": "stdout",
       "text": [
        "\n",
        "MIL"
       ]
      },
      {
       "output_type": "stream",
       "stream": "stdout",
       "text": [
        "\n",
        "MIN"
       ]
      },
      {
       "output_type": "stream",
       "stream": "stdout",
       "text": [
        "\n",
        "NOP"
       ]
      },
      {
       "output_type": "stream",
       "stream": "stdout",
       "text": [
        "\n",
        "NYK"
       ]
      },
      {
       "output_type": "stream",
       "stream": "stdout",
       "text": [
        "\n",
        "OKC"
       ]
      },
      {
       "output_type": "stream",
       "stream": "stdout",
       "text": [
        "\n",
        "ORL"
       ]
      },
      {
       "output_type": "stream",
       "stream": "stdout",
       "text": [
        "\n",
        "PHI"
       ]
      },
      {
       "output_type": "stream",
       "stream": "stdout",
       "text": [
        "\n",
        "PHO"
       ]
      },
      {
       "output_type": "stream",
       "stream": "stdout",
       "text": [
        "\n",
        "POR"
       ]
      },
      {
       "output_type": "stream",
       "stream": "stdout",
       "text": [
        "\n",
        "SAC"
       ]
      },
      {
       "output_type": "stream",
       "stream": "stdout",
       "text": [
        "\n",
        "SAS"
       ]
      },
      {
       "output_type": "stream",
       "stream": "stdout",
       "text": [
        "\n",
        "TOR"
       ]
      },
      {
       "output_type": "stream",
       "stream": "stdout",
       "text": [
        "\n",
        "UTA"
       ]
      },
      {
       "output_type": "stream",
       "stream": "stdout",
       "text": [
        "\n",
        "WAS"
       ]
      },
      {
       "output_type": "stream",
       "stream": "stdout",
       "text": [
        "\n"
       ]
      }
     ],
     "prompt_number": 4
    },
    {
     "cell_type": "code",
     "collapsed": false,
     "input": [
      "# LOAD vegas lines and def/off ratings to memory from excel files\n",
      "vegas_lines = data_getters.read_from_file('vegas_lines', 'vegas_lines/' + str(latest_day+datetime.timedelta(days=1)) +'_lines.csv')\n",
      "#normally should be +datetime.timedelta(days=1) but isn't now due to testing\n",
      "\n",
      "def_ratings, off_ratings = data_getters.read_from_file('ratings', 'defoff_ratings/' + str(latest_day) + '.csv')"
     ],
     "language": "python",
     "metadata": {},
     "outputs": [],
     "prompt_number": 5
    },
    {
     "cell_type": "code",
     "collapsed": false,
     "input": [
      "##### LOADS BOXSCORE DATA TO MEMORY #####\n",
      "player_data, game_data = boxscores.load_jsons_to_memory('boxscores_advanced/2014', latest_day)\n",
      "players = [p.get_name() for p in player_data]\n",
      "\n",
      "# writes EMA model results\n",
      "ema_dk_projections = model.write_predictions(player_data, 'ema', vegas_lines=None, def_ratings=None, off_ratings=None,\n",
      "                        excel_fn='model_predictions/model_predictions_' + dk + '_' + str(latest_day) + '.csv', dfs_site=dk)\n",
      "ema_fd_projections = model.write_predictions(player_data, 'ema', vegas_lines=None, def_ratings=None, off_ratings=None,\n",
      "                        excel_fn='model_predictions/model_predictions_' + fd + '_' + str(latest_day) + '.csv', dfs_site=fd)\n",
      "\n",
      "# writes possession model results, commented out right now because vegas lines are wonky\n",
      "\n",
      "#model.write_predictions(player_data, 'possessions', vegas_lines, def_ratings, off_ratings,\n",
      "#                        'model_predictions/pos_model_predictions_' + dk + '_' + str(latest_day) + '.csv', dk)"
     ],
     "language": "python",
     "metadata": {},
     "outputs": [],
     "prompt_number": 9
    },
    {
     "cell_type": "code",
     "collapsed": false,
     "input": [
      "##### RUN OPTIMIZER #####\n",
      "fn = 'draftkings_data/DKSalaries_11292014.csv'\n",
      "adjustments = {'Kevin Martin': 0.0, #injury - wrist (early jan)\n",
      "               'Terrence Jones': 0.0, #injury - leg\n",
      "               'Perry Jones': 0.0, #injury\n",
      "               'Gary Neal': 0.0, #QUESTIONABLE\n",
      "               'Marvin Williams': 0.0, #QUESTIONABLE\n",
      "               'Michael Kidd-Gilchrist': 0.0, #injury\n",
      "               'Joakim Noah': 0.0, #questionable - knee\n",
      "               'Taj Gibson': 0.0, #doubtful - ankle\n",
      "               'Derrick Rose': 0.0, #doubtful - hamstring\n",
      "               'Raymond Felton': 0.0, #QUESTIONABLE\n",
      "               'Jameer Nelson': 0.0, #QUESTIONABLE\n",
      "               'JaVale McGee': 0.0, #QUESTIONABLE\n",
      "               'Danilo Gallinari': 0.0, #QUESTIONABLE\n",
      "               'Brandon Jennings': 0.0, #QUESTIONABLE\n",
      "               'David Lee': 0.0, #injured - hamstring\n",
      "               'Dwight Howard': 0.0, # doubtful - knee\n",
      "               'Patrick Beverley': 0.0, #doubtful - hamstring\n",
      "               'George Hill': 0.0, #QUESTIONABLE\n",
      "               'C.J. Watson': 0.0, #QUESTIONABLE\n",
      "               'David West': 0.0, #QUESTIONABLE\n",
      "               'Roy Hibbert': 0.0, #QUESTIONABLE\n",
      "               'Matt Barnes': 0.0, #QUESTIONABLE\n",
      "               'Dwyane Wade': 0.0, #QUESTIONABLE\n",
      "               'Ricky Rubio': 0.0, #injured - ankle (early jan)\n",
      "               'Eric Gordon': 0.0, #out indefinitely\n",
      "               'Carmelo Anthony': 0.0, # doubtful - back\n",
      "               'Aaron Gordon': 0.0, #out indefinitely\n",
      "               'Isaiah Thomas': 0.0, #questionable, ankle\n",
      "               'Darren Collison': 0.0, # questionable, quad\n",
      "               'Rudy Gay': 0.0, #questionable, achilles\n",
      "               'Tiago Splitter': 0.0, #out indefinitely\n",
      "               'Tyler Hansbrough': 0.0, #doubtful\n",
      "               'Nene Hilario': 0.0, #QUESTIONABLE\n",
      "               'Dirk Nowitzki': 0.0,\n",
      "               'Ersan Ilyasova': 0.0,\n",
      "               'Jamal Crawford': 0.0,\n",
      "               'Tony Wroten': 0.0,\n",
      "               'Kemba Walker':0.0,\n",
      "               'Lavoy Allen': 0.0\n",
      "               #'Andrew Wiggins': 0.0, #nope\n",
      "              }\n",
      "num_lineups = 10\n",
      "\n",
      "##### gets results for pure DraftKings projections #####\n",
      "#results = optimizer.run_optimization(fn, None, adjustments, num_lineups)\n",
      "\n",
      "##### gets results for our EMA DraftKings projections #####\n",
      "results = optimizer.run_optimization(fn, ema_dk_projections, adjustments, num_lineups)\n",
      "\n",
      "for r in results:\n",
      "    print r['value'], r['team']"
     ],
     "language": "python",
     "metadata": {},
     "outputs": [
      {
       "output_type": "stream",
       "stream": "stdout",
       "text": [
        "256.53171528 ['LeBron James', 'Jeff Teague', 'Tyreke Evans', 'Tyson Chandler', 'Luis Scola', 'Rodney Stuckey', 'Omer Asik', 'Jabari Parker']\n",
        "255.0405215 ['James Harden', 'Jeff Teague', 'Tyreke Evans', 'Tyson Chandler', 'Donald Sloan', 'Luis Scola', 'Cody Zeller', 'Jabari Parker']\n",
        "254.9765647 ['Blake Griffin', 'Al Jefferson', 'Jeff Teague', 'Tyreke Evans', 'Tyson Chandler', 'Rodney Stuckey', 'Jabari Parker', 'Luc Richard Mbah a Moute']\n",
        "254.86969497 ['LeBron James', 'Jeff Teague', 'Tyreke Evans', 'Tyson Chandler', 'Enes Kanter', 'Rodney Stuckey', 'Jabari Parker', 'Brandon Davies']\n",
        "254.81797707 ['James Harden', 'Jeff Teague', 'Gordon Hayward', 'Tyson Chandler', 'Donald Sloan', 'Luis Scola', 'Rodney Stuckey', 'Jabari Parker']\n",
        "254.76852074 ['James Harden', 'Blake Griffin', 'Jeff Teague', 'Tyson Chandler', 'Luis Scola', 'Rodney Stuckey', 'Jabari Parker', 'A.J. Price']\n",
        "254.55806997 ['Blake Griffin', 'Jeff Teague', 'Tyreke Evans', 'Tyson Chandler', 'Trevor Ariza', 'Trey Burke', 'Rodney Stuckey', 'Jabari Parker']\n",
        "254.43843897 ['LeBron James', 'Jeff Teague', 'Tyreke Evans', 'Tyson Chandler', 'Luis Scola', 'Rodney Stuckey', 'Larry Sanders', 'Jabari Parker']\n",
        "254.33632956 ['James Harden', 'Al Jefferson', 'Jeff Teague', 'Tyreke Evans', 'Tyson Chandler', 'Jabari Parker', 'Luc Richard Mbah a Moute', 'Brandon Davies']\n",
        "254.29008726 ['James Harden', 'Al Jefferson', 'Jeff Teague', 'Tyson Chandler', 'Trevor Ariza', 'Rodney Stuckey', 'Jabari Parker', 'Brandon Davies']\n"
       ]
      }
     ],
     "prompt_number": 17
    },
    {
     "cell_type": "code",
     "collapsed": false,
     "input": [
      "# EXAMPLE USAGE\n",
      "lookup = 'Jimmy Butler'\n",
      "p = player_data[players.index(lookup)]\n",
      "p_info = p.get_info()\n",
      "p_adv_info = p.get_adv_info()\n",
      "\n",
      "#for key in p_info:\n",
      "#    print key + \": \" + str(p_info[key])\n",
      "\n",
      "#for key in p_adv_info:\n",
      "#    print key + \": \" + str(p_adv_info[key])\n",
      "    \n",
      "print \"\\npredictions\"\n",
      "\n",
      "for s in ['PTS', 'FG3M', 'REB', 'AST', 'STL', 'BLK', 'TO']:\n",
      "    print s + \": \" + str(p.predict(s))\n",
      "\n",
      "print \"expected FP (DK): \" + str(p.calculate_fp(game_number='predict', site=\"DraftKings\"))\n",
      "\n",
      "p.possessions_model(101.)"
     ],
     "language": "python",
     "metadata": {},
     "outputs": [
      {
       "output_type": "stream",
       "stream": "stdout",
       "text": [
        "\n",
        "predictions\n",
        "PTS: 23.9365194334\n",
        "FG3M: 0.522756452485\n",
        "REB: 6.02299214493\n",
        "AST: 2.22877168751\n",
        "STL: 1.8383716752\n",
        "BLK: 0.125631861182\n",
        "TO: 1.93930103777\n",
        "expected FP (DK): 38.0281519259\n"
       ]
      },
      {
       "metadata": {},
       "output_type": "pyout",
       "prompt_number": 19,
       "text": [
        "{'predicted_fp': 40.039995009686677, 'predicted_sd': 8.5259519332641336}"
       ]
      }
     ],
     "prompt_number": 19
    },
    {
     "cell_type": "code",
     "collapsed": false,
     "input": [
      "# CALCULATES FP FOR A GIVEN TEAM\n",
      "\n",
      "def print_summary(team, game_number):\n",
      "    score = []\n",
      "    var = []\n",
      "    for t in team:\n",
      "        p = player_data[players.index(t)]\n",
      "        score.append(p.calculate_fp(game_number))\n",
      "        var.append(p.calculate_fp_variance(scaled=False))\n",
      "        print t + \": \" + \"%.2f\" % score[-1] + \"\\t\\tStd: \" + \"%.2f\" % np.sqrt(var[-1]) + \"\\t ScaledStd: \" + \"%.2f\" % (np.sqrt(var[-1])/score[-1])\n",
      "    \n",
      "    print \"Total: \" + str(sum([x for x in score if x != None]))\n",
      "    print \"Std of lineup: \" + str(np.sqrt(sum(var)))\n",
      "\n",
      "team = ['D.J. Augustin',\n",
      "'Jimmy Butler',\n",
      "'Luol Deng',\n",
      "'Pau Gasol',\n",
      "'DeMarcus Cousins',\n",
      "'Ben McLemore',\n",
      "'Wilson Chandler',\n",
      "'Marreese Speights']\n",
      "\n",
      "print_summary(team, game_number=-1)\n",
      "print"
     ],
     "language": "python",
     "metadata": {},
     "outputs": []
    },
    {
     "cell_type": "code",
     "collapsed": false,
     "input": [],
     "language": "python",
     "metadata": {},
     "outputs": []
    },
    {
     "cell_type": "code",
     "collapsed": false,
     "input": [],
     "language": "python",
     "metadata": {},
     "outputs": []
    },
    {
     "cell_type": "code",
     "collapsed": false,
     "input": [
      "import data_getters, model, boxscores, optimizer\n",
      "date = datetime.date(2014,11,2)\n",
      "player_data, game_data = boxscores.load_jsons_to_memory('boxscores_advanced/2014', date)\n",
      "players = [p.get_name() for p in player_data]\n",
      "\n",
      "relevant_games =[g for g in game_data if g.home_info['TEAM_ABBREVIATION'] == \"MIN\" or g.away_info['TEAM_ABBREVIATION'] == \"MIN\"]\n",
      "game_dates = [g.home_info['GAME_DATE_EST'] for g in relevant_games]\n",
      "game_date_objs = []\n",
      "for game_date in game_dates:\n",
      "    print game_date\n",
      "    date_attrs = game_date.split(\"T\")[0].split('-')\n",
      "    game_date_objs.append(datetime.date(int(date_attrs[0]), int(date_attrs[1]), int(date_attrs[2])))\n",
      "\n",
      "game_id = relevant_games[game_date_objs.index(date)].home_info['GAME_ID']\n",
      "\n",
      "print game_id"
     ],
     "language": "python",
     "metadata": {},
     "outputs": [
      {
       "output_type": "stream",
       "stream": "stdout",
       "text": [
        "2014-10-29T00:00:00\n",
        "2014-10-30T00:00:00\n",
        "2014-11-01T00:00:00\n"
       ]
      },
      {
       "ename": "ValueError",
       "evalue": "datetime.date(2014, 11, 2) is not in list",
       "output_type": "pyerr",
       "traceback": [
        "\u001b[0;31m---------------------------------------------------------------------------\u001b[0m\n\u001b[0;31mValueError\u001b[0m                                Traceback (most recent call last)",
        "\u001b[0;32m<ipython-input-83-67b7241f22eb>\u001b[0m in \u001b[0;36m<module>\u001b[0;34m()\u001b[0m\n\u001b[1;32m     12\u001b[0m     \u001b[0mgame_date_objs\u001b[0m\u001b[0;34m.\u001b[0m\u001b[0mappend\u001b[0m\u001b[0;34m(\u001b[0m\u001b[0mdatetime\u001b[0m\u001b[0;34m.\u001b[0m\u001b[0mdate\u001b[0m\u001b[0;34m(\u001b[0m\u001b[0mint\u001b[0m\u001b[0;34m(\u001b[0m\u001b[0mdate_attrs\u001b[0m\u001b[0;34m[\u001b[0m\u001b[0;36m0\u001b[0m\u001b[0;34m]\u001b[0m\u001b[0;34m)\u001b[0m\u001b[0;34m,\u001b[0m \u001b[0mint\u001b[0m\u001b[0;34m(\u001b[0m\u001b[0mdate_attrs\u001b[0m\u001b[0;34m[\u001b[0m\u001b[0;36m1\u001b[0m\u001b[0;34m]\u001b[0m\u001b[0;34m)\u001b[0m\u001b[0;34m,\u001b[0m \u001b[0mint\u001b[0m\u001b[0;34m(\u001b[0m\u001b[0mdate_attrs\u001b[0m\u001b[0;34m[\u001b[0m\u001b[0;36m2\u001b[0m\u001b[0;34m]\u001b[0m\u001b[0;34m)\u001b[0m\u001b[0;34m)\u001b[0m\u001b[0;34m)\u001b[0m\u001b[0;34m\u001b[0m\u001b[0m\n\u001b[1;32m     13\u001b[0m \u001b[0;34m\u001b[0m\u001b[0m\n\u001b[0;32m---> 14\u001b[0;31m \u001b[0mgame_id\u001b[0m \u001b[0;34m=\u001b[0m \u001b[0mrelevant_games\u001b[0m\u001b[0;34m[\u001b[0m\u001b[0mgame_date_objs\u001b[0m\u001b[0;34m.\u001b[0m\u001b[0mindex\u001b[0m\u001b[0;34m(\u001b[0m\u001b[0mdate\u001b[0m\u001b[0;34m)\u001b[0m\u001b[0;34m]\u001b[0m\u001b[0;34m.\u001b[0m\u001b[0mhome_info\u001b[0m\u001b[0;34m[\u001b[0m\u001b[0;34m'GAME_ID'\u001b[0m\u001b[0;34m]\u001b[0m\u001b[0;34m\u001b[0m\u001b[0m\n\u001b[0m\u001b[1;32m     15\u001b[0m \u001b[0;34m\u001b[0m\u001b[0m\n\u001b[1;32m     16\u001b[0m \u001b[0;32mprint\u001b[0m \u001b[0mgame_id\u001b[0m\u001b[0;34m\u001b[0m\u001b[0m\n",
        "\u001b[0;31mValueError\u001b[0m: datetime.date(2014, 11, 2) is not in list"
       ]
      }
     ],
     "prompt_number": 83
    },
    {
     "cell_type": "code",
     "collapsed": false,
     "input": [
      "# BACKTESTER\n",
      "import os\n",
      "import datetime\n",
      "import data_getters, model, boxscores, optimizer\n",
      "\n",
      "date = datetime.date(2014,11,1)\n",
      "end_date = datetime.date(2014,11,29)\n",
      "dk = 'DraftKings'\n",
      "num_lineups = 1\n",
      "\n",
      "# backtest through date range\n",
      "while date < end_date:\n",
      "    # load data up to the date\n",
      "    player_data, game_data = boxscores.load_jsons_to_memory('boxscores_advanced/2014', date-datetime.timedelta(days=1))\n",
      "    players = [p.get_name() for p in player_data]\n",
      "\n",
      "    # get predictions given data up to the day before the desired date\n",
      "    ema_dk_projections = model.write_predictions(player_data, 'ema', vegas_lines=None, def_ratings=None, off_ratings=None,excel_fn='model_predictions/model_predictions_' + dk + '_' + str(date) + '.csv', dfs_site=dk)\n",
      "\n",
      "    adjustments = {} # fades/injuries\n",
      "    players_fpts = {} # player performance of desired day\n",
      "    \n",
      "    # load the boxscore up to desired date\n",
      "    player_data, game_data = boxscores.load_jsons_to_memory('boxscores_advanced/2014', date)\n",
      "    #print \"length\", len(player_data[0].info['GAME_ID'])\n",
      "    players = [p.get_name() for p in player_data]\n",
      "    \n",
      "    # go through players, get the game_id that the player is in on the given date, and\n",
      "    # put player's fantasy performance into players_fpts\n",
      "    for player_name in players:\n",
      "        player = player_data[players.index(player_name)]\n",
      "        relevant_games =[g for g in game_data if g.home_info['TEAM_ABBREVIATION'] == player.info['TEAM_ABBREVIATION'][0] or g.away_info['TEAM_ABBREVIATION'] == player.info['TEAM_ABBREVIATION'][0]]\n",
      "        game_dates = [g.home_info['GAME_DATE_EST'] for g in relevant_games]\n",
      "        game_date_objs = []\n",
      "        for game_date in game_dates:\n",
      "            date_attrs = game_date.split(\"T\")[0].split('-')\n",
      "            game_date_objs.append(datetime.date(int(date_attrs[0]), int(date_attrs[1]), int(date_attrs[2])))\n",
      "        try:\n",
      "            game_id = relevant_games[game_date_objs.index(date)].home_info['GAME_ID']\n",
      "            index = player.info['GAME_ID'].index(game_id) \n",
      "            players_fpts[player_name] = player.calculate_fp(game_number=index)\n",
      "            if players_fpts[player_name] == None: # can't compute player fp due to injury, coach's decision to not play, etc. \n",
      "                adjustments[player_name] = 0.0\n",
      "        except Exception as e: # player didn't play on the date or doesn't have the game_id (both cases do occur, i've checked)\n",
      "            adjustments[player_name] = 0.0 \n",
      "            \n",
      "    try:\n",
      "        fn = 'DKSalaries_' + date.strftime('%m%d%Y') + '.csv' \n",
      "        print fn\n",
      "        \n",
      "        # weird bug where player might not be in our players dict. if this happens, toss player and rerun optimizer\n",
      "        # TODO: investigate bug more -- what's really going on? \n",
      "        finished = False\n",
      "        while (finished == False):\n",
      "            finished = True\n",
      "            results = optimizer.run_optimization(os.path.join('draftkings_data', fn), ema_dk_projections, adjustments, num_lineups)\n",
      "            for player_name in results[0]['team']:\n",
      "                if player_name not in players_fpts.keys():\n",
      "                    adjustments[player_name] = 0.0\n",
      "                    finished = False\n",
      "        team_fpts = 0.0\n",
      "        for player_name in results[0]['team']:\n",
      "            team_fpts += players_fpts[player_name] \n",
      "        print results[0]['team'] , team_fpts, str(date)\n",
      "    except IOError, e:\n",
      "        print 'no cost data for date ' + str(date)\n",
      "        #print 'no cost data for date ' + str(date) \n",
      "    \n",
      "    date += datetime.timedelta(days=1)\n",
      "            "
     ],
     "language": "python",
     "metadata": {},
     "outputs": [
      {
       "output_type": "stream",
       "stream": "stdout",
       "text": [
        "DKSalaries_11012014.csv\n",
        "looping\n",
        "['Anthony Davis', 'Chris Bosh', 'Kemba Walker', 'Omer Asik', 'Mirza Teletovic', 'O.J. Mayo', 'Mike Dunleavy', 'Mo Williams']"
       ]
      },
      {
       "output_type": "stream",
       "stream": "stdout",
       "text": [
        " 214.5 2014-11-01\n",
        "DKSalaries_11022014.csv"
       ]
      },
      {
       "output_type": "stream",
       "stream": "stdout",
       "text": [
        "\n",
        "looping\n",
        "['Stephen Curry', 'Chris Bosh', 'Klay Thompson', 'Darren Collison', 'Michael Kidd-Gilchrist', 'Chris Kaman', 'Shawne Williams', 'Quincy Acy'] 211.0 2014-11-02\n",
        "DKSalaries_11032014.csv"
       ]
      },
      {
       "output_type": "stream",
       "stream": "stdout",
       "text": [
        "\n",
        "looping\n",
        "['Anthony Davis', 'Rudy Gay', 'Tyreke Evans', 'Tony Wroten', 'Joe Johnson', 'Trevor Booker', 'Nick Collison', 'Kostas Papanikolaou']"
       ]
      },
      {
       "output_type": "stream",
       "stream": "stdout",
       "text": [
        " 204.25 2014-11-03\n",
        "DKSalaries_11042014.csv"
       ]
      },
      {
       "output_type": "stream",
       "stream": "stdout",
       "text": [
        "\n",
        "looping\n",
        "looping"
       ]
      },
      {
       "output_type": "stream",
       "stream": "stdout",
       "text": [
        "\n",
        "['John Wall', 'Nikola Vucevic', 'Tyreke Evans', 'Trevor Ariza', 'Reggie Jackson', 'Jimmy Butler', 'Chris Copeland', 'Shawne Williams'] 272.5 2014-11-04\n",
        "DKSalaries_11052014.csv"
       ]
      },
      {
       "output_type": "stream",
       "stream": "stdout",
       "text": [
        "\n",
        "looping\n",
        "no cost data for date 2014-11-05\n",
        "DKSalaries_11062014.csv"
       ]
      },
      {
       "output_type": "stream",
       "stream": "stdout",
       "text": [
        "\n",
        "looping\n",
        "['James Harden', 'Trevor Ariza', 'Chandler Parsons', 'Robin Lopez', 'Tyson Chandler', 'Devin Harris', 'Boris Diaw', 'Isaiah Canaan'] 172.25 2014-11-06\n",
        "DKSalaries_11072014.csv"
       ]
      },
      {
       "output_type": "stream",
       "stream": "stdout",
       "text": [
        "\n",
        "looping\n",
        "['Tony Wroten', 'Brandon Knight', 'Jeff Green', 'Greg Monroe', 'Kevin Martin', 'Jimmy Butler', 'Chris Copeland', 'Kelly Olynyk']"
       ]
      },
      {
       "output_type": "stream",
       "stream": "stdout",
       "text": [
        " 258.75 2014-11-07\n",
        "DKSalaries_11082014.csv"
       ]
      },
      {
       "output_type": "stream",
       "stream": "stdout",
       "text": [
        "\n",
        "looping\n",
        "no cost data for date 2014-11-08\n",
        "DKSalaries_11092014.csv"
       ]
      },
      {
       "output_type": "stream",
       "stream": "stdout",
       "text": [
        "\n",
        "looping\n",
        "no cost data for date 2014-11-09\n",
        "DKSalaries_11102014.csv"
       ]
      },
      {
       "output_type": "stream",
       "stream": "stdout",
       "text": [
        "\n",
        "looping\n",
        "no cost data for date 2014-11-10\n",
        "DKSalaries_11112014.csv"
       ]
      },
      {
       "output_type": "stream",
       "stream": "stdout",
       "text": [
        "\n",
        "looping\n",
        "['Stephen Curry', 'Zach Randolph', 'Reggie Jackson', 'Draymond Green', 'Tyson Chandler', 'Kawhi Leonard', 'Courtney Lee', 'Jeremy Lamb']"
       ]
      },
      {
       "output_type": "stream",
       "stream": "stdout",
       "text": [
        " 236.5 2014-11-11\n",
        "DKSalaries_11122014.csv"
       ]
      },
      {
       "output_type": "stream",
       "stream": "stdout",
       "text": [
        "\n",
        "looping\n",
        "no cost data for date 2014-11-12\n",
        "DKSalaries_11132014.csv"
       ]
      },
      {
       "output_type": "stream",
       "stream": "stdout",
       "text": [
        "\n",
        "looping\n",
        "no cost data for date 2014-11-13\n",
        "DKSalaries_11142014.csv"
       ]
      },
      {
       "output_type": "stream",
       "stream": "stdout",
       "text": [
        "\n",
        "looping\n",
        "looping"
       ]
      },
      {
       "output_type": "stream",
       "stream": "stdout",
       "text": [
        "\n",
        "['Anthony Davis', 'Dwight Howard', 'Brandon Jennings', 'Kawhi Leonard', 'Kyle Korver', 'Anthony Morrow', 'Lavoy Allen', 'Lance Thomas']"
       ]
      },
      {
       "output_type": "stream",
       "stream": "stdout",
       "text": [
        " 258.0 2014-11-14\n",
        "DKSalaries_11152014.csv"
       ]
      },
      {
       "output_type": "stream",
       "stream": "stdout",
       "text": [
        "\n",
        "looping\n",
        "no cost data for date 2014-11-15\n",
        "DKSalaries_11162014.csv"
       ]
      },
      {
       "output_type": "stream",
       "stream": "stdout",
       "text": [
        "\n",
        "looping\n",
        "no cost data for date 2014-11-16\n",
        "DKSalaries_11172014.csv"
       ]
      },
      {
       "output_type": "stream",
       "stream": "stdout",
       "text": [
        "\n",
        "looping\n",
        "looping"
       ]
      },
      {
       "output_type": "stream",
       "stream": "stdout",
       "text": [
        "\n",
        "['Rajon Rondo', 'Jimmy Butler', 'Tyreke Evans', 'Tobias Harris', 'Tyson Chandler', 'Tony Wroten', 'Shawne Williams', 'Nerlens Noel'] 247.0 2014-11-17\n",
        "DKSalaries_11182014.csv"
       ]
      },
      {
       "output_type": "stream",
       "stream": "stdout",
       "text": [
        "\n",
        "looping\n",
        "no cost data for date 2014-11-18\n",
        "DKSalaries_11192014.csv"
       ]
      },
      {
       "output_type": "stream",
       "stream": "stdout",
       "text": [
        "\n",
        "looping\n",
        "no cost data for date 2014-11-19\n",
        "DKSalaries_11202014.csv"
       ]
      },
      {
       "output_type": "stream",
       "stream": "stdout",
       "text": [
        "\n",
        "looping\n",
        "no cost data for date 2014-11-20\n",
        "DKSalaries_11212014.csv"
       ]
      },
      {
       "output_type": "stream",
       "stream": "stdout",
       "text": [
        "\n",
        "looping\n",
        "no cost data for date 2014-11-21\n",
        "DKSalaries_11222014.csv"
       ]
      },
      {
       "output_type": "stream",
       "stream": "stdout",
       "text": [
        "\n",
        "looping\n",
        "no cost data for date 2014-11-22\n",
        "DKSalaries_11232014.csv"
       ]
      },
      {
       "output_type": "stream",
       "stream": "stdout",
       "text": [
        "\n",
        "looping\n",
        "no cost data for date 2014-11-23\n",
        "DKSalaries_11242014.csv"
       ]
      },
      {
       "output_type": "stream",
       "stream": "stdout",
       "text": [
        "\n",
        "looping\n",
        "no cost data for date 2014-11-24\n",
        "DKSalaries_11252014.csv"
       ]
      },
      {
       "output_type": "stream",
       "stream": "stdout",
       "text": [
        "\n",
        "looping\n",
        "no cost data for date 2014-11-25\n",
        "DKSalaries_11262014.csv"
       ]
      },
      {
       "output_type": "stream",
       "stream": "stdout",
       "text": [
        "\n",
        "looping\n",
        "no cost data for date 2014-11-26\n",
        "DKSalaries_11272014.csv"
       ]
      },
      {
       "output_type": "stream",
       "stream": "stdout",
       "text": [
        "\n",
        "looping\n",
        "no cost data for date 2014-11-27\n",
        "DKSalaries_11282014.csv"
       ]
      },
      {
       "output_type": "stream",
       "stream": "stdout",
       "text": [
        "\n",
        "looping\n",
        "['Jeff Teague', 'Tobias Harris', 'Dirk Nowitzki', 'Markieff Morris', 'Tyson Chandler', 'Andrew Bogut', 'Jamal Crawford', 'Jose Calderon']"
       ]
      },
      {
       "output_type": "stream",
       "stream": "stdout",
       "text": [
        " 207.25 2014-11-28\n"
       ]
      }
     ],
     "prompt_number": 18
    },
    {
     "cell_type": "code",
     "collapsed": false,
     "input": [
      "### REGRESSION: Players' fantasy points vs pace of the game. Filtered by players who play more than X minutes.\n",
      "## results: ??\n",
      "\n",
      "gids = [g.get_game_id() for g in game_data]\n",
      "pace = []\n",
      "player_fp = []\n",
      "for p in player_data:\n",
      "    p_info = p.get_info()\n",
      "    index = 0\n",
      "    for gid in p_info['GAME_ID']:\n",
      "        g = game_data[gids.index(gid)]\n",
      "        temp = p.calculate_fp(game_number=index,site='DraftKings')\n",
      "        if temp is not None:\n",
      "            # minutes filter\n",
      "            if float(p_info['MIN'][index].split(':')[0]) > 20:\n",
      "                pace.append(g.home_info['PACE']) #WLOG use home_info, pace should be the same for both teams\n",
      "                player_fp.append(temp)\n",
      "        index += 1\n",
      "        \n",
      "df = pd.DataFrame(np.array([pace, player_fp]).T, columns=['pace', 'fp'])\n",
      "df['const'] = np.ones((len(df), ))\n",
      "reg = sm.OLS(df.fp, df[['pace', 'const']]).fit()\n",
      "print reg.summary()\n",
      "\n",
      "plt.figure()\n",
      "plt.plot(df.pace, df.fp, '.', alpha=0.5)\n",
      "xval = np.linspace(80,110,10)\n",
      "plt.plot(xval, reg.params['const']+reg.params['pace']*xval,'-')\n",
      "plt.xlabel('pace')\n",
      "plt.ylabel('fantasy points')\n",
      "plt.show()\n"
     ],
     "language": "python",
     "metadata": {},
     "outputs": [
      {
       "ename": "NameError",
       "evalue": "name 'game_data' is not defined",
       "output_type": "pyerr",
       "traceback": [
        "\u001b[0;31m---------------------------------------------------------------------------\u001b[0m\n\u001b[0;31mNameError\u001b[0m                                 Traceback (most recent call last)",
        "\u001b[0;32m<ipython-input-13-6fb3a4da5eda>\u001b[0m in \u001b[0;36m<module>\u001b[0;34m()\u001b[0m\n\u001b[1;32m      2\u001b[0m \u001b[0;31m## results: ??\u001b[0m\u001b[0;34m\u001b[0m\u001b[0;34m\u001b[0m\u001b[0m\n\u001b[1;32m      3\u001b[0m \u001b[0;34m\u001b[0m\u001b[0m\n\u001b[0;32m----> 4\u001b[0;31m \u001b[0mgids\u001b[0m \u001b[0;34m=\u001b[0m \u001b[0;34m[\u001b[0m\u001b[0mg\u001b[0m\u001b[0;34m.\u001b[0m\u001b[0mget_game_id\u001b[0m\u001b[0;34m(\u001b[0m\u001b[0;34m)\u001b[0m \u001b[0;32mfor\u001b[0m \u001b[0mg\u001b[0m \u001b[0;32min\u001b[0m \u001b[0mgame_data\u001b[0m\u001b[0;34m]\u001b[0m\u001b[0;34m\u001b[0m\u001b[0m\n\u001b[0m\u001b[1;32m      5\u001b[0m \u001b[0mpace\u001b[0m \u001b[0;34m=\u001b[0m \u001b[0;34m[\u001b[0m\u001b[0;34m]\u001b[0m\u001b[0;34m\u001b[0m\u001b[0m\n\u001b[1;32m      6\u001b[0m \u001b[0mplayer_fp\u001b[0m \u001b[0;34m=\u001b[0m \u001b[0;34m[\u001b[0m\u001b[0;34m]\u001b[0m\u001b[0;34m\u001b[0m\u001b[0m\n",
        "\u001b[0;31mNameError\u001b[0m: name 'game_data' is not defined"
       ]
      }
     ],
     "prompt_number": 13
    },
    {
     "cell_type": "code",
     "collapsed": false,
     "input": [
      "### REGRESSION: Players' fantasy points vs opponent's def ratings. Filtered by players who play more than X minutes.\n",
      "## results: not promising; check accuracy of data?\n",
      "\n",
      "#for g in game_data:\n",
      "#    print g\n",
      "#def_ratings, off_ratings = data_getters.get_ratings(2015) # may take a bit to hit all the teams\n",
      "def_ratings['CHA'] = def_ratings['CHO'] # note CHO = CHA\n",
      "def_ratings['PHX'] = def_ratings['PHO'] # note PHO = PHX\n",
      "def_ratings['BKN'] = def_ratings['BRK']\n",
      "#print def_ratings\n",
      "\n",
      "\n",
      "# regress a player's fantasy points vs opponent's def rating\n",
      "gids = [g.get_game_id() for g in game_data]\n",
      "opp_def_rating = []\n",
      "player_fp = []\n",
      "for p in player_data:\n",
      "    p_info = p.get_info()\n",
      "    index = 0\n",
      "    for gid in p_info['GAME_ID']:\n",
      "        g = game_data[gids.index(gid)]\n",
      "        # check for which team the player is on, then get the other team's defensive rating\n",
      "        if p_info['TEAM_ID'][index] == g.get_home_id():\n",
      "            opp_abb = g.get_away_abb()\n",
      "        elif p_info['TEAM_ID'][index] == g.get_away_id():\n",
      "            opp_abb = g.get_home_abb()\n",
      "        else:\n",
      "            print \"what\"\n",
      "        temp = p.calculate_fp(game_number=index,site='DraftKings')\n",
      "        if temp is not None:\n",
      "            # minutes filter\n",
      "            if float(p_info['MIN'][index].split(':')[0]) > 20:\n",
      "                opp_def_rating.append(def_ratings[opp_abb])\n",
      "                player_fp.append(temp)\n",
      "        index += 1\n",
      "\n",
      "        \n",
      "df = pd.DataFrame(np.array([opp_def_rating, player_fp]).T, columns=['opp_def_rating', 'fp'])\n",
      "df['const'] = np.ones((len(df), ))\n",
      "reg = sm.OLS(df.fp, df[['opp_def_rating', 'const']]).fit()\n",
      "print reg.summary()\n",
      "\n",
      "plt.figure()\n",
      "plt.plot(df.opp_def_rating, df.fp, '.', alpha=0.5)\n",
      "xval = np.linspace(95,120,10)\n",
      "plt.plot(xval, reg.params['const']+reg.params['opp_def_rating']*xval,'-')\n",
      "plt.xlabel('opponent def rating')\n",
      "plt.ylabel('fantasy points')\n",
      "plt.show()"
     ],
     "language": "python",
     "metadata": {},
     "outputs": []
    }
   ],
   "metadata": {}
  }
 ]
}
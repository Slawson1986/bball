{
 "metadata": {
  "name": "",
  "signature": "sha256:3a9ef2770f4fcffa675f0c713e4f1ea19d366c1a2b827ee192d4bbebdab23ccd"
 },
 "nbformat": 3,
 "nbformat_minor": 0,
 "worksheets": [
  {
   "cells": [
    {
     "cell_type": "code",
     "collapsed": false,
     "input": [
      "import datetime\n",
      "import os\n",
      "import json\n",
      "import numpy as np\n",
      "import pandas as pd\n",
      "import csv\n",
      "import data_getters"
     ],
     "language": "python",
     "metadata": {},
     "outputs": [],
     "prompt_number": 1
    },
    {
     "cell_type": "code",
     "collapsed": false,
     "input": [
      "data_getters.download_gamelog_jsons(2014,'boxscores_advanced/2014',boxtype='advanced',start_game=145, end_game=1230)"
     ],
     "language": "python",
     "metadata": {},
     "outputs": [
      {
       "output_type": "stream",
       "stream": "stdout",
       "text": [
        "145\n",
        "20141116-GSWLAL"
       ]
      },
      {
       "output_type": "stream",
       "stream": "stdout",
       "text": [
        "\n",
        "146\n",
        "20141117-DALCHA"
       ]
      },
      {
       "output_type": "stream",
       "stream": "stdout",
       "text": [
        "\n",
        "147\n",
        "20141117-DENCLE"
       ]
      },
      {
       "output_type": "stream",
       "stream": "stdout",
       "text": [
        "\n",
        "148\n",
        "20141117-PHXBOS"
       ]
      },
      {
       "output_type": "stream",
       "stream": "stdout",
       "text": [
        "\n",
        "149\n",
        "20141117-MIABKN"
       ]
      },
      {
       "output_type": "stream",
       "stream": "stdout",
       "text": [
        "\n",
        "150\n",
        "20141117-ORLDET"
       ]
      },
      {
       "output_type": "stream",
       "stream": "stdout",
       "text": [
        "\n",
        "151\n",
        "20141117-HOUMEM"
       ]
      },
      {
       "output_type": "stream",
       "stream": "stdout",
       "text": [
        "\n",
        "152\n",
        "20141117-PHISAS"
       ]
      },
      {
       "output_type": "stream",
       "stream": "stdout",
       "text": [
        "\n",
        "153\n",
        "20141117-NOPPOR"
       ]
      },
      {
       "output_type": "stream",
       "stream": "stdout",
       "text": [
        "\n",
        "154\n",
        "20141117-CHILAC"
       ]
      },
      {
       "output_type": "stream",
       "stream": "stdout",
       "text": [
        "\n",
        "155\n",
        "Downloaded until game 154"
       ]
      },
      {
       "output_type": "stream",
       "stream": "stdout",
       "text": [
        "\n"
       ]
      }
     ],
     "prompt_number": 2
    },
    {
     "cell_type": "code",
     "collapsed": false,
     "input": [
      "# player class\n",
      "class Player:\n",
      "    def __init__(self):\n",
      "        self.info = {}\n",
      "        self.adv_info = {}\n",
      "        self.headers = [u'GAME_ID', u'TEAM_ID', \n",
      "                   u'TEAM_ABBREVIATION', u'TEAM_CITY', \n",
      "                   u'PLAYER_ID', u'PLAYER_NAME', \n",
      "                   u'START_POSITION', u'COMMENT', \n",
      "                   u'MIN', u'FGM', u'FGA', \n",
      "                   u'FG_PCT', u'FG3M', u'FG3A', \n",
      "                   u'FG3_PCT', u'FTM', u'FTA', u'FT_PCT', \n",
      "                   u'OREB', u'DREB', u'REB', u'AST', \n",
      "                   u'STL', u'BLK', u'TO', u'PF', u'PTS', \n",
      "                   u'PLUS_MINUS']\n",
      "        self.adv_headers = [\n",
      "                \"GAME_ID\", \n",
      "                \"TEAM_ID\", \n",
      "                \"TEAM_ABBREVIATION\", \n",
      "                \"TEAM_CITY\", \n",
      "                \"PLAYER_ID\", \n",
      "                \"PLAYER_NAME\", \n",
      "                \"START_POSITION\", \n",
      "                \"COMMENT\", \n",
      "                \"MIN\", \n",
      "                \"OFF_RATING\", \n",
      "                \"DEF_RATING\", \n",
      "                \"NET_RATING\", \n",
      "                \"AST_PCT\", \n",
      "                \"AST_TOV\", \n",
      "                \"AST_RATIO\", \n",
      "                \"OREB_PCT\", \n",
      "                \"DREB_PCT\", \n",
      "                \"REB_PCT\", \n",
      "                \"TM_TOV_PCT\", \n",
      "                \"EFG_PCT\", \n",
      "                \"TS_PCT\", \n",
      "                \"USG_PCT\", \n",
      "                \"PACE\", \n",
      "                \"PIE\"\n",
      "            ]\n",
      "        for h in self.headers:\n",
      "            self.info[h] = []\n",
      "        for h in self.adv_headers:\n",
      "            self.adv_info[h] = []\n",
      "    \n",
      "    # TODO\n",
      "    def add_game_from_boxscore(self, data, boxtype):\n",
      "        if boxtype == 'normal':\n",
      "            this_headers = self.headers\n",
      "        elif boxtype == 'advanced':\n",
      "            this_headers = self.adv_headers\n",
      "            \n",
      "        assert len(data) == len(this_headers)\n",
      "        for i in range(len(data)):\n",
      "            if boxtype == 'normal':\n",
      "                self.info[this_headers[i]].append(data[i])\n",
      "            elif boxtype == 'advanced':\n",
      "                self.adv_info[this_headers[i]].append(data[i])\n",
      "    \n",
      "    # predict the given stat:\n",
      "    # [PTS, FG3M, REB, AST, STL, BLK, TO]\n",
      "    # \n",
      "    \"\"\" currently uses span-6 EWMA but we can change this \"\"\"\n",
      "    def predict(self, stat):\n",
      "        # note: if a player is missing games, it still calculates weights (see is_na flag in documentation)\n",
      "        return float(pd.stats.moments.ewma(pd.Series(self.info[stat]), span=6).tail(1))\n",
      "    \n",
      "    # calculates the number of fantasy points scored in the players nth game\n",
      "    # where n = game_number\n",
      "    # if game_number = 'predict' then it predicts using all the information so far\n",
      "    def calculate_fp(self, game_number=\"predict\", site=\"DraftKings\"):\n",
      "        if site == \"DraftKings\":\n",
      "            fp = 0\n",
      "            doubled = 0\n",
      "            weights = {'PTS': 1.0, 'FG3M': 0.5, 'REB': 1.25, 'AST': 1.5, 'STL': 2.0, 'BLK': 2.0, 'TO': -0.5}\n",
      "            for s, w in weights.iteritems():\n",
      "                if game_number == \"predict\":\n",
      "                    v = self.predict(s)\n",
      "                else:\n",
      "                    if game_number > len(self.info[s]):\n",
      "                        print \"Invalid game number\"\n",
      "                        return False\n",
      "                    v = self.info[s][game_number]\n",
      "                    if v == None:\n",
      "                        print \"Error: \" + self.info['COMMENT'][game_number]\n",
      "                        return\n",
      "                fp += v * w\n",
      "                if s in ['PTS', 'REB', 'AST', 'BLK', 'STL']:\n",
      "                    if v >= 10.0:\n",
      "                        doubled += 1\n",
      "            if doubled == 2:\n",
      "                fp += 1.5\n",
      "            elif doubled >= 3:\n",
      "                fp += 4.5 # assume that you get both DD and TD bonus\n",
      "            return fp if not np.isnan(fp) else 0.0\n",
      "        elif site == \"FanDuel\":\n",
      "            fp = 0\n",
      "            weights = {'PTS': 1.0, 'REB': 1.2, 'AST': 1.5, 'STL': 2.0, 'BLK': 2.0, 'TO': -1.0}\n",
      "            for s, w in weights.iteritems():\n",
      "                if game_number == 'predict':\n",
      "                    v = self.predict(s)\n",
      "                else:\n",
      "                    if game_number > len(self.info[s]):\n",
      "                        print 'Invalid game number'\n",
      "                        return False\n",
      "                    v = self.info[s][game_number]\n",
      "                    if v == None:\n",
      "                        print 'Error: ' + self.info['COMMENT'][game_number]\n",
      "                        return\n",
      "                fp += v * w\n",
      "            return fp if not np.isnan(fp) else 0.0\n",
      "        else:\n",
      "            return \"Not yet supported\"\n",
      "\n",
      "    def get_info(self):\n",
      "        return self.info\n",
      "    \n",
      "    def get_adv_info(self):\n",
      "        return self.adv_info\n",
      "    \n",
      "    def get_name(self):\n",
      "        return self.info['PLAYER_NAME'][-1]\n",
      "    \n",
      "    def __repr__(self):\n",
      "        return self.get_name()\n",
      "    \n",
      "    def __str__(self):\n",
      "        return self.get_name()"
     ],
     "language": "python",
     "metadata": {},
     "outputs": [],
     "prompt_number": 3
    },
    {
     "cell_type": "code",
     "collapsed": false,
     "input": [
      "# loads jsons to memory from box score directory\n",
      "# loads jsons up until and including end_date\n",
      "def load_jsons_to_memory(box_score_directory, end_date):\n",
      "    players = []\n",
      "    player_ids = []\n",
      "    for fn in os.listdir(box_score_directory):\n",
      "        datestring = fn.split('-')[0]\n",
      "        year = int(datestring[0:4])\n",
      "        month = int(datestring[4:6])\n",
      "        day = int(datestring[6:8])\n",
      "        if datetime.date(year, month, day) <= end_date:\n",
      "            with open(os.path.join(box_score_directory, fn)) as f:\n",
      "                t = json.load(f)\n",
      "                names = [t['resultSets'][i]['name'] for i in range(len(t['resultSets']))]\n",
      "                for player_data in t['resultSets'][names.index('PlayerStats')]['rowSet']:\n",
      "                    # can optimize here by keeping sorted list of player_ids but too lazy\n",
      "                    try:\n",
      "                        ind = player_ids.index(player_data[4])\n",
      "                        players[ind].add_game_from_boxscore(player_data, 'normal')\n",
      "                    # player not in player_ids\n",
      "                    except ValueError:\n",
      "                        player_ids.append(player_data[4])\n",
      "                        temp_player = Player()\n",
      "                        temp_player.add_game_from_boxscore(player_data, 'normal')\n",
      "                        players.append(temp_player)\n",
      "                # add advanced stats. would roll it in with code above but not sure if order is guaranteed\n",
      "                # to be the same for advanced stats as it is for normal stats\n",
      "                for player_data in t['resultSets'][names.index('sqlPlayersAdvanced')]['rowSet']:\n",
      "                    # can optimize here by keeping sorted list of player_ids but too lazy\n",
      "                    try:\n",
      "                        ind = player_ids.index(player_data[4])\n",
      "                        players[ind].add_game_from_boxscore(player_data, 'advanced')\n",
      "                    # player not in player_ids\n",
      "                    except ValueError:\n",
      "                        player_ids.append(player_data[4])\n",
      "                        temp_player = Player()\n",
      "                        temp_player.add_game_from_boxscore(player_data, 'advanced')\n",
      "                        players.append(temp_player)\n",
      "    return players\n",
      "\n",
      "# write predictions to excel sheet\n",
      "def write_predictions(player_data, excel_fn, dfs_site):\n",
      "    predictions = {}\n",
      "    for p in player_data:\n",
      "        predictions[p.get_name()] = p.calculate_fp(game_number=\"predict\", site=dfs_site)\n",
      "    with open(excel_fn, 'wb') as f:\n",
      "        writer = csv.writer(f)\n",
      "        for k, v in predictions.iteritems():\n",
      "            writer.writerow([k, v])\n",
      "    return True"
     ],
     "language": "python",
     "metadata": {},
     "outputs": [],
     "prompt_number": 4
    },
    {
     "cell_type": "code",
     "collapsed": false,
     "input": [
      "# LOADS DATA TO MEMORY AND WRITES TO CSV\n",
      "\n",
      "# TODO: CHANGE DAY\n",
      "latest_day = datetime.date(2014,11,17)\n",
      "dk = 'DraftKings'\n",
      "fd = 'FanDuel'\n",
      "\n",
      "player_data = load_jsons_to_memory('boxscores_advanced/2014', latest_day)\n",
      "players = [p.get_name() for p in player_data]\n",
      "\n",
      "write_predictions(player_data, 'model_predictions_' + dk + '_' + str(latest_day) + '.csv', dk)\n",
      "write_predictions(player_data, 'model_predictions_' + fd + '_' + str(latest_day) + '.csv', fd)"
     ],
     "language": "python",
     "metadata": {},
     "outputs": [
      {
       "metadata": {},
       "output_type": "pyout",
       "prompt_number": 10,
       "text": [
        "True"
       ]
      }
     ],
     "prompt_number": 10
    },
    {
     "cell_type": "code",
     "collapsed": false,
     "input": [
      "# EXAMPLE USAGE FOR DWIGHT HOWARD\n",
      "lookup = 'Jimmy Butler'\n",
      "p = player_data[players.index(lookup)]\n",
      "p_info = p.get_info()\n",
      "p_adv_info = p.get_adv_info()\n",
      "\n",
      "for key in p_info:\n",
      "    print key + \": \" + str(p_info[key])\n",
      "\n",
      "for key in p_adv_info:\n",
      "    print key + \": \" + str(p_adv_info[key])\n",
      "    \n",
      "print \"\\npredictions\"\n",
      "\n",
      "for s in ['PTS', 'FG3M', 'REB', 'AST', 'STL', 'BLK', 'TO']:\n",
      "    print s + \": \" + str(p.predict(s))\n",
      "\n",
      "print \"expected FP (DK): \" + str(p.calculate_fp(game_number='predict', site=\"DraftKings\"))"
     ],
     "language": "python",
     "metadata": {},
     "outputs": [
      {
       "output_type": "stream",
       "stream": "stdout",
       "text": [
        "TO: [2, 2, 4, 1, 0, 1, 1, 1, 3]\n",
        "MIN: [u'39:28', u'35:02', u'41:06', u'40:18', u'38:13', u'42:47', u'39:47', u'40:58', u'45:17']\n",
        "PLAYER_ID: [202710, 202710, 202710, 202710, 202710, 202710, 202710, 202710, 202710]\n",
        "TEAM_ID: [1610612741, 1610612741, 1610612741, 1610612741, 1610612741, 1610612741, 1610612741, 1610612741, 1610612741]\n",
        "REB: [4, 9, 6, 7, 5, 4, 9, 6, 6]\n",
        "COMMENT: [u'', u'', u'', u'', u'', u'', u'', u'', u'']\n",
        "FG3A: [3, 2, 0, 3, 3, 7, 3, 2, 4]\n",
        "PLAYER_NAME: [u'Jimmy Butler', u'Jimmy Butler', u'Jimmy Butler', u'Jimmy Butler', u'Jimmy Butler', u'Jimmy Butler', u'Jimmy Butler', u'Jimmy Butler', u'Jimmy Butler']\n",
        "AST: [2, 3, 7, 5, 2, 1, 6, 1, 8]\n",
        "TEAM_ABBREVIATION: [u'CHI', u'CHI', u'CHI', u'CHI', u'CHI', u'CHI', u'CHI', u'CHI', u'CHI']\n",
        "FG3M: [1, 0, 0, 1, 1, 4, 1, 1, 1]\n",
        "OREB: [1, 3, 1, 4, 1, 1, 0, 2, 2]\n",
        "FGM: [6, 7, 5, 8, 7, 6, 7, 10, 6]\n",
        "START_POSITION: [u'G', u'G', u'G', u'G', u'G', u'G', u'G', u'G', u'G']\n",
        "PF: [3, 2, 3, 4, 1, 1, 3, 0, 2]\n",
        "PTS: [24, 21, 14, 23, 16, 19, 21, 32, 22]\n",
        "FGA: [12, 15, 8, 15, 16, 12, 10, 17, 17]\n",
        "PLUS_MINUS: [-7.0, -1.0, 15.0, 15.0, 4.0, 12.0, 17.0, 3.0, 26.0]\n",
        "STL: [1, 1, 4, 1, 2, 0, 0, 2, 2]\n",
        "FTA: [15, 11, 4, 6, 1, 3, 8, 14, 10]\n",
        "BLK: [1, 2, 0, 1, 0, 0, 1, 1, 0]\n",
        "GAME_ID: [u'0021400035', u'0021400053', u'0021400062', u'0021400073', u'0021400086', u'0021400101', u'0021400119', u'0021400135', u'0021400154']\n",
        "DREB: [3, 6, 5, 3, 4, 3, 9, 4, 4]\n",
        "FTM: [11, 7, 4, 6, 1, 3, 6, 11, 9]\n",
        "FT_PCT: [0.733, 0.636, 1.0, 1.0, 1.0, 1.0, 0.75, 0.786, 0.9]\n",
        "FG_PCT: [0.5, 0.467, 0.625, 0.533, 0.438, 0.5, 0.7, 0.588, 0.353]\n",
        "FG3_PCT: [0.333, 0.0, 0.0, 0.333, 0.333, 0.571, 0.333, 0.5, 0.25]\n",
        "TEAM_CITY: [u'Chicago', u'Chicago', u'Chicago', u'Chicago', u'Chicago', u'Chicago', u'Chicago', u'Chicago', u'Chicago']\n",
        "MIN: [u'39:28', u'35:02', u'41:06', u'40:18', u'38:13', u'42:47', u'39:47', u'40:58', u'45:17']\n",
        "TEAM_ID: [1610612741, 1610612741, 1610612741, 1610612741, 1610612741, 1610612741, 1610612741, 1610612741, 1610612741]\n",
        "PLAYER_ID: [202710, 202710, 202710, 202710, 202710, 202710, 202710, 202710, 202710]\n",
        "AST_PCT: [0.105, 0.2, 0.269, 0.185, 0.069, 0.037, 0.222, 0.043, 0.25]\n",
        "COMMENT: [u'', u'', u'', u'', u'', u'', u'', u'', u'']\n",
        "EFG_PCT: [0.542, 0.467, 0.625, 0.567, 0.469, 0.667, 0.75, 0.618, 0.382]\n",
        "PLAYER_NAME: [u'Jimmy Butler', u'Jimmy Butler', u'Jimmy Butler', u'Jimmy Butler', u'Jimmy Butler', u'Jimmy Butler', u'Jimmy Butler', u'Jimmy Butler', u'Jimmy Butler']\n",
        "DEF_RATING: [114.4, 94.1, 92.3, 106.3, 111.4, 90.2, 95.7, 100.8, 86.8]\n",
        "NET_RATING: [-13.0, 3.3, 15.3, 17.5, 1.0, 11.2, 24.5, 1.3, 32.2]\n",
        "TEAM_ABBREVIATION: [u'CHI', u'CHI', u'CHI', u'CHI', u'CHI', u'CHI', u'CHI', u'CHI', u'CHI']\n",
        "PIE: [0.118, 0.165, 0.162, 0.146, 0.089, 0.11, 0.195, 0.224, 0.137]\n",
        "START_POSITION: [u'G', u'G', u'G', u'G', u'G', u'G', u'G', u'G', u'G']\n",
        "TM_TOV_PCT: [8.8, 8.1, 19.3, 4.2, 0.0, 6.5, 4.9, 4.0, 9.3]\n",
        "TS_PCT: [0.645, 0.529, 0.717, 0.652, 0.487, 0.713, 0.777, 0.691, 0.514]\n",
        "USG_PCT: [0.237, 0.296, 0.158, 0.198, 0.188, 0.149, 0.165, 0.265, 0.261]\n",
        "OREB_PCT: [0.034, 0.086, 0.034, 0.133, 0.025, 0.024, 0.0, 0.05, 0.057]\n",
        "REB_PCT: [0.061, 0.136, 0.078, 0.097, 0.074, 0.047, 0.125, 0.085, 0.075]\n",
        "GAME_ID: [u'0021400035', u'0021400053', u'0021400062', u'0021400073', u'0021400086', u'0021400101', u'0021400119', u'0021400135', u'0021400154']\n",
        "DREB_PCT: [0.081, 0.194, 0.104, 0.071, 0.143, 0.07, 0.209, 0.129, 0.089]\n",
        "PACE: [97.61, 92.32, 92.8, 98.85, 95.38, 97.14, 95.73, 95.26, 92.88]\n",
        "AST_TOV: [1.0, 1.5, 1.75, 5.0, 0.0, 1.0, 6.0, 1.0, 2.67]\n",
        "AST_RATIO: [8.8, 12.1, 33.7, 21.2, 10.8, 6.5, 29.2, 4.0, 24.7]\n",
        "TEAM_CITY: [u'Chicago', u'Chicago', u'Chicago', u'Chicago', u'Chicago', u'Chicago', u'Chicago', u'Chicago', u'Chicago']\n",
        "OFF_RATING: [101.4, 97.4, 107.6, 123.8, 112.4, 101.4, 120.2, 102.1, 119.0]\n",
        "\n",
        "predictions\n",
        "PTS: 22.9432589935\n",
        "FG3M: 1.25989908148\n",
        "REB: 6.26315034275\n",
        "AST: 4.48568447656\n",
        "STL: 1.44988581133\n",
        "BLK: 0.50078485994\n",
        "TO: 1.69079091247\n",
        "expected FP (DK): 41.1866190638\n"
       ]
      }
     ],
     "prompt_number": 9
    },
    {
     "cell_type": "code",
     "collapsed": false,
     "input": [
      "# CALCULATES FP FOR A GIVEN TEAM\n",
      "team = [\"James Harden\",\n",
      "        \"Dwight Howard\",\n",
      "        \"Reggie Jackson\",\n",
      "        \"Brandon Knight\",\n",
      "        \"Anthony Morrow\",\n",
      "        \"Donatas Motiejunas\",\n",
      "        \"Ed Davis\",\n",
      "        \"Marreese Speights\"]\n",
      "score = []\n",
      "for t in team:\n",
      "    p = player_data[players.index(t)]\n",
      "    score.append(p.calculate_fp(game_number=-1))\n",
      "    print t + \": \" + str(score[-1])\n",
      "\n",
      "print \"Total: \" + str(sum([x for x in score if x != None]))"
     ],
     "language": "python",
     "metadata": {},
     "outputs": []
    },
    {
     "cell_type": "code",
     "collapsed": false,
     "input": [
      "    "
     ],
     "language": "python",
     "metadata": {},
     "outputs": []
    },
    {
     "cell_type": "code",
     "collapsed": false,
     "input": [],
     "language": "python",
     "metadata": {},
     "outputs": []
    },
    {
     "cell_type": "code",
     "collapsed": false,
     "input": [],
     "language": "python",
     "metadata": {},
     "outputs": []
    },
    {
     "cell_type": "code",
     "collapsed": false,
     "input": [],
     "language": "python",
     "metadata": {},
     "outputs": []
    }
   ],
   "metadata": {}
  }
 ]
}
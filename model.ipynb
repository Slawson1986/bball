{
 "metadata": {
  "name": ""
 },
 "nbformat": 3,
 "nbformat_minor": 0,
 "worksheets": [
  {
   "cells": [
    {
     "cell_type": "code",
     "collapsed": false,
     "input": [
      "import datetime\n",
      "import os\n",
      "import json\n",
      "import numpy as np\n",
      "import pandas as pd\n",
      "import csv\n",
      "import data_getters"
     ],
     "language": "python",
     "metadata": {},
     "outputs": [],
     "prompt_number": 2
    },
    {
     "cell_type": "code",
     "collapsed": false,
     "input": [
      "data_getters.download_gamelog_jsons(2014,'boxscores/2014',start_game=144, end_game=1230)"
     ],
     "language": "python",
     "metadata": {},
     "outputs": [
      {
       "output_type": "stream",
       "stream": "stdout",
       "text": [
        "144\n",
        "20141116-HOUOKC"
       ]
      },
      {
       "output_type": "stream",
       "stream": "stdout",
       "text": [
        "\n",
        "145\n",
        "20141116-GSWLAL"
       ]
      },
      {
       "output_type": "stream",
       "stream": "stdout",
       "text": [
        "\n",
        "146\n",
        "Downloaded until game 145"
       ]
      },
      {
       "output_type": "stream",
       "stream": "stdout",
       "text": [
        "\n"
       ]
      }
     ],
     "prompt_number": 4
    },
    {
     "cell_type": "code",
     "collapsed": false,
     "input": [
      "# player class\n",
      "class Player:\n",
      "    def __init__(self):\n",
      "        self.info = {}\n",
      "        self.headers = [u'GAME_ID', u'TEAM_ID', \n",
      "                   u'TEAM_ABBREVIATION', u'TEAM_CITY', \n",
      "                   u'PLAYER_ID', u'PLAYER_NAME', \n",
      "                   u'START_POSITION', u'COMMENT', \n",
      "                   u'MIN', u'FGM', u'FGA', \n",
      "                   u'FG_PCT', u'FG3M', u'FG3A', \n",
      "                   u'FG3_PCT', u'FTM', u'FTA', u'FT_PCT', \n",
      "                   u'OREB', u'DREB', u'REB', u'AST', \n",
      "                   u'STL', u'BLK', u'TO', u'PF', u'PTS', \n",
      "                   u'PLUS_MINUS']\n",
      "        for h in self.headers:\n",
      "            self.info[h] = []\n",
      "    \n",
      "    # TODO\n",
      "    def add_game_from_boxscore(self, data):\n",
      "        assert len(data) == len(self.headers)\n",
      "        for i in range(len(data)):\n",
      "            self.info[self.headers[i]].append(data[i])\n",
      "    \n",
      "    # predict the given stat:\n",
      "    # [PTS, FG3M, REB, AST, STL, BLK, TO]\n",
      "    # \n",
      "    \"\"\" currently uses span-6 EWMA but we can change this \"\"\"\n",
      "    def predict(self, stat):\n",
      "        # note: if a player is missing games, it still calculates weights (see is_na flag in documentation)\n",
      "        return float(pd.stats.moments.ewma(pd.Series(self.info[stat]), span=6).tail(1))\n",
      "    \n",
      "    # calculates the number of fantasy points scored in the players nth game\n",
      "    # where n = game_number\n",
      "    # if game_number = 'predict' then it predicts using all the information so far\n",
      "    def calculate_fp(self, game_number=\"predict\", site=\"DraftKings\"):\n",
      "        if site == \"DraftKings\":\n",
      "            fp = 0\n",
      "            doubled = 0\n",
      "            weights = {'PTS': 1.0, 'FG3M': 0.5, 'REB': 1.25, 'AST': 1.5, 'STL': 2.0, 'BLK': 2.0, 'TO': -0.5}\n",
      "            for s, w in weights.iteritems():\n",
      "                if game_number == \"predict\":\n",
      "                    v = self.predict(s)\n",
      "                else:\n",
      "                    if game_number > len(self.info[s]):\n",
      "                        print \"Invalid game number\"\n",
      "                        return Falsed\n",
      "                    v = self.info[s][game_number]\n",
      "                    if v == None:\n",
      "                        print \"Error: \" + self.info['COMMENT'][game_number]\n",
      "                        return\n",
      "                fp += v * w\n",
      "                if s in ['PTS', 'REB', 'AST', 'BLK', 'STL']:\n",
      "                    if v >= 10.0:\n",
      "                        doubled += 1\n",
      "            if doubled == 2:\n",
      "                fp += 1.5\n",
      "            elif doubled >= 3:\n",
      "                fp += 4.5 # assume that you get both DD and TD bonus\n",
      "            return fp if not np.isnan(fp) else 0.0\n",
      "        else:\n",
      "            return \"Not yet supported\"\n",
      "\n",
      "    def get_info(self):\n",
      "        return self.info\n",
      "    \n",
      "    def get_name(self):\n",
      "        return self.info['PLAYER_NAME'][-1]\n",
      "    \n",
      "    def __repr__(self):\n",
      "        return self.get_name()\n",
      "    \n",
      "    def __str__(self):\n",
      "        return self.get_name()"
     ],
     "language": "python",
     "metadata": {},
     "outputs": [],
     "prompt_number": 5
    },
    {
     "cell_type": "code",
     "collapsed": false,
     "input": [
      "# loads jsons to memory from box score directory\n",
      "# loads jsons up until and including end_date\n",
      "def load_jsons_to_memory(box_score_directory, end_date):\n",
      "    players = []\n",
      "    player_ids = []\n",
      "    for fn in os.listdir(box_score_directory):\n",
      "        datestring = fn.split('-')[0]\n",
      "        year = int(datestring[0:4])\n",
      "        month = int(datestring[4:6])\n",
      "        day = int(datestring[6:8])\n",
      "        if datetime.date(year, month, day) <= end_date:\n",
      "            with open(os.path.join(box_score_directory, fn)) as f:\n",
      "                t = json.load(f)\n",
      "                for player_data in t['resultSets'][4]['rowSet']:\n",
      "                    # can optimize here by keeping sorted list of player_ids but too lazy\n",
      "                    try:\n",
      "                        ind = player_ids.index(player_data[4])\n",
      "                        players[ind].add_game_from_boxscore(player_data)\n",
      "                    # player not in player_ids\n",
      "                    except ValueError:\n",
      "                        player_ids.append(player_data[4])\n",
      "                        temp_player = Player()\n",
      "                        temp_player.add_game_from_boxscore(player_data)\n",
      "                        players.append(temp_player)   \n",
      "    return players\n",
      "\n",
      "# write predictions to excel sheet\n",
      "def write_predictions(player_data, excel_fn):\n",
      "    predictions = {}\n",
      "    for p in player_data:\n",
      "        predictions[p.get_name()] = p.calculate_fp(game_number=\"predict\")\n",
      "    with open(excel_fn, 'wb') as f:\n",
      "        writer = csv.writer(f)\n",
      "        for k, v in predictions.iteritems():\n",
      "            writer.writerow([k, v])\n",
      "    return True"
     ],
     "language": "python",
     "metadata": {},
     "outputs": [],
     "prompt_number": 12
    },
    {
     "cell_type": "code",
     "collapsed": false,
     "input": [
      "# LOADS DATA TO MEMORY AND WRITES TO CSV\n",
      "latest_day = datetime.date(2014,11,16)\n",
      "player_data = load_jsons_to_memory('boxscores/2014', latest_day)\n",
      "players = [p.get_name() for p in player_data]\n",
      "\n",
      "write_predictions(player_data, 'model_predictions.csv')"
     ],
     "language": "python",
     "metadata": {},
     "outputs": [
      {
       "metadata": {},
       "output_type": "pyout",
       "prompt_number": 15,
       "text": [
        "True"
       ]
      }
     ],
     "prompt_number": 15
    },
    {
     "cell_type": "code",
     "collapsed": false,
     "input": [
      "# EXAMPLE USAGE FOR DWIGHT HOWARD\n",
      "lookup = 'Dwight Howard'\n",
      "p = player_data[players.index(lookup)]\n",
      "p_info = p.get_info()\n",
      "\n",
      "#for key in p_info:\n",
      "#    print key + \": \" + str(p_info[key])\n",
      "\n",
      "print \"\\npredictions\"\n",
      "\n",
      "for s in ['PTS', 'FG3M', 'REB', 'AST', 'STL', 'BLK', 'TO']:\n",
      "    print s + \": \" + str(p.predict(s))\n",
      "\n",
      "print \"expected FP (DK): \" + str(p.calculate_fp(game_number=\"predict\", site=\"DraftKings\"))"
     ],
     "language": "python",
     "metadata": {},
     "outputs": [
      {
       "output_type": "stream",
       "stream": "stdout",
       "text": [
        "\n",
        "predictions\n",
        "PTS: 19.0736968875\n",
        "FG3M: 0.0\n",
        "REB: 11.8069363817\n",
        "AST: 0.953946411402\n",
        "STL: 0.812460114433\n",
        "BLK: 3.01342993559\n",
        "TO: 3.56774787358\n",
        "expected FP (DK): 42.6311931449\n"
       ]
      }
     ],
     "prompt_number": 8
    },
    {
     "cell_type": "code",
     "collapsed": false,
     "input": [
      "# CALCULATES FP FOR A GIVEN TEAM\n",
      "team = [\"James Harden\",\n",
      "        \"Dwight Howard\",\n",
      "        \"Reggie Jackson\",\n",
      "        \"Brandon Knight\",\n",
      "        \"Anthony Morrow\",\n",
      "        \"Donatas Motiejunas\",\n",
      "        \"Ed Davis\",\n",
      "        \"Marreese Speights\"]\n",
      "score = []\n",
      "for t in team:\n",
      "    p = player_data[players.index(t)]\n",
      "    score.append(p.calculate_fp(game_number=-1))\n",
      "    print t + \": \" + str(score[-1])\n",
      "\n",
      "print \"Total: \" + str(sum([x for x in score if x != None]))"
     ],
     "language": "python",
     "metadata": {},
     "outputs": [
      {
       "output_type": "stream",
       "stream": "stdout",
       "text": [
        "James Harden: 40.75\n",
        "Dwight Howard: 24.75\n",
        "Reggie Jackson: 36.25\n",
        "Brandon Knight: 34.75\n",
        "Anthony Morrow: 8.75\n",
        "Donatas Motiejunas: 20.25\n",
        "Error: \n",
        "Ed Davis: None\n",
        "Error: \n",
        "Marreese Speights: None\n",
        "Total: 165.5\n"
       ]
      }
     ],
     "prompt_number": 14
    },
    {
     "cell_type": "code",
     "collapsed": false,
     "input": [],
     "language": "python",
     "metadata": {},
     "outputs": [],
     "prompt_number": 9
    },
    {
     "cell_type": "code",
     "collapsed": false,
     "input": [],
     "language": "python",
     "metadata": {},
     "outputs": [],
     "prompt_number": 107
    },
    {
     "cell_type": "code",
     "collapsed": false,
     "input": [],
     "language": "python",
     "metadata": {},
     "outputs": []
    }
   ],
   "metadata": {}
  }
 ]
}
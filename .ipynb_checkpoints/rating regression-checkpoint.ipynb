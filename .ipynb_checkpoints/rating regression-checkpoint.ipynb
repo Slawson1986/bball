{
 "metadata": {
  "name": "",
  "signature": "sha256:1555ed1f8090682bacd4a6367207208cb82ba964ac86bd1b1f2ced2a1968f127"
 },
 "nbformat": 3,
 "nbformat_minor": 0,
 "worksheets": [
  {
   "cells": [
    {
     "cell_type": "code",
     "collapsed": false,
     "input": [
      "# scrape offensive and def ratings from basketball-reference\n",
      "from urllib2 import Request, urlopen, URLError\n",
      "\n",
      "def get_def_ratings(teams, year):\n",
      "    def_ratings = {}\n",
      "    off_ratings = {}\n",
      "    for team in teams:\n",
      "        team_url = 'http://www.basketball-reference.com/teams/' + team + '/'+ str(year) + '.html'\n",
      "        req = Request(team_url)\n",
      "        try:\n",
      "            response = urlopen(req)\n",
      "        except URLError as e:\n",
      "            if hasattr(e, 'reason'):\n",
      "                print 'We failed to reach a server.'\n",
      "                print 'Reason: ', e.reason\n",
      "            elif hasattr(e, 'code'):\n",
      "                print 'The server couldn\\'t fulfill the request.'\n",
      "                print 'Error code: ', e.code\n",
      "        else:\n",
      "            # everything is fine\n",
      "            html_page = response.read()\n",
      "            search = \"Def Rtg</span></a>: \"\n",
      "            loc = html_page.find(search)\n",
      "            def_ratings[team] = float(html_page[loc+len(search): loc+len(search)+5].rstrip(\" \"))\n",
      "            \n",
      "            search = \"Off Rtg</span></a>: \"\n",
      "            loc = html_page.find(search)\n",
      "            off_ratings[team] = float(html_page[loc+len(search): loc+len(search)+5].rstrip(\" \"))\n",
      "    return def_ratings, off_ratings\n",
      "\n",
      "teams = ['ATL','BOS','BRK','CHA','CHI','CLE','DAL','DEN','DET','GSW','HOU','IND','LAC','LAL','MEM',\n",
      "         'MIA','MIL','MIN','NOP','OKC','ORL','PHI','PHO','POR','SAC','SAS','TOR','UTA','WAS']\n",
      "year = 2014 #2013-2014\n",
      "#def_ratings, off_ratings = get_def_ratings(teams, year) # may take a bit to hit all the teams"
     ],
     "language": "python",
     "metadata": {},
     "outputs": [],
     "prompt_number": 3
    },
    {
     "cell_type": "code",
     "collapsed": false,
     "input": [
      "print def_ratings\n",
      "\n",
      "print off_ratings\n",
      "# now we need game logs, to see each player's points per game and who the opposing team was"
     ],
     "language": "python",
     "metadata": {},
     "outputs": [
      {
       "ename": "NameError",
       "evalue": "name 'def_ratings' is not defined",
       "output_type": "pyerr",
       "traceback": [
        "\u001b[1;31m---------------------------------------------------------------------------\u001b[0m\n\u001b[1;31mNameError\u001b[0m                                 Traceback (most recent call last)",
        "\u001b[1;32m<ipython-input-4-dbbd6d6b8ed9>\u001b[0m in \u001b[0;36m<module>\u001b[1;34m()\u001b[0m\n\u001b[1;32m----> 1\u001b[1;33m \u001b[1;32mprint\u001b[0m \u001b[0mdef_ratings\u001b[0m\u001b[1;33m\u001b[0m\u001b[0m\n\u001b[0m\u001b[0;32m      2\u001b[0m \u001b[1;33m\u001b[0m\u001b[0m\n\u001b[0;32m      3\u001b[0m \u001b[1;32mprint\u001b[0m \u001b[0moff_ratings\u001b[0m\u001b[1;33m\u001b[0m\u001b[0m\n\u001b[0;32m      4\u001b[0m \u001b[1;31m# now we need game logs, to see each player's points per game and who the opposing team was\u001b[0m\u001b[1;33m\u001b[0m\u001b[1;33m\u001b[0m\u001b[0m\n",
        "\u001b[1;31mNameError\u001b[0m: name 'def_ratings' is not defined"
       ]
      }
     ],
     "prompt_number": 4
    },
    {
     "cell_type": "code",
     "collapsed": false,
     "input": [
      "#To get boxscores, we can use stats.nba.com. Boxscores come in JSON format.\n",
      "#Just change the GameID \n",
      "#GameID format is 0021###### - where the first digit after 0021 decides the year, and then the numbers just count up from 000001\n",
      "#http://stats.nba.com/stats/boxscore?GameID=0021300001&RangeType=0&StartPeriod=0&EndPeriod=0&StartRange=0&EndRange=0\n",
      "import json\n",
      "\n",
      "# downloads game jsons from a given year to a given location\n",
      "# gets the games from start_game to end_game, inclusive\n",
      "def download_gamelog_jsons(year, location, start_game=1, end_game=1230):\n",
      "    y = year % 10\n",
      "    for g in xrange(start_game, end_game+1):\n",
      "        print g\n",
      "        url = 'http://stats.nba.com/stats/boxscore?GameID=0021' + str(y) + \"%05d\" % (g) + '&RangeType=0&StartPeriod=0&EndPeriod=0&StartRange=0&EndRange=0'\n",
      "        req = Request(url)\n",
      "        try:\n",
      "            response = urlopen(req)\n",
      "        except URLError as e:\n",
      "            if hasattr(e, 'reason'):\n",
      "                print 'We failed to reach a server.'\n",
      "                print 'Reason: ', e.reason\n",
      "            elif hasattr(e, 'code'):\n",
      "                print 'The server couldn\\'t fulfill the request.'\n",
      "                print 'Error code: ', e.code\n",
      "        else:\n",
      "            # everything is fine\n",
      "            data = response.read()\n",
      "            json_data = json.loads(data)\n",
      "            name = json_data['resultSets'][0]['rowSet'][0][5]\n",
      "            mod_name = name.split('/')[0] + '-' + name.split('/')[1]\n",
      "            #with open(location + '/' + str(year) + '_game' + str(g) + '.json', 'w') as outfile:\n",
      "            with open(location + '/' + mod_name + '.json', 'w') as outfile:\n",
      "                json.dump(json.loads(data), outfile, sort_keys=True, indent=4, ensure_ascii=False)"
     ],
     "language": "python",
     "metadata": {},
     "outputs": [],
     "prompt_number": 75
    },
    {
     "cell_type": "code",
     "collapsed": false,
     "input": [
      "download_gamelog_jsons(2013,'boxscores',start_game=425, end_game=500)"
     ],
     "language": "python",
     "metadata": {},
     "outputs": [
      {
       "output_type": "stream",
       "stream": "stdout",
       "text": [
        "401\n",
        "402"
       ]
      },
      {
       "output_type": "stream",
       "stream": "stdout",
       "text": [
        "\n",
        "403"
       ]
      },
      {
       "output_type": "stream",
       "stream": "stdout",
       "text": [
        "\n",
        "404"
       ]
      },
      {
       "output_type": "stream",
       "stream": "stdout",
       "text": [
        "\n",
        "405"
       ]
      },
      {
       "output_type": "stream",
       "stream": "stdout",
       "text": [
        "\n",
        "406"
       ]
      },
      {
       "output_type": "stream",
       "stream": "stdout",
       "text": [
        "\n",
        "407"
       ]
      },
      {
       "output_type": "stream",
       "stream": "stdout",
       "text": [
        "\n",
        "408"
       ]
      },
      {
       "output_type": "stream",
       "stream": "stdout",
       "text": [
        "\n",
        "409"
       ]
      },
      {
       "output_type": "stream",
       "stream": "stdout",
       "text": [
        "\n",
        "410"
       ]
      },
      {
       "output_type": "stream",
       "stream": "stdout",
       "text": [
        "\n",
        "411"
       ]
      },
      {
       "output_type": "stream",
       "stream": "stdout",
       "text": [
        "\n",
        "412"
       ]
      },
      {
       "output_type": "stream",
       "stream": "stdout",
       "text": [
        "\n",
        "413"
       ]
      },
      {
       "output_type": "stream",
       "stream": "stdout",
       "text": [
        "\n",
        "414"
       ]
      },
      {
       "output_type": "stream",
       "stream": "stdout",
       "text": [
        "\n",
        "415"
       ]
      },
      {
       "output_type": "stream",
       "stream": "stdout",
       "text": [
        "\n",
        "416"
       ]
      },
      {
       "output_type": "stream",
       "stream": "stdout",
       "text": [
        "\n",
        "417"
       ]
      },
      {
       "output_type": "stream",
       "stream": "stdout",
       "text": [
        "\n",
        "418"
       ]
      },
      {
       "output_type": "stream",
       "stream": "stdout",
       "text": [
        "\n",
        "419"
       ]
      },
      {
       "output_type": "stream",
       "stream": "stdout",
       "text": [
        "\n",
        "420"
       ]
      },
      {
       "output_type": "stream",
       "stream": "stdout",
       "text": [
        "\n",
        "421"
       ]
      },
      {
       "output_type": "stream",
       "stream": "stdout",
       "text": [
        "\n",
        "422"
       ]
      },
      {
       "output_type": "stream",
       "stream": "stdout",
       "text": [
        "\n",
        "423"
       ]
      },
      {
       "output_type": "stream",
       "stream": "stdout",
       "text": [
        "\n",
        "424"
       ]
      },
      {
       "output_type": "stream",
       "stream": "stdout",
       "text": [
        "\n",
        "425"
       ]
      },
      {
       "output_type": "stream",
       "stream": "stdout",
       "text": [
        "\n",
        "We failed to reach a server.\n",
        "Reason:  [Errno 11001] getaddrinfo failed\n",
        "426\n",
        "We failed to reach a server.\n",
        "Reason:  [Errno 11001] getaddrinfo failed\n",
        "427\n",
        "We failed to reach a server.\n",
        "Reason:  [Errno 11001] getaddrinfo failed\n",
        "428\n",
        "We failed to reach a server.\n",
        "Reason:  [Errno 11001] getaddrinfo failed\n",
        "429\n",
        "We failed to reach a server.\n",
        "Reason:  [Errno 11001] getaddrinfo failed\n",
        "430\n",
        "We failed to reach a server.\n",
        "Reason:  [Errno 11001] getaddrinfo failed\n",
        "431\n",
        "We failed to reach a server.\n",
        "Reason:  [Errno 11001] getaddrinfo failed\n",
        "432\n",
        "We failed to reach a server.\n",
        "Reason:  [Errno 11001] getaddrinfo failed\n",
        "433\n",
        "We failed to reach a server.\n",
        "Reason:  [Errno 11001] getaddrinfo failed\n",
        "434\n",
        "We failed to reach a server.\n",
        "Reason:  [Errno 11001] getaddrinfo failed\n",
        "435\n",
        "We failed to reach a server.\n",
        "Reason:  [Errno 11001] getaddrinfo failed\n",
        "436\n",
        "We failed to reach a server.\n",
        "Reason:  [Errno 11001] getaddrinfo failed\n",
        "437\n",
        "We failed to reach a server.\n",
        "Reason:  [Errno 11001] getaddrinfo failed\n",
        "438\n",
        "We failed to reach a server.\n",
        "Reason:  [Errno 11001] getaddrinfo failed\n",
        "439\n",
        "We failed to reach a server.\n",
        "Reason:  [Errno 11001] getaddrinfo failed\n",
        "440\n",
        "We failed to reach a server.\n",
        "Reason:  [Errno 11001] getaddrinfo failed\n",
        "441\n",
        "We failed to reach a server.\n",
        "Reason:  [Errno 11001] getaddrinfo failed\n",
        "442\n",
        "We failed to reach a server.\n",
        "Reason:  [Errno 11001] getaddrinfo failed\n",
        "443\n",
        "We failed to reach a server.\n",
        "Reason:  [Errno 11001] getaddrinfo failed\n",
        "444\n",
        "We failed to reach a server.\n",
        "Reason:  [Errno 11001] getaddrinfo failed\n",
        "445\n",
        "We failed to reach a server.\n",
        "Reason:  [Errno 11001] getaddrinfo failed\n",
        "446\n",
        "We failed to reach a server.\n",
        "Reason:  [Errno 11001] getaddrinfo failed\n",
        "447\n",
        "We failed to reach a server.\n",
        "Reason:  [Errno 11001] getaddrinfo failed\n",
        "448\n",
        "We failed to reach a server.\n",
        "Reason:  [Errno 11001] getaddrinfo failed\n",
        "449\n",
        "We failed to reach a server.\n",
        "Reason:  [Errno 11001] getaddrinfo failed\n",
        "450\n",
        "We failed to reach a server.\n",
        "Reason:  [Errno 11001] getaddrinfo failed\n",
        "451\n",
        "We failed to reach a server.\n",
        "Reason:  [Errno 11001] getaddrinfo failed\n",
        "452\n",
        "We failed to reach a server.\n",
        "Reason:  [Errno 11001] getaddrinfo failed\n",
        "453\n",
        "We failed to reach a server.\n",
        "Reason:  [Errno 11001] getaddrinfo failed\n",
        "454\n",
        "We failed to reach a server.\n",
        "Reason:  [Errno 11001] getaddrinfo failed\n",
        "455\n",
        "We failed to reach a server.\n",
        "Reason:  [Errno 11001] getaddrinfo failed\n",
        "456\n",
        "We failed to reach a server.\n",
        "Reason:  [Errno 11001] getaddrinfo failed\n",
        "457\n",
        "We failed to reach a server.\n",
        "Reason:  [Errno 11001] getaddrinfo failed\n",
        "458\n",
        "We failed to reach a server.\n",
        "Reason:  [Errno 11001] getaddrinfo failed\n",
        "459\n",
        "We failed to reach a server.\n",
        "Reason:  [Errno 11001] getaddrinfo failed\n",
        "460\n",
        "We failed to reach a server.\n",
        "Reason:  [Errno 11001] getaddrinfo failed\n",
        "461\n",
        "We failed to reach a server.\n",
        "Reason:  [Errno 11001] getaddrinfo failed\n",
        "462\n",
        "We failed to reach a server.\n",
        "Reason:  [Errno 11001] getaddrinfo failed\n",
        "463\n",
        "We failed to reach a server.\n",
        "Reason:  [Errno 11001] getaddrinfo failed\n",
        "464\n",
        "We failed to reach a server.\n",
        "Reason:  [Errno 11001] getaddrinfo failed\n",
        "465\n",
        "We failed to reach a server.\n",
        "Reason:  [Errno 11001] getaddrinfo failed\n",
        "466\n",
        "We failed to reach a server.\n",
        "Reason:  [Errno 11001] getaddrinfo failed\n",
        "467\n",
        "We failed to reach a server.\n",
        "Reason:  [Errno 11001] getaddrinfo failed\n",
        "468\n",
        "We failed to reach a server.\n",
        "Reason:  [Errno 11001] getaddrinfo failed\n",
        "469\n",
        "We failed to reach a server.\n",
        "Reason:  [Errno 11001] getaddrinfo failed\n",
        "470\n",
        "We failed to reach a server.\n",
        "Reason:  [Errno 11001] getaddrinfo failed\n",
        "471\n",
        "We failed to reach a server.\n",
        "Reason:  [Errno 11001] getaddrinfo failed\n",
        "472\n",
        "We failed to reach a server.\n",
        "Reason:  [Errno 11001] getaddrinfo failed\n",
        "473\n",
        "We failed to reach a server.\n",
        "Reason:  [Errno 11001] getaddrinfo failed\n",
        "474\n",
        "We failed to reach a server.\n",
        "Reason:  [Errno 11001] getaddrinfo failed\n",
        "475\n",
        "We failed to reach a server.\n",
        "Reason:  [Errno 11001] getaddrinfo failed\n",
        "476\n",
        "We failed to reach a server.\n",
        "Reason:  [Errno 11001] getaddrinfo failed\n",
        "477\n",
        "We failed to reach a server.\n",
        "Reason:  [Errno 11001] getaddrinfo failed\n",
        "478\n",
        "We failed to reach a server.\n",
        "Reason:  [Errno 11001] getaddrinfo failed\n",
        "479\n",
        "We failed to reach a server.\n",
        "Reason:  [Errno 11001] getaddrinfo failed\n",
        "480\n",
        "We failed to reach a server.\n",
        "Reason:  [Errno 11001] getaddrinfo failed\n",
        "481\n",
        "We failed to reach a server.\n",
        "Reason:  [Errno 11001] getaddrinfo failed\n",
        "482\n",
        "We failed to reach a server.\n",
        "Reason:  [Errno 11001] getaddrinfo failed\n",
        "483\n",
        "We failed to reach a server.\n",
        "Reason:  [Errno 11001] getaddrinfo failed\n",
        "484\n",
        "We failed to reach a server.\n",
        "Reason:  [Errno 11001] getaddrinfo failed\n",
        "485\n",
        "We failed to reach a server.\n",
        "Reason:  [Errno 11001] getaddrinfo failed\n",
        "486\n",
        "We failed to reach a server.\n",
        "Reason:  [Errno 11001] getaddrinfo failed\n",
        "487\n",
        "We failed to reach a server.\n",
        "Reason:  [Errno 11001] getaddrinfo failed\n",
        "488\n",
        "We failed to reach a server.\n",
        "Reason:  [Errno 11001] getaddrinfo failed\n",
        "489\n",
        "We failed to reach a server.\n",
        "Reason:  [Errno 11001] getaddrinfo failed\n",
        "490\n",
        "We failed to reach a server.\n",
        "Reason:  [Errno 11001] getaddrinfo failed\n",
        "491\n",
        "We failed to reach a server.\n",
        "Reason:  [Errno 11001] getaddrinfo failed\n",
        "492\n",
        "We failed to reach a server.\n",
        "Reason:  [Errno 11001] getaddrinfo failed\n",
        "493\n",
        "We failed to reach a server.\n",
        "Reason:  [Errno 11001] getaddrinfo failed\n",
        "494\n",
        "We failed to reach a server.\n",
        "Reason:  [Errno 11001] getaddrinfo failed\n",
        "495\n",
        "We failed to reach a server.\n",
        "Reason:  [Errno 11001] getaddrinfo failed\n",
        "496\n",
        "We failed to reach a server.\n",
        "Reason:  [Errno 11001] getaddrinfo failed\n",
        "497\n",
        "We failed to reach a server.\n",
        "Reason:  [Errno 11001] getaddrinfo failed\n",
        "498\n",
        "We failed to reach a server.\n",
        "Reason:  [Errno 11001] getaddrinfo failed\n",
        "499\n",
        "We failed to reach a server.\n",
        "Reason:  [Errno 11001] getaddrinfo failed\n",
        "500\n",
        "We failed to reach a server.\n",
        "Reason:  [Errno 11001] getaddrinfo failed\n"
       ]
      }
     ],
     "prompt_number": 103
    },
    {
     "cell_type": "code",
     "collapsed": false,
     "input": [
      "# check for missing games\n",
      "import os\n",
      "\n",
      "downloaded = []\n",
      "for file in os.listdir('boxscores'):\n",
      "    with open(os.path.join('boxscores', file)) as f:\n",
      "        t = json.load(f)\n",
      "        gid = int(t['resultSets'][0]['rowSet'][0][2])%100000\n",
      "        downloaded.append(gid)\n",
      "downloaded = sorted(downloaded)\n",
      "\n",
      "for d in range(1,301):\n",
      "    if d not in downloaded:\n",
      "        print d\n"
     ],
     "language": "python",
     "metadata": {},
     "outputs": [],
     "prompt_number": 100
    },
    {
     "cell_type": "code",
     "collapsed": false,
     "input": [],
     "language": "python",
     "metadata": {},
     "outputs": [],
     "prompt_number": 63
    },
    {
     "cell_type": "code",
     "collapsed": false,
     "input": [],
     "language": "python",
     "metadata": {},
     "outputs": []
    }
   ],
   "metadata": {}
  }
 ]
}
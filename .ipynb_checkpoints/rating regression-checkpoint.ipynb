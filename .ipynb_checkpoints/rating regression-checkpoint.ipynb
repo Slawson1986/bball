{
 "metadata": {
  "name": ""
 },
 "nbformat": 3,
 "nbformat_minor": 0,
 "worksheets": [
  {
   "cells": [
    {
     "cell_type": "code",
     "collapsed": false,
     "input": [
      "# scrape offensive and def ratings from basketball-reference\n",
      "from urllib2 import Request, urlopen, URLError\n",
      "\n",
      "def get_def_ratings(teams, year):\n",
      "    def_ratings = {}\n",
      "    off_ratings = {}\n",
      "    for team in teams:\n",
      "        team_url = 'http://www.basketball-reference.com/teams/' + team + '/'+ str(year) + '.html'\n",
      "        req = Request(team_url)\n",
      "        try:\n",
      "            response = urlopen(req)\n",
      "        except URLError as e:\n",
      "            if hasattr(e, 'reason'):\n",
      "                print 'We failed to reach a server.'\n",
      "                print 'Reason: ', e.reason\n",
      "            elif hasattr(e, 'code'):\n",
      "                print 'The server couldn\\'t fulfill the request.'\n",
      "                print 'Error code: ', e.code\n",
      "        else:\n",
      "            # everything is fine\n",
      "            html_page = response.read()\n",
      "            search = \"Def Rtg</span></a>: \"\n",
      "            loc = html_page.find(search)\n",
      "            def_ratings[team] = float(html_page[loc+len(search): loc+len(search)+5].rstrip(\" \"))\n",
      "            \n",
      "            search = \"Off Rtg</span></a>: \"\n",
      "            loc = html_page.find(search)\n",
      "            off_ratings[team] = float(html_page[loc+len(search): loc+len(search)+5].rstrip(\" \"))\n",
      "    return def_ratings, off_ratings\n",
      "\n",
      "teams = ['ATL','BOS','BRK','CHA','CHI','CLE','DAL','DEN','DET','GSW','HOU','IND','LAC','LAL','MEM',\n",
      "         'MIA','MIL','MIN','NOP','OKC','ORL','PHI','PHO','POR','SAC','SAS','TOR','UTA','WAS']\n",
      "year = 2014 #2013-2014\n",
      "def_ratings, off_ratings = get_def_ratings(teams, year) # may take a bit to hit all the teams"
     ],
     "language": "python",
     "metadata": {},
     "outputs": [],
     "prompt_number": 5
    },
    {
     "cell_type": "code",
     "collapsed": false,
     "input": [
      "print def_ratings\n",
      "\n",
      "print off_ratings\n",
      "# now we need game logs, to see each player's points per game and who the opposing team was"
     ],
     "language": "python",
     "metadata": {},
     "outputs": [
      {
       "output_type": "stream",
       "stream": "stdout",
       "text": [
        "{'MIL': 111.8, 'GSW': 102.6, 'MIN': 106.2, 'MIA': 105.8, 'ATL': 106.4, 'BOS': 107.7, 'DET': 109.7, 'DEN': 108.2, 'DAL': 108.7, 'POR': 107.4, 'ORL': 107.4, 'TOR': 105.3, 'CHI': 100.5, 'SAS': 102.4, 'CHA': 103.8, 'UTA': 111.3, 'CLE': 107.7, 'HOU': 106.3, 'WAS': 104.6, 'LAL': 110.6, 'PHI': 109.9, 'PHO': 106.7, 'MEM': 104.6, 'LAC': 104.8, 'SAC': 108.8, 'OKC': 103.9, 'BRK': 107.7, 'IND': 99.3, 'NOP': 110.1}\n",
        "{'MIL': 103.0, 'GSW': 107.5, 'MIN': 108.9, 'MIA': 110.9, 'ATL': 105.9, 'BOS': 102.9, 'DET': 105.9, 'DEN': 106.0, 'DAL': 111.2, 'POR': 111.5, 'ORL': 101.7, 'TOR': 108.8, 'CHI': 102.5, 'SAS': 110.5, 'CHA': 103.6, 'UTA': 103.5, 'CLE': 104.2, 'HOU': 111.0, 'WAS': 106.0, 'LAL': 104.2, 'PHI': 99.4, 'PHO': 109.5, 'MEM': 106.3, 'LAC': 112.1, 'SAC': 105.7, 'OKC': 110.5, 'BRK': 106.7, 'IND': 104.1, 'NOP': 107.2}\n"
       ]
      }
     ],
     "prompt_number": 7
    },
    {
     "cell_type": "code",
     "collapsed": false,
     "input": [],
     "language": "python",
     "metadata": {},
     "outputs": []
    }
   ],
   "metadata": {}
  }
 ]
}
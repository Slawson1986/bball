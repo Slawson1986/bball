{
 "metadata": {
  "name": "",
  "signature": "sha256:3a9ef2770f4fcffa675f0c713e4f1ea19d366c1a2b827ee192d4bbebdab23ccd"
 },
 "nbformat": 3,
 "nbformat_minor": 0,
 "worksheets": [
  {
   "cells": [
    {
     "cell_type": "code",
     "collapsed": false,
     "input": [
      "import os\n",
      "import datetime\n",
      "import numpy as np\n",
      "import pandas as pd\n",
      "import data_getters\n",
      "from entities import Player, Game\n",
      "import boxscores"
     ],
     "language": "python",
     "metadata": {},
     "outputs": [],
     "prompt_number": 1
    },
    {
     "cell_type": "code",
     "collapsed": false,
     "input": [
      "data_getters.download_gamelog_jsons(2014,'boxscores_advanced/2014',boxtype='advanced',start_game=170, end_game=1230)"
     ],
     "language": "python",
     "metadata": {},
     "outputs": [
      {
       "output_type": "stream",
       "stream": "stdout",
       "text": [
        "170\n",
        "20141120-LACMIA\n",
        "171"
       ]
      },
      {
       "output_type": "stream",
       "stream": "stdout",
       "text": [
        "\n",
        "20141120-CHISAC\n",
        "172\n",
        "20141121-ORLCHA"
       ]
      },
      {
       "output_type": "stream",
       "stream": "stdout",
       "text": [
        "\n",
        "173\n",
        "20141121-PHXPHI\n",
        "174\n",
        "20141121-DETATL"
       ]
      },
      {
       "output_type": "stream",
       "stream": "stdout",
       "text": [
        "\n",
        "175\n",
        "20141121-MILTOR\n",
        "176"
       ]
      },
      {
       "output_type": "stream",
       "stream": "stdout",
       "text": [
        "\n",
        "20141121-BOSMEM\n",
        "177\n",
        "20141121-SASMIN"
       ]
      },
      {
       "output_type": "stream",
       "stream": "stdout",
       "text": [
        "\n",
        "178\n",
        "20141121-BKNOKC\n",
        "179"
       ]
      },
      {
       "output_type": "stream",
       "stream": "stdout",
       "text": [
        "\n",
        "20141121-CLEWAS\n",
        "180\n",
        "20141121-LALDAL"
       ]
      },
      {
       "output_type": "stream",
       "stream": "stdout",
       "text": [
        "\n",
        "181\n",
        "20141121-NOPDEN\n",
        "182"
       ]
      },
      {
       "output_type": "stream",
       "stream": "stdout",
       "text": [
        "\n",
        "Downloaded until game 181\n"
       ]
      }
     ],
     "prompt_number": 2
    },
    {
     "cell_type": "code",
     "collapsed": false,
     "input": [
      "# LOADS DATA TO MEMORY AND WRITES TO CSV\n",
      "\n",
      "# TODO: CHANGE DAY\n",
      "latest_day = datetime.date(2014,11,20)\n",
      "dk = 'DraftKings'\n",
      "fd = 'FanDuel'\n",
      "\n",
      "player_data, game_data = boxscores.load_jsons_to_memory('boxscores_advanced/2014', latest_day)\n",
      "players = [p.get_name() for p in player_data]\n",
      "\n",
      "boxscores.write_predictions(player_data, 'model_predictions/model_predictions_' + dk + '_' + str(latest_day) + '.csv', dk)\n",
      "boxscores.write_predictions(player_data, 'model_predictions/model_predictions_' + fd + '_' + str(latest_day) + '.csv', fd)"
     ],
     "language": "python",
     "metadata": {},
     "outputs": [
      {
       "metadata": {},
       "output_type": "pyout",
       "prompt_number": 5,
       "text": [
        "True"
       ]
      }
     ],
     "prompt_number": 5
    },
    {
     "cell_type": "code",
     "collapsed": false,
     "input": [
      "for g in game_data:\n",
      "    print g\n",
      "def_ratings, off_ratings = data_getters.get_def_ratings(2015) # may take a bit to hit all the teams\n",
      "def_ratings['CHA'] = def_ratings['CHO'] # note CHO = CHA\n",
      "\n",
      "print def_ratings\n",
      "\n",
      "\n",
      "# regress a player's fantasy points vs opponent's def rating\n",
      "gids = [g.get_game_id() for g in game_data]\n",
      "opp_def_rating = []\n",
      "player_fp = []\n",
      "for p in player_data:\n",
      "    p_info = p.get_info()\n",
      "    for gid in p_info['GAME_ID']:\n",
      "        g = game_data[gids.index(gid)]\n",
      "        # check for which team the player is on, then get the other team's defensive rating\n",
      "        if p_info['TEAM_ID'] == g.get_home_id():\n",
      "            opp_abb = g.get_away_abb()\n",
      "        elif p_info['TEAM_ID'] == g.get_away_id():\n",
      "            opp_abb = g.get_home_abb()\n",
      "        \n",
      "        \n",
      "        \n",
      "            \n",
      "        \n",
      "    \n"
     ],
     "language": "python",
     "metadata": {},
     "outputs": [
      {
       "output_type": "stream",
       "stream": "stdout",
       "text": [
        "2014-10-28/Home: SAS 101, Away: DAL 100\n",
        "2014-10-28/Home: LAL 90, Away: HOU 108\n",
        "2014-10-28/Home: NOP 101, Away: ORL 84\n",
        "2014-10-29/Home: TOR 109, Away: ATL 102\n",
        "2014-10-29/Home: BOS 121, Away: BKN 105\n",
        "2014-10-29/Home: NYK 80, Away: CHI 104\n",
        "2014-10-29/Home: DEN 89, Away: DET 79\n",
        "2014-10-29/Home: SAC 77, Away: GSW 95\n",
        "2014-10-29/Home: UTA 93, Away: HOU 104\n",
        "2014-10-29/Home: PHX 119, Away: LAL 99\n",
        "2014-10-29/Home: CHA 108, Away: MIL 106\n",
        "2014-10-29/Home: MEM 105, Away: MIN 101\n",
        "2014-10-29/Home: POR 106, Away: OKC 89\n",
        "2014-10-29/Home: IND 103, Away: PHI 91\n",
        "2014-10-29/Home: MIA 107, Away: WAS 95\n",
        "2014-10-30/Home: MIN 97, Away: DET 91\n",
        "2014-10-30/Home: CLE 90, Away: NYK 95\n",
        "2014-10-30/Home: LAC 93, Away: OKC 90\n",
        "2014-10-30/Home: DAL 120, Away: UTA 102\n",
        "2014-10-30/Home: ORL 98, Away: WAS 105\n",
        "2014-10-31/Home: CHI 108, Away: CLE 114\n",
        "2014-10-31/Home: LAL 111, Away: LAC 118\n",
        "2014-10-31/Home: IND 89, Away: MEM 97\n",
        "2014-10-31/Home: MIL 93, Away: PHI 81\n",
        "2014-10-31/Home: SAC 103, Away: POR 94\n",
        "2014-10-31/Home: PHX 94, Away: SAS 89\n",
        "2014-11-01/Home: DET 90, Away: BKN 102\n",
        "2014-11-01/Home: HOU 104, Away: BOS 90\n",
        "2014-11-01/Home: MIN 105, Away: CHI 106\n",
        "2014-11-01/Home: NOP 104, Away: DAL 109\n",
        "2014-11-01/Home: OKC 102, Away: DEN 91\n",
        "2014-11-01/Home: ATL 102, Away: IND 92\n",
        "2014-11-01/Home: GSW 127, Away: LAL 104\n",
        "2014-11-01/Home: CHA 69, Away: MEM 71\n",
        "2014-11-01/Home: PHI 96, Away: MIA 114\n",
        "2014-11-01/Home: WAS 108, Away: MIL 97\n",
        "2014-11-01/Home: UTA 118, Away: PHX 91\n",
        "2014-11-01/Home: ORL 95, Away: TOR 108\n",
        "2014-11-02/Home: NYK 96, Away: CHA 93\n",
        "2014-11-02/Home: POR 90, Away: GSW 95\n",
        "2014-11-02/Home: LAC 92, Away: SAC 98\n",
        "2014-11-02/Home: MIA 107, Away: TOR 102\n",
        "2014-11-03/Home: DAL 118, Away: BOS 113\n",
        "2014-11-03/Home: PHI 93, Away: HOU 104\n",
        "2014-11-03/Home: MEM 93, Away: NOP 81\n",
        "2014-11-03/Home: BKN 116, Away: OKC 85\n",
        "2014-11-03/Home: DEN 105, Away: SAC 110\n",
        "2014-11-03/Home: LAC 107, Away: UTA 101\n",
        "2014-11-04/Home: NOP 100, Away: CHA 91\n",
        "2014-11-04/Home: POR 101, Away: CLE 82\n",
        "2014-11-04/Home: MIA 91, Away: HOU 108\n",
        "2014-11-04/Home: IND 81, Away: MIL 87\n",
        "2014-11-04/Home: TOR 100, Away: OKC 88\n",
        "2014-11-04/Home: CHI 98, Away: ORL 90\n",
        "2014-11-04/Home: LAL 106, Away: PHX 112\n",
        "2014-11-04/Home: NYK 83, Away: WAS 98\n",
        "2014-11-05/Home: SAS 94, Away: ATL 92\n",
        "2014-11-05/Home: MIL 86, Away: CHI 95\n",
        "2014-11-05/Home: UTA 102, Away: CLE 100\n",
        "2014-11-05/Home: SAC 131, Away: DEN 109\n",
        "2014-11-05/Home: WAS 96, Away: IND 94\n",
        "2014-11-05/Home: GSW 121, Away: LAC 104\n",
        "2014-11-05/Home: PHX 91, Away: MEM 102\n",
        "2014-11-05/Home: CHA 96, Away: MIA 89\n",
        "2014-11-05/Home: BKN 91, Away: MIN 98\n",
        "2014-11-05/Home: DET 98, Away: NYK 95\n",
        "2014-11-05/Home: PHI 89, Away: ORL 91\n",
        "2014-11-05/Home: BOS 107, Away: TOR 110\n",
        "2014-11-06/Home: POR 108, Away: DAL 87\n",
        "2014-11-06/Home: HOU 98, Away: SAS 81\n",
        "2014-11-07/Home: CHA 122, Away: ATL 119\n",
        "2014-11-07/Home: PHI 115, Away: CHI 118\n",
        "2014-11-07/Home: DEN 101, Away: CLE 110\n",
        "2014-11-07/Home: UTA 82, Away: DAL 105\n",
        "2014-11-07/Home: BOS 101, Away: IND 98\n",
        "2014-11-07/Home: OKC 89, Away: MEM 91\n",
        "2014-11-07/Home: DET 98, Away: MIL 95\n",
        "2014-11-07/Home: ORL 112, Away: MIN 103\n",
        "2014-11-07/Home: BKN 110, Away: NYK 99\n",
        "2014-11-07/Home: PHX 112, Away: SAC 114\n",
        "2014-11-07/Home: TOR 103, Away: WAS 84\n",
        "2014-11-08/Home: CHI 101, Away: BOS 106\n",
        "2014-11-08/Home: HOU 87, Away: GSW 98\n",
        "2014-11-08/Home: MIL 93, Away: MEM 92\n",
        "2014-11-08/Home: MIA 102, Away: MIN 92\n",
        "2014-11-08/Home: SAS 99, Away: NOP 100\n",
        "2014-11-08/Home: ATL 103, Away: NYK 96\n",
        "2014-11-08/Home: LAC 106, Away: POR 102\n",
        "2014-11-08/Home: IND 90, Away: WAS 97\n",
        "2014-11-09/Home: LAL 107, Away: CHA 92\n",
        "2014-11-09/Home: POR 116, Away: DEN 100\n",
        "2014-11-09/Home: PHX 107, Away: GSW 95\n",
        "2014-11-09/Home: DAL 96, Away: MIA 105\n",
        "2014-11-09/Home: BKN 104, Away: ORL 96\n",
        "2014-11-09/Home: TOR 120, Away: PHI 88\n",
        "2014-11-09/Home: OKC 101, Away: SAC 93\n",
        "2014-11-09/Home: DET 96, Away: UTA 97\n",
        "2014-11-10/Home: NYK 85, Away: ATL 91\n",
        "2014-11-10/Home: CHI 102, Away: DET 91\n",
        "2014-11-10/Home: CLE 118, Away: NOP 111\n",
        "2014-11-10/Home: LAC 85, Away: SAS 89\n",
        "2014-11-10/Home: IND 97, Away: UTA 86\n",
        "2014-11-11/Home: POR 102, Away: CHA 100\n",
        "2014-11-11/Home: MEM 107, Away: LAL 102\n",
        "2014-11-11/Home: MIL 85, Away: OKC 78\n",
        "2014-11-11/Home: TOR 104, Away: ORL 100\n",
        "2014-11-11/Home: DAL 106, Away: SAC 98\n",
        "2014-11-11/Home: GSW 100, Away: SAS 113\n",
        "2014-11-12/Home: PHX 112, Away: BKN 104\n",
        "2014-11-12/Home: WAS 107, Away: DET 103\n",
        "2014-11-12/Home: MIN 101, Away: HOU 113\n",
        "2014-11-12/Home: MIA 75, Away: IND 81\n",
        "2014-11-12/Home: NOP 109, Away: LAL 102\n",
        "2014-11-12/Home: BOS 94, Away: OKC 109\n",
        "2014-11-12/Home: NYK 95, Away: ORL 97\n",
        "2014-11-12/Home: DEN 113, Away: POR 130\n",
        "2014-11-12/Home: ATL 100, Away: UTA 97\n",
        "2014-11-13/Home: GSW 107, Away: BKN 99\n",
        "2014-11-13/Home: TOR 93, Away: CHI 100\n",
        "2014-11-13/Home: DAL 123, Away: PHI 70\n",
        "2014-11-13/Home: MEM 111, Away: SAC 110\n",
        "2014-11-14/Home: PHX 95, Away: CHA 103\n",
        "2014-11-14/Home: BOS 121, Away: CLE 122\n",
        "2014-11-14/Home: IND 87, Away: DEN 108\n",
        "2014-11-14/Home: OKC 89, Away: DET 96\n",
        "2014-11-14/Home: ATL 114, Away: MIA 103\n",
        "2014-11-14/Home: ORL 101, Away: MIL 85\n",
        "2014-11-14/Home: NOP 139, Away: MIN 91\n",
        "2014-11-14/Home: HOU 88, Away: PHI 87\n",
        "2014-11-14/Home: LAL 80, Away: SAS 93\n",
        "2014-11-14/Home: NYK 100, Away: UTA 102\n",
        "2014-11-15/Home: CLE 127, Away: ATL 94\n",
        "2014-11-15/Home: POR 97, Away: BKN 87\n",
        "2014-11-15/Home: GSW 112, Away: CHA 87\n",
        "2014-11-15/Home: MEM 95, Away: DET 88\n",
        "2014-11-15/Home: CHI 90, Away: IND 99\n",
        "2014-11-15/Home: DAL 131, Away: MIN 117\n",
        "2014-11-15/Home: WAS 98, Away: ORL 93\n",
        "2014-11-15/Home: LAC 120, Away: PHX 107\n",
        "2014-11-15/Home: SAC 94, Away: SAS 91\n",
        "2014-11-15/Home: TOR 111, Away: UTA 93\n",
        "2014-11-16/Home: NYK 109, Away: DEN 93\n",
        "2014-11-16/Home: LAL 115, Away: GSW 136\n",
        "2014-11-16/Home: OKC 65, Away: HOU 69\n",
        "2014-11-16/Home: MIA 84, Away: MIL 91\n",
        "2014-11-17/Home: LAC 89, Away: CHI 105\n",
        "2014-11-17/Home: CHA 80, Away: DAL 107\n",
        "2014-11-17/Home: CLE 97, Away: DEN 106\n",
        "2014-11-17/Home: MEM 119, Away: HOU 93\n",
        "2014-11-17/Home: BKN 83, Away: MIA 95\n",
        "2014-11-17/Home: POR 102, Away: NOP 93\n",
        "2014-11-17/Home: DET 93, Away: ORL 107\n",
        "2014-11-17/Home: SAS 100, Away: PHI 75\n",
        "2014-11-17/Home: BOS 114, Away: PHX 118\n",
        "2014-11-18/Home: ATL 109, Away: LAL 114\n",
        "2014-11-18/Home: SAC 100, Away: NOP 106\n",
        "2014-11-18/Home: MIL 117, Away: NYK 113\n",
        "2014-11-18/Home: UTA 98, Away: OKC 81\n",
        "2014-11-19/Home: PHI 90, Away: BOS 101\n",
        "2014-11-19/Home: IND 88, Away: CHA 86\n",
        "2014-11-19/Home: WAS 102, Away: DAL 105\n",
        "2014-11-19/Home: ORL 90, Away: LAC 114\n",
        "2014-11-19/Home: HOU 92, Away: LAL 98\n",
        "2014-11-19/Home: TOR 96, Away: MEM 92\n",
        "2014-11-19/Home: BKN 118, Away: MIL 122\n",
        "2014-11-19/Home: MIN 115, Away: NYK 99\n",
        "2014-11-19/Home: DEN 107, Away: OKC 100\n",
        "2014-11-19/Home: DET 86, Away: PHX 88\n",
        "2014-11-19/Home: CLE 90, Away: SAS 92\n",
        "2014-11-20/Home: SAC 103, Away: CHI 88\n",
        "2014-11-20/Home: MIA 93, Away: LAC 110\n",
        "ATL\n",
        "BOS"
       ]
      },
      {
       "output_type": "stream",
       "stream": "stdout",
       "text": [
        "\n",
        "BRK"
       ]
      },
      {
       "output_type": "stream",
       "stream": "stdout",
       "text": [
        "\n",
        "CHO"
       ]
      },
      {
       "output_type": "stream",
       "stream": "stdout",
       "text": [
        "\n",
        "CHI"
       ]
      },
      {
       "output_type": "stream",
       "stream": "stdout",
       "text": [
        "\n",
        "CLE"
       ]
      },
      {
       "output_type": "stream",
       "stream": "stdout",
       "text": [
        "\n",
        "DAL"
       ]
      },
      {
       "output_type": "stream",
       "stream": "stdout",
       "text": [
        "\n",
        "DEN"
       ]
      },
      {
       "output_type": "stream",
       "stream": "stdout",
       "text": [
        "\n",
        "DET"
       ]
      },
      {
       "output_type": "stream",
       "stream": "stdout",
       "text": [
        "\n",
        "GSW"
       ]
      },
      {
       "output_type": "stream",
       "stream": "stdout",
       "text": [
        "\n",
        "HOU"
       ]
      },
      {
       "output_type": "stream",
       "stream": "stdout",
       "text": [
        "\n",
        "IND"
       ]
      },
      {
       "output_type": "stream",
       "stream": "stdout",
       "text": [
        "\n",
        "LAC"
       ]
      },
      {
       "output_type": "stream",
       "stream": "stdout",
       "text": [
        "\n",
        "LAL"
       ]
      },
      {
       "output_type": "stream",
       "stream": "stdout",
       "text": [
        "\n",
        "MEM"
       ]
      },
      {
       "output_type": "stream",
       "stream": "stdout",
       "text": [
        "\n",
        "MIA"
       ]
      },
      {
       "output_type": "stream",
       "stream": "stdout",
       "text": [
        "\n",
        "MIL"
       ]
      },
      {
       "output_type": "stream",
       "stream": "stdout",
       "text": [
        "\n",
        "MIN"
       ]
      },
      {
       "output_type": "stream",
       "stream": "stdout",
       "text": [
        "\n",
        "NOP"
       ]
      },
      {
       "output_type": "stream",
       "stream": "stdout",
       "text": [
        "\n",
        "OKC"
       ]
      },
      {
       "output_type": "stream",
       "stream": "stdout",
       "text": [
        "\n",
        "ORL"
       ]
      },
      {
       "output_type": "stream",
       "stream": "stdout",
       "text": [
        "\n",
        "PHI"
       ]
      },
      {
       "output_type": "stream",
       "stream": "stdout",
       "text": [
        "\n",
        "PHO"
       ]
      },
      {
       "output_type": "stream",
       "stream": "stdout",
       "text": [
        "\n",
        "POR"
       ]
      },
      {
       "output_type": "stream",
       "stream": "stdout",
       "text": [
        "\n",
        "SAC"
       ]
      },
      {
       "output_type": "stream",
       "stream": "stdout",
       "text": [
        "\n",
        "SAS"
       ]
      },
      {
       "output_type": "stream",
       "stream": "stdout",
       "text": [
        "\n",
        "TOR"
       ]
      },
      {
       "output_type": "stream",
       "stream": "stdout",
       "text": [
        "\n",
        "UTA"
       ]
      },
      {
       "output_type": "stream",
       "stream": "stdout",
       "text": [
        "\n",
        "WAS"
       ]
      },
      {
       "output_type": "stream",
       "stream": "stdout",
       "text": [
        "\n",
        "{'MIL': 100.9, 'GSW': 98.4, 'MIN': 112.4, 'MIA': 107.3, 'ATL': 109.1, 'BOS': 110.2, 'DET': 105.4, 'DEN': 110.7, 'DAL': 105.6, 'POR': 103.1, 'ORL': 105.4, 'TOR': 102.7, 'CLE': 109.8, 'SAS': 98.1, 'CHA': 106.1, 'UTA': 111.8, 'CHI': 104.3, 'CHO': 106.1, 'HOU': 98.1, 'WAS': 103.0, 'LAL': 116.2, 'PHI': 106.8, 'PHO': 106.0, 'MEM': 101.0, 'LAC': 106.7, 'SAC': 106.0, 'OKC': 105.0, 'BRK': 107.3, 'IND': 102.7, 'NOP': 105.8}"
       ]
      },
      {
       "output_type": "stream",
       "stream": "stdout",
       "text": [
        "\n"
       ]
      }
     ],
     "prompt_number": 6
    },
    {
     "cell_type": "code",
     "collapsed": false,
     "input": [
      "# EXAMPLE USAGE\n",
      "lookup = 'Zaza Pachulia'\n",
      "p = player_data[players.index(lookup)]\n",
      "p_info = p.get_info()\n",
      "p_adv_info = p.get_adv_info()\n",
      "\n",
      "for key in p_info:\n",
      "    print key + \": \" + str(p_info[key])\n",
      "\n",
      "for key in p_adv_info:\n",
      "    print key + \": \" + str(p_adv_info[key])\n",
      "    \n",
      "print \"\\npredictions\"\n",
      "\n",
      "for s in ['PTS', 'FG3M', 'REB', 'AST', 'STL', 'BLK', 'TO']:\n",
      "    print s + \": \" + str(p.predict(s))\n",
      "\n",
      "print \"expected FP (DK): \" + str(p.calculate_fp(game_number='predict', site=\"DraftKings\"))"
     ],
     "language": "python",
     "metadata": {},
     "outputs": [
      {
       "output_type": "stream",
       "stream": "stdout",
       "text": [
        "TO: [3, None, 3, 1, 2, 1, 0, 2, 2, 2, 4, 2]\n",
        "MIN: [u'14:28', None, u'14:08', u'20:21', u'18:26', u'16:57', u'14:49', u'22:29', u'14:54', u'25:17', u'34:33', u'28:58']\n",
        "PLAYER_ID: [2585, 2585, 2585, 2585, 2585, 2585, 2585, 2585, 2585, 2585, 2585, 2585]\n",
        "TEAM_ID: [1610612749, 1610612749, 1610612749, 1610612749, 1610612749, 1610612749, 1610612749, 1610612749, 1610612749, 1610612749, 1610612749, 1610612749]\n",
        "REB: [1, None, 2, 3, 3, 4, 3, 10, 5, 5, 13, 5]\n",
        "COMMENT: [u'', u\"DNP - Coach's Decision                  \", u'', u'', u'', u'', u'', u'', u'', u'', u'', u'']\n",
        "FG3A: [0, None, 0, 0, 0, 0, 0, 0, 0, 1, 0, 0]\n",
        "PLAYER_NAME: [u'Zaza Pachulia', u'Zaza Pachulia', u'Zaza Pachulia', u'Zaza Pachulia', u'Zaza Pachulia', u'Zaza Pachulia', u'Zaza Pachulia', u'Zaza Pachulia', u'Zaza Pachulia', u'Zaza Pachulia', u'Zaza Pachulia', u'Zaza Pachulia']\n",
        "AST: [0, None, 1, 3, 3, 1, 0, 4, 1, 2, 4, 1]\n",
        "TEAM_ABBREVIATION: [u'MIL', u'MIL', u'MIL', u'MIL', u'MIL', u'MIL', u'MIL', u'MIL', u'MIL', u'MIL', u'MIL', u'MIL']\n",
        "FG3M: [0, None, 0, 0, 0, 0, 0, 0, 0, 0, 0, 0]\n",
        "OREB: [0, None, 1, 0, 1, 1, 2, 4, 1, 2, 7, 2]\n",
        "FGM: [2, None, 1, 4, 1, 3, 2, 3, 1, 5, 6, 2]\n",
        "START_POSITION: [u'', u'', u'', u'', u'', u'', u'', u'', u'', u'', u'C', u'']\n",
        "PF: [1, None, 1, 4, 2, 3, 4, 4, 4, 3, 2, 5]\n",
        "PTS: [4, None, 2, 9, 3, 6, 4, 8, 2, 11, 14, 4]\n",
        "FGA: [5, None, 3, 7, 5, 3, 4, 7, 3, 9, 11, 7]\n",
        "PLUS_MINUS: [-8.0, None, -2.0, -5.0, 3.0, 2.0, -2.0, 13.0, -11.0, 2.0, 15.0, 3.0]\n",
        "STL: [2, None, 0, 1, 1, 2, 0, 2, 0, 1, 2, 1]\n",
        "FTA: [0, None, 0, 2, 1, 0, 0, 2, 0, 1, 2, 0]\n",
        "BLK: [1, None, 0, 1, 0, 1, 0, 1, 0, 0, 0, 1]\n",
        "GAME_ID: [u'0021400004', u'0021400023', u'0021400031', u'0021400049', u'0021400062', u'0021400076', u'0021400088', u'0021400105', u'0021400123', u'0021400143', u'0021400156', u'0021400164']\n",
        "DREB: [1, None, 1, 3, 2, 3, 1, 6, 4, 3, 6, 3]\n",
        "FTM: [0, None, 0, 1, 1, 0, 0, 2, 0, 1, 2, 0]\n",
        "FT_PCT: [0.0, None, 0.0, 0.5, 1.0, 0.0, 0.0, 1.0, 0.0, 1.0, 1.0, 0.0]\n",
        "FG_PCT: [0.4, None, 0.333, 0.571, 0.2, 1.0, 0.5, 0.429, 0.333, 0.556, 0.545, 0.286]\n",
        "FG3_PCT: [0.0, None, 0.0, 0.0, 0.0, 0.0, 0.0, 0.0, 0.0, 0.0, 0.0, 0.0]\n",
        "TEAM_CITY: [u'Milwaukee', u'Milwaukee', u'Milwaukee', u'Milwaukee', u'Milwaukee', u'Milwaukee', u'Milwaukee', u'Milwaukee', u'Milwaukee', u'Milwaukee', u'Milwaukee', u'Milwaukee']\n",
        "MIN: [u'14:28', None, u'14:08', u'20:21', u'18:26', u'16:57', u'14:49', u'22:29', u'14:54', u'25:17', u'34:33', u'28:58']\n",
        "TEAM_ID: [1610612749, 1610612749, 1610612749, 1610612749, 1610612749, 1610612749, 1610612749, 1610612749, 1610612749, 1610612749, 1610612749, 1610612749]\n",
        "PLAYER_ID: [2585, 2585, 2585, 2585, 2585, 2585, 2585, 2585, 2585, 2585, 2585, 2585]\n",
        "AST_PCT: [0.0, None, 0.125, 0.273, 0.25, 0.091, 0.0, 0.333, 0.125, 0.133, 0.148, 0.045]\n",
        "COMMENT: [u'', u\"DNP - Coach's Decision                  \", u'', u'', u'', u'', u'', u'', u'', u'', u'', u'']\n",
        "EFG_PCT: [0.4, None, 0.333, 0.571, 0.2, 1.0, 0.5, 0.429, 0.333, 0.556, 0.545, 0.286]\n",
        "PLAYER_NAME: [u'Zaza Pachulia', u'Zaza Pachulia', u'Zaza Pachulia', u'Zaza Pachulia', u'Zaza Pachulia', u'Zaza Pachulia', u'Zaza Pachulia', u'Zaza Pachulia', u'Zaza Pachulia', u'Zaza Pachulia', u'Zaza Pachulia', u'Zaza Pachulia']\n",
        "DEF_RATING: [98.5, None, 92.0, 126.2, 88.0, 111.8, 85.1, 58.1, 115.6, 93.5, 115.7, 93.8]\n",
        "NET_RATING: [-14.4, None, -11.7, -22.5, 2.9, 7.1, -5.3, 38.7, -38.4, -0.6, 22.6, 7.9]\n",
        "TEAM_ABBREVIATION: [u'MIL', u'MIL', u'MIL', u'MIL', u'MIL', u'MIL', u'MIL', u'MIL', u'MIL', u'MIL', u'MIL', u'MIL']\n",
        "PIE: [0.011, None, -0.042, 0.115, 0.036, 0.143, 0.0, 0.391, -0.01, 0.151, 0.126, -0.017]\n",
        "START_POSITION: [u'', u'', u'', u'', u'', u'', u'', u'', u'', u'', u'C', u'']\n",
        "TM_TOV_PCT: [37.5, None, 42.9, 8.4, 19.2, 20.0, 0.0, 14.4, 33.3, 14.9, 20.1, 20.0]\n",
        "TS_PCT: [0.4, None, 0.333, 0.571, 0.276, 1.0, 0.5, 0.508, 0.333, 0.583, 0.589, 0.286]\n",
        "USG_PCT: [0.249, 0.0, 0.14, 0.224, 0.16, 0.114, 0.11, 0.209, 0.153, 0.214, 0.205, 0.152]\n",
        "OREB_PCT: [0.0, None, 0.059, 0.0, 0.048, 0.1, 0.2, 0.182, 0.059, 0.087, 0.304, 0.083]\n",
        "REB_PCT: [0.042, None, 0.074, 0.088, 0.088, 0.174, 0.136, 0.208, 0.172, 0.135, 0.25, 0.111]\n",
        "GAME_ID: [u'0021400004', u'0021400023', u'0021400031', u'0021400049', u'0021400062', u'0021400076', u'0021400088', u'0021400105', u'0021400123', u'0021400143', u'0021400156', u'0021400164']\n",
        "DREB_PCT: [0.077, None, 0.1, 0.158, 0.154, 0.231, 0.083, 0.231, 0.333, 0.214, 0.207, 0.143]\n",
        "PACE: [112.16, None, 114.52, 83.4, 97.49, 90.85, 102.09, 90.73, 95.3, 91.66, 89.14, 92.49]\n",
        "AST_TOV: [0.0, None, 0.33, 3.0, 1.5, 1.0, 0.0, 2.0, 0.5, 1.0, 1.0, 0.5]\n",
        "AST_RATIO: [0.0, 0.0, 14.3, 25.3, 28.7, 20.0, 0.0, 28.8, 16.7, 14.9, 20.1, 10.0]\n",
        "TEAM_CITY: [u'Milwaukee', u'Milwaukee', u'Milwaukee', u'Milwaukee', u'Milwaukee', u'Milwaukee', u'Milwaukee', u'Milwaukee', u'Milwaukee', u'Milwaukee', u'Milwaukee', u'Milwaukee']\n",
        "OFF_RATING: [84.2, None, 80.4, 103.7, 90.9, 118.9, 79.8, 96.8, 77.3, 92.9, 138.3, 101.7]\n",
        "\n",
        "predictions\n",
        "PTS: 7.35115721094\n",
        "FG3M: 0.0\n",
        "REB: 6.72910147763\n",
        "AST: 2.0366649949\n",
        "STL: 1.15913237745\n",
        "BLK: 0.438089760664\n",
        "TO: 2.2751089034\n",
        "expected FP (DK): 20.8744213749\n"
       ]
      }
     ],
     "prompt_number": 5
    },
    {
     "cell_type": "code",
     "collapsed": false,
     "input": [
      "# CALCULATES FP FOR A GIVEN TEAM\n",
      "\n",
      "def print_summary(team, game_number):\n",
      "    score = []\n",
      "    var = []\n",
      "    for t in team:\n",
      "        p = player_data[players.index(t)]\n",
      "        score.append(p.calculate_fp(game_number))\n",
      "        var.append(p.calculate_fp_variance(scaled=False))\n",
      "        print t + \": \" + \"%.2f\" % score[-1] + \"\\t\\tStd: \" + \"%.2f\" % np.sqrt(var[-1]) + \"\\t ScaledStd: \" + \"%.2f\" % (np.sqrt(var[-1])/score[-1])\n",
      "    \n",
      "    print \"Total: \" + str(sum([x for x in score if x != None]))\n",
      "    print \"Std of lineup: \" + str(np.sqrt(sum(var)))\n",
      "\n",
      "team = ['Chris Paul',\n",
      "        'Rudy Gay',\n",
      "        'Jimmy Butler',\n",
      "        'Mario Chalmers',\n",
      "        'Jamal Crawford',\n",
      "        'Taj Gibson',\n",
      "        'Shawne Williams',\n",
      "        'Spencer Hawes']\n",
      "\n",
      "print_summary(team, game_number=-1)\n",
      "print\n",
      "\n",
      "team = ['DeMarcus Cousins',\n",
      "        'Rudy Gay',\n",
      "        'Jimmy Butler',\n",
      "        'Mario Chalmers',\n",
      "        'Jamal Crawford',\n",
      "        'Taj Gibson',\n",
      "        'Carl Landry',\n",
      "        'Spencer Hawes']\n",
      "print_summary(team, game_number=-1)\n",
      "print"
     ],
     "language": "python",
     "metadata": {},
     "outputs": [
      {
       "output_type": "stream",
       "stream": "stdout",
       "text": [
        "Chris Paul: 51.00\t\tStd: 8.45\t ScaledStd: 0.17\n",
        "Rudy Gay: 32.75\t\tStd: 10.05\t ScaledStd: 0.31\n",
        "Jimmy Butler: 37.00\t\tStd: 6.20\t ScaledStd: 0.17\n",
        "Mario Chalmers: 23.75\t\tStd: 9.61\t ScaledStd: 0.40\n",
        "Jamal Crawford: 23.75\t\tStd: 7.21\t ScaledStd: 0.30\n",
        "Taj Gibson: 26.50\t\tStd: 9.33\t ScaledStd: 0.35\n",
        "Shawne Williams: 13.75\t\tStd: 7.02\t ScaledStd: 0.51\n",
        "Spencer Hawes: 15.75\t\tStd: 7.66\t ScaledStd: 0.49\n",
        "Total: 224.25\n",
        "Std of lineup: 23.458107714\n",
        "\n",
        "DeMarcus Cousins: 48.50\t\tStd: 10.04\t ScaledStd: 0.21\n",
        "Rudy Gay: 32.75\t\tStd: 10.05\t ScaledStd: 0.31\n",
        "Jimmy Butler: 37.00\t\tStd: 6.20\t ScaledStd: 0.17\n",
        "Mario Chalmers: 23.75\t\tStd: 9.61\t ScaledStd: 0.40\n",
        "Jamal Crawford: 23.75\t\tStd: 7.21\t ScaledStd: 0.30\n",
        "Taj Gibson: 26.50\t\tStd: 9.33\t ScaledStd: 0.35\n",
        "Carl Landry: 10.00\t\tStd: 6.48\t ScaledStd: 0.65\n",
        "Spencer Hawes: 15.75\t\tStd: 7.66\t ScaledStd: 0.49\n",
        "Total: 218.0\n",
        "Std of lineup: 23.9228583631\n",
        "\n"
       ]
      }
     ],
     "prompt_number": 6
    },
    {
     "cell_type": "code",
     "collapsed": false,
     "input": [],
     "language": "python",
     "metadata": {},
     "outputs": [],
     "prompt_number": 37
    },
    {
     "cell_type": "code",
     "collapsed": false,
     "input": [],
     "language": "python",
     "metadata": {},
     "outputs": []
    },
    {
     "cell_type": "code",
     "collapsed": false,
     "input": [],
     "language": "python",
     "metadata": {},
     "outputs": []
    },
    {
     "cell_type": "code",
     "collapsed": false,
     "input": [],
     "language": "python",
     "metadata": {},
     "outputs": []
    }
   ],
   "metadata": {}
  }
 ]
}
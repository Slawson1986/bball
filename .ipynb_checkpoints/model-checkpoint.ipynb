{
 "metadata": {
  "name": "",
  "signature": "sha256:4420334fa00b07c11a5581ad329e9cd2fba6a2a8391db99c680dcc992cd92032"
 },
 "nbformat": 3,
 "nbformat_minor": 0,
 "worksheets": [
  {
   "cells": [
    {
     "cell_type": "code",
     "collapsed": false,
     "input": [
      "import os\n",
      "import datetime\n",
      "import numpy as np\n",
      "import pandas as pd\n",
      "import matplotlib.pyplot as plt\n",
      "%matplotlib inline\n",
      "import statsmodels.formula.api as sm\n",
      "\n",
      "# custom modules\n",
      "import data_getters, model, boxscores, optimizer\n",
      "from entities import Player, Game"
     ],
     "language": "python",
     "metadata": {},
     "outputs": [],
     "prompt_number": 3
    },
    {
     "cell_type": "code",
     "collapsed": false,
     "input": [
      "# TODO: CHANGE latest_day\n",
      "latest_day = datetime.date(2014,12,4)\n",
      "dk = 'DraftKings'\n",
      "fd = 'FanDuel'"
     ],
     "language": "python",
     "metadata": {},
     "outputs": [],
     "prompt_number": 4
    },
    {
     "cell_type": "code",
     "collapsed": false,
     "input": [
      "########## RUN ONLY ONCE A DAY ##########\n",
      "\n",
      "# Downloads latest boxscores.\n",
      "data_getters.download_gamelog_jsons(2014,'boxscores_advanced/2014',boxtype='advanced',start_game=288, end_game=1230)"
     ],
     "language": "python",
     "metadata": {},
     "outputs": [
      {
       "output_type": "stream",
       "stream": "stdout",
       "text": [
        "275\n",
        "20141204-NOPGSW"
       ]
      },
      {
       "output_type": "stream",
       "stream": "stdout",
       "text": [
        "\n",
        "276\n",
        "20141205-NYKCHA"
       ]
      },
      {
       "output_type": "stream",
       "stream": "stdout",
       "text": [
        "\n",
        "277\n",
        "20141205-OKCPHI"
       ]
      },
      {
       "output_type": "stream",
       "stream": "stdout",
       "text": [
        "\n",
        "278\n",
        "20141205-DENWAS"
       ]
      },
      {
       "output_type": "stream",
       "stream": "stdout",
       "text": [
        "\n",
        "279\n",
        "20141205-LALBOS"
       ]
      },
      {
       "output_type": "stream",
       "stream": "stdout",
       "text": [
        "\n",
        "280\n",
        "20141205-ATLBKN"
       ]
      },
      {
       "output_type": "stream",
       "stream": "stdout",
       "text": [
        "\n",
        "281\n",
        "20141205-CLETOR"
       ]
      },
      {
       "output_type": "stream",
       "stream": "stdout",
       "text": [
        "\n",
        "282\n",
        "20141205-SASMEM"
       ]
      },
      {
       "output_type": "stream",
       "stream": "stdout",
       "text": [
        "\n",
        "283\n",
        "20141205-HOUMIN"
       ]
      },
      {
       "output_type": "stream",
       "stream": "stdout",
       "text": [
        "\n",
        "284\n",
        "20141205-PHXDAL"
       ]
      },
      {
       "output_type": "stream",
       "stream": "stdout",
       "text": [
        "\n",
        "285\n",
        "20141205-MIAMIL"
       ]
      },
      {
       "output_type": "stream",
       "stream": "stdout",
       "text": [
        "\n",
        "286\n",
        "20141205-ORLUTA"
       ]
      },
      {
       "output_type": "stream",
       "stream": "stdout",
       "text": [
        "\n",
        "287\n",
        "20141205-INDSAC"
       ]
      },
      {
       "output_type": "stream",
       "stream": "stdout",
       "text": [
        "\n",
        "288\n",
        "Downloaded until game 287"
       ]
      },
      {
       "output_type": "stream",
       "stream": "stdout",
       "text": [
        "\n"
       ]
      }
     ],
     "prompt_number": 18
    },
    {
     "cell_type": "code",
     "collapsed": false,
     "input": [
      "########## RUN JUST ONCE A DAY ##########\n",
      "### if already run, run the next cell to load from excel rather than rescraping ###\n",
      "\n",
      "# downloads vegas lines (add one to date because lines are current for today's games whereas ratings are up to games from yesterday)\n",
      "vegas_lines = data_getters.get_vegas_lines('vegas_lines/' + str(latest_day+datetime.timedelta(days=1)) + '_lines.csv', site='covers')\n",
      "print vegas_lines\n",
      "\n",
      "# downloads defensive and offensive ratings\n",
      "def_ratings, off_ratings = data_getters.get_ratings(2015, 'defoff_ratings/' + str(latest_day) + '.csv') # may take a bit to hit all the teams"
     ],
     "language": "python",
     "metadata": {},
     "outputs": [
      {
       "ename": "ValueError",
       "evalue": "could not convert string to float: OFF",
       "output_type": "pyerr",
       "traceback": [
        "\u001b[1;31m---------------------------------------------------------------------------\u001b[0m\n\u001b[1;31mValueError\u001b[0m                                Traceback (most recent call last)",
        "\u001b[1;32m<ipython-input-19-c2ae09f98374>\u001b[0m in \u001b[0;36m<module>\u001b[1;34m()\u001b[0m\n\u001b[0;32m      3\u001b[0m \u001b[1;33m\u001b[0m\u001b[0m\n\u001b[0;32m      4\u001b[0m \u001b[1;31m# downloads vegas lines (add one to date because lines are current for today's games whereas ratings are up to games from yesterday)\u001b[0m\u001b[1;33m\u001b[0m\u001b[1;33m\u001b[0m\u001b[0m\n\u001b[1;32m----> 5\u001b[1;33m \u001b[0mvegas_lines\u001b[0m \u001b[1;33m=\u001b[0m \u001b[0mdata_getters\u001b[0m\u001b[1;33m.\u001b[0m\u001b[0mget_vegas_lines\u001b[0m\u001b[1;33m(\u001b[0m\u001b[1;34m'vegas_lines/'\u001b[0m \u001b[1;33m+\u001b[0m \u001b[0mstr\u001b[0m\u001b[1;33m(\u001b[0m\u001b[0mlatest_day\u001b[0m\u001b[1;33m+\u001b[0m\u001b[0mdatetime\u001b[0m\u001b[1;33m.\u001b[0m\u001b[0mtimedelta\u001b[0m\u001b[1;33m(\u001b[0m\u001b[0mdays\u001b[0m\u001b[1;33m=\u001b[0m\u001b[1;36m1\u001b[0m\u001b[1;33m)\u001b[0m\u001b[1;33m)\u001b[0m \u001b[1;33m+\u001b[0m \u001b[1;34m'_lines.csv'\u001b[0m\u001b[1;33m,\u001b[0m \u001b[0msite\u001b[0m\u001b[1;33m=\u001b[0m\u001b[1;34m'covers'\u001b[0m\u001b[1;33m)\u001b[0m\u001b[1;33m\u001b[0m\u001b[0m\n\u001b[0m\u001b[0;32m      6\u001b[0m \u001b[1;32mprint\u001b[0m \u001b[0mvegas_lines\u001b[0m\u001b[1;33m\u001b[0m\u001b[0m\n\u001b[0;32m      7\u001b[0m \u001b[1;33m\u001b[0m\u001b[0m\n",
        "\u001b[1;32mc:\\Users\\bsim\\Dropbox\\bball\\data_getters.pyc\u001b[0m in \u001b[0;36mget_vegas_lines\u001b[1;34m(excel_fn, site)\u001b[0m\n\u001b[0;32m    179\u001b[0m             \u001b[0mou\u001b[0m \u001b[1;33m=\u001b[0m \u001b[0mtemp\u001b[0m\u001b[1;33m.\u001b[0m\u001b[0mfind_all\u001b[0m\u001b[1;33m(\u001b[0m\u001b[1;34m'div'\u001b[0m\u001b[1;33m,\u001b[0m\u001b[1;34m'line_top'\u001b[0m\u001b[1;33m)\u001b[0m\u001b[1;33m[\u001b[0m\u001b[1;36m0\u001b[0m\u001b[1;33m]\u001b[0m\u001b[1;33m.\u001b[0m\u001b[0mcontents\u001b[0m\u001b[1;33m[\u001b[0m\u001b[1;36m0\u001b[0m\u001b[1;33m]\u001b[0m\u001b[1;33m.\u001b[0m\u001b[0mlstrip\u001b[0m\u001b[1;33m(\u001b[0m\u001b[1;33m)\u001b[0m\u001b[1;33m.\u001b[0m\u001b[0mrstrip\u001b[0m\u001b[1;33m(\u001b[0m\u001b[1;33m)\u001b[0m\u001b[1;33m\u001b[0m\u001b[0m\n\u001b[0;32m    180\u001b[0m             \u001b[0mspread\u001b[0m \u001b[1;33m=\u001b[0m \u001b[0mtemp\u001b[0m\u001b[1;33m.\u001b[0m\u001b[0mfind_all\u001b[0m\u001b[1;33m(\u001b[0m\u001b[1;34m'div'\u001b[0m\u001b[1;33m,\u001b[0m\u001b[1;34m'covers_bottom'\u001b[0m\u001b[1;33m)\u001b[0m\u001b[1;33m[\u001b[0m\u001b[1;36m0\u001b[0m\u001b[1;33m]\u001b[0m\u001b[1;33m.\u001b[0m\u001b[0mcontents\u001b[0m\u001b[1;33m[\u001b[0m\u001b[1;36m0\u001b[0m\u001b[1;33m]\u001b[0m\u001b[1;33m.\u001b[0m\u001b[0mlstrip\u001b[0m\u001b[1;33m(\u001b[0m\u001b[1;33m)\u001b[0m\u001b[1;33m.\u001b[0m\u001b[0mrstrip\u001b[0m\u001b[1;33m(\u001b[0m\u001b[1;33m)\u001b[0m\u001b[1;33m\u001b[0m\u001b[0m\n\u001b[1;32m--> 181\u001b[1;33m             \u001b[0mline_info\u001b[0m\u001b[1;33m[\u001b[0m\u001b[0mteamstring\u001b[0m\u001b[1;33m]\u001b[0m \u001b[1;33m=\u001b[0m \u001b[1;33m[\u001b[0m\u001b[0mfloat\u001b[0m\u001b[1;33m(\u001b[0m\u001b[0mou\u001b[0m\u001b[1;33m)\u001b[0m\u001b[1;33m,\u001b[0m \u001b[0mfloat\u001b[0m\u001b[1;33m(\u001b[0m\u001b[0mspread\u001b[0m\u001b[1;33m)\u001b[0m\u001b[1;33m]\u001b[0m\u001b[1;33m\u001b[0m\u001b[0m\n\u001b[0m\u001b[0;32m    182\u001b[0m         \u001b[1;32mwith\u001b[0m \u001b[0mopen\u001b[0m\u001b[1;33m(\u001b[0m\u001b[0mexcel_fn\u001b[0m\u001b[1;33m,\u001b[0m \u001b[1;34m'wb'\u001b[0m\u001b[1;33m)\u001b[0m \u001b[1;32mas\u001b[0m \u001b[0mcsvfile\u001b[0m\u001b[1;33m:\u001b[0m\u001b[1;33m\u001b[0m\u001b[0m\n\u001b[0;32m    183\u001b[0m             \u001b[0mwriter\u001b[0m \u001b[1;33m=\u001b[0m \u001b[0mcsv\u001b[0m\u001b[1;33m.\u001b[0m\u001b[0mwriter\u001b[0m\u001b[1;33m(\u001b[0m\u001b[0mcsvfile\u001b[0m\u001b[1;33m)\u001b[0m\u001b[1;33m\u001b[0m\u001b[0m\n",
        "\u001b[1;31mValueError\u001b[0m: could not convert string to float: OFF"
       ]
      }
     ],
     "prompt_number": 19
    },
    {
     "cell_type": "code",
     "collapsed": false,
     "input": [
      "# LOAD vegas lines and def/off ratings to memory from excel files\n",
      "vegas_lines = data_getters.read_from_file('vegas_lines', 'vegas_lines/' + str(latest_day+datetime.timedelta(days=1)) +'_lines.csv')\n",
      "\n",
      "def_ratings, off_ratings = data_getters.read_from_file('ratings', 'defoff_ratings/' + str(latest_day) + '.csv')\n",
      "\n",
      "print vegas_lines"
     ],
     "language": "python",
     "metadata": {},
     "outputs": [
      {
       "output_type": "stream",
       "stream": "stdout",
       "text": [
        "{'Houston@Minnesota': [202.5, 7.0], 'New York@Charlotte': [189.0, -4.5], 'Orlando@Utah': [193.0, -5.5], 'Oklahoma City@Philadelphia': [200.0, 13.0], 'Cleveland@Toronto': [208.0, -4.0], 'Atlanta@Brooklyn': [201.5, 1.5], 'Phoenix@Dallas': [216.0, -5.5], 'San Antonio@Memphis': [193.0, -1.0], 'L.A. Lakers@Boston': [217.5, -3.5], 'Indiana@Sacramento': [191.0, -3.5], 'Miami@Milwaukee': [195.0, -1.5], 'Denver@Washington': [208.0, -4.5]}\n"
       ]
      }
     ],
     "prompt_number": 5
    },
    {
     "cell_type": "code",
     "collapsed": false,
     "input": [
      "##### LOADS BOXSCORE DATA TO MEMORY #####\n",
      "player_data, game_data = boxscores.load_jsons_to_memory('boxscores_advanced/2014', latest_day)\n",
      "players = [p.get_name() for p in player_data]\n",
      "\n",
      "# writes EMA model results\n",
      "ema_dk_projections = model.write_predictions(player_data, 'ema', vegas_lines=None, def_ratings=None, off_ratings=None,\n",
      "                        excel_fn='model_predictions/model_predictions_' + dk + '_' + str(latest_day) + '.csv', dfs_site=dk)\n",
      "ema_fd_projections = model.write_predictions(player_data, 'ema', vegas_lines=None, def_ratings=None, off_ratings=None,\n",
      "                        excel_fn='model_predictions/model_predictions_' + fd + '_' + str(latest_day) + '.csv', dfs_site=fd)\n",
      "\n",
      "# writes possession model results\n",
      "minutes_adjustments = {'Rodney Stuckey': 30.0, \n",
      "                       'Greivis Vasquez': 31.0,\n",
      "                       'Zach LaVine': 35.0,\n",
      "                       'Eric Bledsoe': 39.0,\n",
      "                       'K.J. McDaniels': 35.0 \n",
      "                       }\n",
      "poss_dk_projections = model.write_predictions(player_data, 'possessions', vegas_lines, def_ratings, off_ratings,\n",
      "                        'model_predictions/pos_model_predictions_' + dk + '_' + str(latest_day) + '.csv', dk, minutes_adjustments)"
     ],
     "language": "python",
     "metadata": {},
     "outputs": [],
     "prompt_number": 14
    },
    {
     "cell_type": "code",
     "collapsed": false,
     "input": [
      "print poss_dk_projections['Zach LaVine']\n",
      "print poss_dk_projections['Rodney Stuckey']\n",
      "print poss_dk_projections['Greivis Vasquez']\n",
      "print poss_dk_projections['KJ McDaniels']\n",
      "print poss_dk_projections['Eric Bledsoe']"
     ],
     "language": "python",
     "metadata": {},
     "outputs": [
      {
       "output_type": "stream",
       "stream": "stdout",
       "text": [
        "21.4041237113\n",
        "23.614021985\n",
        "30.2261281474\n",
        "31.0226558786\n",
        "40.8692754153\n"
       ]
      }
     ],
     "prompt_number": 15
    },
    {
     "cell_type": "code",
     "collapsed": false,
     "input": [
      "##### RUN OPTIMIZER #####\n",
      "fn = 'draftkings_data/DKSalaries_'+(latest_day+datetime.timedelta(days=1)).strftime('%m%d%Y')+'.csv'\n",
      "\n",
      "adjustments = {'Kevin Martin': 0.0, #injury - wrist (early jan)\n",
      "               'Terrence Jones': 0.0, #injury - leg\n",
      "               'Perry Jones': 0.0, #injury\n",
      "               'Gary Neal': 0.0, #QUESTIONABLE\n",
      "               'Marvin Williams': 0.0, #QUESTIONABLE\n",
      "               'Michael Kidd-Gilchrist': 0.0, #injury\n",
      "               'Raymond Felton': 0.0, #QUESTIONABLE\n",
      "               'Jameer Nelson': 0.0, #QUESTIONABLE\n",
      "               'JaVale McGee': 0.0, #QUESTIONABLE\n",
      "               'Danilo Gallinari': 0.0, #QUESTIONABLE\n",
      "               'David Lee': 0.0, #injured - hamstring\n",
      "               'Dwight Howard': 0.0, # doubtful - knee\n",
      "               'Patrick Beverley': 0.0, #doubtful - hamstring\n",
      "               'George Hill': 0.0, #QUESTIONABLE\n",
      "               'David West': 0.0, #QUESTIONABLE\n",
      "               'Matt Barnes': 0.0, #QUESTIONABLE\n",
      "               'Ricky Rubio': 0.0, #injured - ankle (early jan)\n",
      "               'Eric Gordon': 0.0, #out indefinitely\n",
      "               'Aaron Gordon': 0.0, #out indefinitely\n",
      "               'Tiago Splitter': 0.0, #out indefinitely\n",
      "               'Tony Wroten': 0.0,\n",
      "               'Nikola Pekovic': 0.0,\n",
      "               'Trevor Booker': 0.0,\n",
      "               'Ersan Ilyasova': 0.0,\n",
      "               'Jeremy Lamb': 0,\n",
      "               'Reggie Jackson': 0,\n",
      "               'DeMarcus Cousins': 0,\n",
      "               'Jeff Adrien': 0,\n",
      "               'Mo Williams': 0, #injured\n",
      "               'Rajon Rondo': 39,\n",
      "               'Monta Ellis': 0,\n",
      "               \"Amar'e Stoudemire\": 0,\n",
      "               \"Kawhi Leonard\": 0,\n",
      "               'Danny Green': 0\n",
      "              }\n",
      "\n",
      "num_lineups = 10\n",
      "\n",
      "# other constraints\n",
      "other_constraints = {'max_players_per_game': 3}\n",
      "\n",
      "##### gets results for pure DraftKings projections #####\n",
      "#results = optimizer.run_optimization(fn, None, adjustments, num_lineups, other_constraints)\n",
      "\n",
      "##### gets results for our EMA DraftKings projections #####\n",
      "#results = optimizer.run_optimization(fn, ema_dk_projections, adjustments, num_lineups, other_constraints)\n",
      "\n",
      "##### gets results for our possessions model projections #####\n",
      "results = optimizer.run_optimization(fn, poss_dk_projections, adjustments, num_lineups, other_constraints)\n",
      "\n",
      "# get best teams of every night\n",
      "for r in results:\n",
      "    print r['value'], r['team']\n",
      "\n"
     ],
     "language": "python",
     "metadata": {},
     "outputs": [
      {
       "output_type": "stream",
       "stream": "stdout",
       "text": [
        "271.69615738 ['Eric Bledsoe', 'Rajon Rondo', 'Rudy Gay', 'Tyson Chandler', 'Dirk Nowitzki', 'K.J. McDaniels', 'Greivis Vasquez', 'Lavoy Allen']\n",
        "271.55047476 ['Kyle Lowry', 'Eric Bledsoe', 'Tyson Chandler', 'Dirk Nowitzki', 'K.J. McDaniels', 'Rodney Stuckey', 'Greivis Vasquez', 'Kevin Garnett']\n",
        "271.52834872 ['Kyle Lowry', 'Eric Bledsoe', 'Tyson Chandler', 'Dirk Nowitzki', 'Wilson Chandler', 'K.J. McDaniels', 'Greivis Vasquez', 'Lavoy Allen']\n",
        "271.33981755 ['Eric Bledsoe', 'Rajon Rondo', 'Marcin Gortat', 'Tyson Chandler', 'Dirk Nowitzki', 'K.J. McDaniels', 'Greivis Vasquez', 'Luc Richard Mbah a Moute']\n",
        "271.32907442 ['Kyle Lowry', 'Eric Bledsoe', 'Tyson Chandler', 'Dirk Nowitzki', 'K.J. McDaniels', 'Jabari Parker', 'Greivis Vasquez', 'Rasual Butler']\n",
        "271.22361198 ['Kyle Lowry', 'Eric Bledsoe', 'Tyson Chandler', 'Dirk Nowitzki', 'K.J. McDaniels', 'Donatas Motiejunas', 'Greivis Vasquez', 'Rasual Butler']\n",
        "270.80230194 ['Eric Bledsoe', 'Rajon Rondo', 'Tyson Chandler', 'Dirk Nowitzki', 'Enes Kanter', 'K.J. McDaniels', 'Jabari Parker', 'Greivis Vasquez']\n",
        "270.71636077 ['Eric Bledsoe', 'Rudy Gay', 'Marcin Gortat', 'Tyson Chandler', 'Dirk Nowitzki', 'K.J. McDaniels', 'Greivis Vasquez', 'Rasual Butler']\n",
        "270.69683951 ['Eric Bledsoe', 'Rajon Rondo', 'Tyson Chandler', 'Dirk Nowitzki', 'Enes Kanter', 'K.J. McDaniels', 'Donatas Motiejunas', 'Greivis Vasquez']\n",
        "270.63044839 ['Eric Bledsoe', 'Rajon Rondo', 'Rudy Gay', 'Tyson Chandler', 'Dirk Nowitzki', 'K.J. McDaniels', 'Greivis Vasquez', 'Zaza Pachulia']\n"
       ]
      }
     ],
     "prompt_number": 17
    },
    {
     "cell_type": "code",
     "collapsed": false,
     "input": [
      "##### CALCULATES FP FOR A GIVEN TEAM #####\n",
      "\n",
      "def print_summary(team, game_number, site='DraftKings'):\n",
      "    score = []\n",
      "    var = []\n",
      "    for t in team:\n",
      "        p = player_data[players.index(t)]\n",
      "        score.append(p.calculate_fp(game_number, site))\n",
      "        var.append(p.calculate_fp_variance(scaled=False))\n",
      "        if score[-1] is not None:\n",
      "            print t + \": \" + \"%.2f\" % score[-1] + \"\\t\\tStd: \" + \"%.2f\" % np.sqrt(var[-1]) + \"\\t ScaledStd: \" + \"%.2f\" % (np.sqrt(var[-1])/score[-1])\n",
      "        else:\n",
      "            print t + \": \" + \"0.0\"\n",
      "    print \"Total: \" + str(sum([x for x in score if x != None]))\n",
      "    print \"Std of lineup: \" + str(np.sqrt(sum(var)))\n",
      "\n",
      "team = ['Kyle Lowry', 'Kentavious Caldwell-Pope', 'Josh Smith', 'Pau Gasol', 'Chris Kaman', 'Brandon Jennings', 'Marreese Speights', 'Greivis Vasquez']\n",
      "team = ['Kyrie Irving', 'Wesley Matthews', 'Jeff Green', 'Andre Drummond', 'Greg Monroe', 'Marreese Speights', 'A.J. Price', 'Jeremy Lin']\n",
      "print_summary(team, game_number=-1, site='DraftKings')\n",
      "print"
     ],
     "language": "python",
     "metadata": {},
     "outputs": [
      {
       "output_type": "stream",
       "stream": "stdout",
       "text": [
        "Kyrie Irving: 43.00\t\tStd: 9.26\t ScaledStd: 0.22\n",
        "Wesley Matthews: 23.00\t\tStd: 5.93\t ScaledStd: 0.26\n",
        "Jeff Green: 31.50\t\tStd: 8.80\t ScaledStd: 0.28\n",
        "Andre Drummond: 29.75\t\tStd: 10.26\t ScaledStd: 0.34\n",
        "Greg Monroe: 26.50\t\tStd: 10.18\t ScaledStd: 0.38\n",
        "Marreese Speights: 19.00\t\tStd: 11.10\t ScaledStd: 0.58\n",
        "A.J. Price: 0.0\n",
        "Jeremy Lin: 24.50\t\tStd: 10.66\t ScaledStd: 0.44\n",
        "Total: 197.25\n",
        "Std of lineup: 26.5338422274\n",
        "\n"
       ]
      }
     ],
     "prompt_number": 13
    },
    {
     "cell_type": "code",
     "collapsed": false,
     "input": [
      "# EXAMPLE USAGE\n",
      "lookup = 'Ty Lawson'\n",
      "p = player_data[players.index(lookup)]\n",
      "p_info = p.get_info()\n",
      "p_adv_info = p.get_adv_info()\n",
      "\n",
      "#for key in p_info:\n",
      "#    print key + \": \" + str(p_info[key])\n",
      "\n",
      "#for key in p_adv_info:\n",
      "#    print key + \": \" + str(p_adv_info[key])\n",
      "    \n",
      "print \"\\npredictions\"\n",
      "\n",
      "for s in ['PTS', 'FG3M', 'REB', 'AST', 'STL', 'BLK', 'TO']:\n",
      "    print s + \": \" + str(p.predict(s))\n",
      "\n",
      "print \"expected FP (DK): \" + str(p.calculate_fp(game_number=-1, site=\"DraftKings\"))\n",
      "\n",
      "p.possessions_model(105.)"
     ],
     "language": "python",
     "metadata": {},
     "outputs": []
    },
    {
     "cell_type": "code",
     "collapsed": false,
     "input": [
      "# BACKTESTER\n",
      "# Backtester basically first uses all days except the desired day to make projections, then calculates the actual fpts\n",
      "# performance of all players on the desired day. The optimizer then runs with the projections, and then the fpts of the teams \n",
      "# it spits out is returned. The backtester supports multiple lineups on each day. \n",
      "\n",
      "import os\n",
      "import datetime\n",
      "import data_getters, model, boxscores, optimizer\n",
      "\n",
      "date = datetime.date(2014,11,1)\n",
      "end_date = datetime.date(2014,11,30)\n",
      "dk = 'DraftKings'\n",
      "num_lineups = 10\n",
      "\n",
      "# backtest through date range\n",
      "while date < end_date:\n",
      "    # load data up to the date\n",
      "    player_data, game_data = boxscores.load_jsons_to_memory('boxscores_advanced/2014', date-datetime.timedelta(days=1))\n",
      "    players = [p.get_name() for p in player_data]\n",
      "\n",
      "    # get predictions given data up to the day before the desired date\n",
      "    ema_dk_projections = model.write_predictions(player_data, 'ema', vegas_lines=None, def_ratings=None, off_ratings=None,excel_fn='model_predictions/model_predictions_' + dk + '_' + str(date) + '.csv', dfs_site=dk)\n",
      "\n",
      "    adjustments = {} # fades/injuries\n",
      "    players_fpts = {} # player performance of desired day\n",
      "    \n",
      "    # load the boxscore up to desired date\n",
      "    player_data, game_data = boxscores.load_jsons_to_memory('boxscores_advanced/2014', date)\n",
      "    #print \"length\", len(player_data[0].info['GAME_ID'])\n",
      "    players = [p.get_name() for p in player_data]\n",
      "    \n",
      "    # go through players, get the game_id that the player is in on the given date, and\n",
      "    # put player's fantasy performance into players_fpts\n",
      "    for player_name in players:\n",
      "        player = player_data[players.index(player_name)]\n",
      "        relevant_games =[g for g in game_data if g.home_info['TEAM_ABBREVIATION'] == player.info['TEAM_ABBREVIATION'][0] or g.away_info['TEAM_ABBREVIATION'] == player.info['TEAM_ABBREVIATION'][0]]\n",
      "        game_dates = [g.home_info['GAME_DATE_EST'] for g in relevant_games]\n",
      "        game_date_objs = []\n",
      "        for game_date in game_dates:\n",
      "            date_attrs = game_date.split(\"T\")[0].split('-')\n",
      "            game_date_objs.append(datetime.date(int(date_attrs[0]), int(date_attrs[1]), int(date_attrs[2])))\n",
      "        try:\n",
      "            game_id = relevant_games[game_date_objs.index(date)].home_info['GAME_ID']\n",
      "            index = player.info['GAME_ID'].index(game_id) \n",
      "            players_fpts[player_name] = player.calculate_fp(game_number=index)\n",
      "            if players_fpts[player_name] == None: # can't compute player fp due to injury, coach's decision to not play, etc. \n",
      "                adjustments[player_name] = 0.0\n",
      "        except Exception as e: # player didn't play on the date or doesn't have the game_id (both cases do occur, i've checked)\n",
      "            adjustments[player_name] = 0.0 \n",
      "            \n",
      "    try:\n",
      "        fn = 'DKSalaries_' + date.strftime('%m%d%Y') + '.csv' \n",
      "        print fn\n",
      "        \n",
      "        # weird bug where player might not be in our players dict. if this happens, toss player and rerun optimizer\n",
      "        # TODO: investigate bug more -- what's really going on? \n",
      "        finished = False\n",
      "        \n",
      "        \n",
      "        adjustments_disc = {'Kevin Martin': 0.0, #injury - wrist (early jan)\n",
      "               'Terrence Jones': 0.0, #injury - leg\n",
      "               'Perry Jones': 0.0, #injury\n",
      "               'Gary Neal': 0.0, #QUESTIONABLE\n",
      "               'Marvin Williams': 0.0, #QUESTIONABLE\n",
      "               'Michael Kidd-Gilchrist': 0.0, #injury\n",
      "               'Joakim Noah': 0.0, #questionable - knee\n",
      "               'Taj Gibson': 0.0, #doubtful - ankle\n",
      "               'Derrick Rose': 0.0, #doubtful - hamstring\n",
      "               'Raymond Felton': 0.0, #QUESTIONABLE\n",
      "               'Jameer Nelson': 0.0, #QUESTIONABLE\n",
      "               'JaVale McGee': 0.0, #QUESTIONABLE\n",
      "               'Danilo Gallinari': 0.0, #QUESTIONABLE\n",
      "               'Brandon Jennings': 0.0, #QUESTIONABLE\n",
      "               'David Lee': 0.0, #injured - hamstring\n",
      "               'Dwight Howard': 0.0, # doubtful - knee\n",
      "               'Patrick Beverley': 0.0, #doubtful - hamstring\n",
      "               'George Hill': 0.0, #QUESTIONABLE\n",
      "               'C.J. Watson': 0.0, #QUESTIONABLE\n",
      "               'David West': 0.0, #QUESTIONABLE\n",
      "               'Roy Hibbert': 0.0, #QUESTIONABLE\n",
      "               'Matt Barnes': 0.0, #QUESTIONABLE\n",
      "               'Dwyane Wade': 0.0, #QUESTIONABLE\n",
      "               'Ricky Rubio': 0.0, #injured - ankle (early jan)\n",
      "               'Eric Gordon': 0.0, #out indefinitely\n",
      "               'Carmelo Anthony': 0.0, # doubtful - back\n",
      "               'Aaron Gordon': 0.0, #out indefinitely\n",
      "               'Isaiah Thomas': 0.0, #questionable, ankle\n",
      "               'Darren Collison': 0.0, # questionable, quad\n",
      "               'Rudy Gay': 0.0, #questionable, achilles\n",
      "               'Tiago Splitter': 0.0, #out indefinitely\n",
      "               'Tyler Hansbrough': 0.0, #doubtful\n",
      "               'Nene Hilario': 0.0, #QUESTIONABLE\n",
      "               'Dirk Nowitzki': 0.0,\n",
      "               'Ersan Ilyasova': 0.0,\n",
      "               'Jamal Crawford': 0.0,\n",
      "               'Tony Wroten': 0.0,\n",
      "               'Kemba Walker':0.0\n",
      "               #'Andrew Wiggins': 0.0, #nope\n",
      "              }\n",
      "        for key in adjustments_disc.keys():\n",
      "            adjustments[key] = 0.0\n",
      "        \n",
      "        while (finished == False):\n",
      "            finished = True\n",
      "            results = optimizer.run_optimization(os.path.join('draftkings_data', fn), ema_dk_projections, adjustments, num_lineups)\n",
      "            for i in range(num_lineups): #make sure all lineups are valid\n",
      "                for player_name in results[i]['team']:\n",
      "                    if player_name not in players_fpts.keys():\n",
      "                        adjustments[player_name] = 0.0\n",
      "                        finished = False\n",
      "        for i in range(num_lineups):\n",
      "            team_fpts = 0.0\n",
      "            for player_name in results[i]['team']:\n",
      "                team_fpts += players_fpts[player_name] \n",
      "            print results[i]['team'] , team_fpts, str(date)\n",
      "    except IOError, e:\n",
      "        print 'no cost data for date ' + str(date)\n",
      "        #print 'no cost data for date ' + str(date) \n",
      "    \n",
      "    print \"\\n\"\n",
      "    date += datetime.timedelta(days=1)\n",
      "            "
     ],
     "language": "python",
     "metadata": {},
     "outputs": []
    },
    {
     "cell_type": "code",
     "collapsed": false,
     "input": [
      "### REGRESSION: Players' fantasy points vs pace of the game. Filtered by players who play more than X minutes.\n",
      "## results: ??\n",
      "\n",
      "gids = [g.get_game_id() for g in game_data]\n",
      "pace = []\n",
      "player_fp = []\n",
      "for p in player_data:\n",
      "    p_info = p.get_info()\n",
      "    index = 0\n",
      "    for gid in p_info['GAME_ID']:\n",
      "        g = game_data[gids.index(gid)]\n",
      "        temp = p.calculate_fp(game_number=index,site='DraftKings')\n",
      "        if temp is not None:\n",
      "            # minutes filter\n",
      "            if float(p_info['MIN'][index].split(':')[0]) > 20:\n",
      "                pace.append(g.home_info['PACE']) #WLOG use home_info, pace should be the same for both teams\n",
      "                player_fp.append(temp)\n",
      "        index += 1\n",
      "        \n",
      "df = pd.DataFrame(np.array([pace, player_fp]).T, columns=['pace', 'fp'])\n",
      "df['const'] = np.ones((len(df), ))\n",
      "reg = sm.OLS(df.fp, df[['pace', 'const']]).fit()\n",
      "print reg.summary()\n",
      "\n",
      "plt.figure()\n",
      "plt.plot(df.pace, df.fp, '.', alpha=0.5)\n",
      "xval = np.linspace(80,110,10)\n",
      "plt.plot(xval, reg.params['const']+reg.params['pace']*xval,'-')\n",
      "plt.xlabel('pace')\n",
      "plt.ylabel('fantasy points')\n",
      "plt.show()\n"
     ],
     "language": "python",
     "metadata": {},
     "outputs": []
    },
    {
     "cell_type": "code",
     "collapsed": false,
     "input": [
      "### REGRESSION: Players' fantasy points vs opponent's def ratings. Filtered by players who play more than X minutes.\n",
      "## results: not promising; check accuracy of data?\n",
      "\n",
      "#for g in game_data:\n",
      "#    print g\n",
      "#def_ratings, off_ratings = data_getters.get_ratings(2015) # may take a bit to hit all the teams\n",
      "def_ratings['CHA'] = def_ratings['CHO'] # note CHO = CHA\n",
      "def_ratings['PHX'] = def_ratings['PHO'] # note PHO = PHX\n",
      "def_ratings['BKN'] = def_ratings['BRK']\n",
      "#print def_ratings\n",
      "\n",
      "\n",
      "# regress a player's fantasy points vs opponent's def rating\n",
      "gids = [g.get_game_id() for g in game_data]\n",
      "opp_def_rating = []\n",
      "player_fp = []\n",
      "for p in player_data:\n",
      "    p_info = p.get_info()\n",
      "    index = 0\n",
      "    for gid in p_info['GAME_ID']:\n",
      "        g = game_data[gids.index(gid)]\n",
      "        # check for which team the player is on, then get the other team's defensive rating\n",
      "        if p_info['TEAM_ID'][index] == g.get_home_id():\n",
      "            opp_abb = g.get_away_abb()\n",
      "        elif p_info['TEAM_ID'][index] == g.get_away_id():\n",
      "            opp_abb = g.get_home_abb()\n",
      "        else:\n",
      "            print \"what\"\n",
      "        temp = p.calculate_fp(game_number=index,site='DraftKings')\n",
      "        if temp is not None:\n",
      "            # minutes filter\n",
      "            if float(p_info['MIN'][index].split(':')[0]) > 20:\n",
      "                opp_def_rating.append(def_ratings[opp_abb])\n",
      "                player_fp.append(temp)\n",
      "        index += 1\n",
      "\n",
      "        \n",
      "df = pd.DataFrame(np.array([opp_def_rating, player_fp]).T, columns=['opp_def_rating', 'fp'])\n",
      "df['const'] = np.ones((len(df), ))\n",
      "reg = sm.OLS(df.fp, df[['opp_def_rating', 'const']]).fit()\n",
      "print reg.summary()\n",
      "\n",
      "plt.figure()\n",
      "plt.plot(df.opp_def_rating, df.fp, '.', alpha=0.5)\n",
      "xval = np.linspace(95,120,10)\n",
      "plt.plot(xval, reg.params['const']+reg.params['opp_def_rating']*xval,'-')\n",
      "plt.xlabel('opponent def rating')\n",
      "plt.ylabel('fantasy points')\n",
      "plt.show()"
     ],
     "language": "python",
     "metadata": {},
     "outputs": []
    }
   ],
   "metadata": {}
  }
 ]
}
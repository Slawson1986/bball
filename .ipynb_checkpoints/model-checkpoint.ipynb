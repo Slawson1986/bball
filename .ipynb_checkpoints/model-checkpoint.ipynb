{
 "metadata": {
  "name": "",
  "signature": "sha256:4420334fa00b07c11a5581ad329e9cd2fba6a2a8391db99c680dcc992cd92032"
 },
 "nbformat": 3,
 "nbformat_minor": 0,
 "worksheets": [
  {
   "cells": [
    {
     "cell_type": "code",
     "collapsed": false,
     "input": [
      "import os\n",
      "import datetime\n",
      "import numpy as np\n",
      "import pandas as pd\n",
      "import matplotlib.pyplot as plt\n",
      "%matplotlib inline\n",
      "import statsmodels.formula.api as sm\n",
      "\n",
      "# custom modules\n",
      "import data_getters, model, boxscores, optimizer\n",
      "from entities import Player, Game"
     ],
     "language": "python",
     "metadata": {},
     "outputs": [],
     "prompt_number": 2
    },
    {
     "cell_type": "code",
     "collapsed": false,
     "input": [
      "# Downloads latest boxscores. Run only once a day.\n",
      "data_getters.download_gamelog_jsons(2014,'boxscores_advanced/2014',boxtype='advanced',start_game=249, end_game=1230)"
     ],
     "language": "python",
     "metadata": {},
     "outputs": [
      {
       "output_type": "stream",
       "stream": "stdout",
       "text": [
        "240\n",
        "20141129-HOUMIL"
       ]
      },
      {
       "output_type": "stream",
       "stream": "stdout",
       "text": [
        "\n",
        "241\n",
        "20141130-SASBOS"
       ]
      },
      {
       "output_type": "stream",
       "stream": "stdout",
       "text": [
        "\n",
        "242\n",
        "20141130-CHIBKN"
       ]
      },
      {
       "output_type": "stream",
       "stream": "stdout",
       "text": [
        "\n",
        "243\n",
        "20141130-GSWDET"
       ]
      },
      {
       "output_type": "stream",
       "stream": "stdout",
       "text": [
        "\n",
        "244\n",
        "20141130-MEMSAC"
       ]
      },
      {
       "output_type": "stream",
       "stream": "stdout",
       "text": [
        "\n",
        "245\n",
        "20141130-MIANYK"
       ]
      },
      {
       "output_type": "stream",
       "stream": "stdout",
       "text": [
        "\n",
        "246\n",
        "20141130-ORLPHX"
       ]
      },
      {
       "output_type": "stream",
       "stream": "stdout",
       "text": [
        "\n",
        "247\n",
        "20141130-MINPOR"
       ]
      },
      {
       "output_type": "stream",
       "stream": "stdout",
       "text": [
        "\n",
        "248\n",
        "20141130-TORLAL"
       ]
      },
      {
       "output_type": "stream",
       "stream": "stdout",
       "text": [
        "\n",
        "249\n",
        "Downloaded until game 248"
       ]
      },
      {
       "output_type": "stream",
       "stream": "stdout",
       "text": [
        "\n"
       ]
      }
     ],
     "prompt_number": 14
    },
    {
     "cell_type": "code",
     "collapsed": false,
     "input": [
      "# TODO: CHANGE latest_day\n",
      "latest_day = datetime.date(2014,11,30)\n",
      "dk = 'DraftKings'\n",
      "fd = 'FanDuel'"
     ],
     "language": "python",
     "metadata": {},
     "outputs": [],
     "prompt_number": 3
    },
    {
     "cell_type": "code",
     "collapsed": true,
     "input": [
      "## RUN JUST ONCE A DAY, if already run, run the next cell to load from excel rather than rescraping\n",
      "\n",
      "# downloads vegas lines (add one to date because lines are current for today's games whereas ratings are up to games from yesterday)\n",
      "vegas_lines = data_getters.get_vegas_lines('vegas_lines/' + str(latest_day+datetime.timedelta(days=1)) + '_lines.csv', site='covers')\n",
      "print vegas_lines\n",
      "\n",
      "# downloads defensive and offensive ratings\n",
      "def_ratings, off_ratings = data_getters.get_ratings(2015, 'defoff_ratings/' + str(latest_day) + '.csv') # may take a bit to hit all the teams"
     ],
     "language": "python",
     "metadata": {},
     "outputs": [
      {
       "output_type": "stream",
       "stream": "stdout",
       "text": [
        "{u'Denver@Utah': [208.0, 2.0], u'Miami@Washington': [189.5, -4.5], u'San Antonio@Philadelphia': [195.0, 11.5], u'Minnesota@L.A. Clippers': [215.5, -14.0]}\n",
        "ATL\n",
        "BOS"
       ]
      },
      {
       "output_type": "stream",
       "stream": "stdout",
       "text": [
        "\n",
        "BRK"
       ]
      },
      {
       "output_type": "stream",
       "stream": "stdout",
       "text": [
        "\n",
        "CHO"
       ]
      },
      {
       "output_type": "stream",
       "stream": "stdout",
       "text": [
        "\n",
        "CHI"
       ]
      },
      {
       "output_type": "stream",
       "stream": "stdout",
       "text": [
        "\n",
        "CLE"
       ]
      },
      {
       "output_type": "stream",
       "stream": "stdout",
       "text": [
        "\n",
        "DAL"
       ]
      },
      {
       "output_type": "stream",
       "stream": "stdout",
       "text": [
        "\n",
        "DEN"
       ]
      },
      {
       "output_type": "stream",
       "stream": "stdout",
       "text": [
        "\n",
        "DET"
       ]
      },
      {
       "output_type": "stream",
       "stream": "stdout",
       "text": [
        "\n",
        "GSW"
       ]
      },
      {
       "output_type": "stream",
       "stream": "stdout",
       "text": [
        "\n",
        "HOU"
       ]
      },
      {
       "output_type": "stream",
       "stream": "stdout",
       "text": [
        "\n",
        "IND"
       ]
      },
      {
       "output_type": "stream",
       "stream": "stdout",
       "text": [
        "\n",
        "LAC"
       ]
      },
      {
       "output_type": "stream",
       "stream": "stdout",
       "text": [
        "\n",
        "LAL"
       ]
      },
      {
       "output_type": "stream",
       "stream": "stdout",
       "text": [
        "\n",
        "MEM"
       ]
      },
      {
       "output_type": "stream",
       "stream": "stdout",
       "text": [
        "\n",
        "MIA"
       ]
      },
      {
       "output_type": "stream",
       "stream": "stdout",
       "text": [
        "\n",
        "MIL"
       ]
      },
      {
       "output_type": "stream",
       "stream": "stdout",
       "text": [
        "\n",
        "MIN"
       ]
      },
      {
       "output_type": "stream",
       "stream": "stdout",
       "text": [
        "\n",
        "NOP"
       ]
      },
      {
       "output_type": "stream",
       "stream": "stdout",
       "text": [
        "\n",
        "NYK"
       ]
      },
      {
       "output_type": "stream",
       "stream": "stdout",
       "text": [
        "\n",
        "OKC"
       ]
      },
      {
       "output_type": "stream",
       "stream": "stdout",
       "text": [
        "\n",
        "ORL"
       ]
      },
      {
       "output_type": "stream",
       "stream": "stdout",
       "text": [
        "\n",
        "PHI"
       ]
      },
      {
       "output_type": "stream",
       "stream": "stdout",
       "text": [
        "\n",
        "PHO"
       ]
      },
      {
       "output_type": "stream",
       "stream": "stdout",
       "text": [
        "\n",
        "POR"
       ]
      },
      {
       "output_type": "stream",
       "stream": "stdout",
       "text": [
        "\n",
        "SAC"
       ]
      },
      {
       "output_type": "stream",
       "stream": "stdout",
       "text": [
        "\n",
        "SAS"
       ]
      },
      {
       "output_type": "stream",
       "stream": "stdout",
       "text": [
        "\n",
        "TOR"
       ]
      },
      {
       "output_type": "stream",
       "stream": "stdout",
       "text": [
        "\n",
        "UTA"
       ]
      },
      {
       "output_type": "stream",
       "stream": "stdout",
       "text": [
        "\n",
        "WAS"
       ]
      },
      {
       "output_type": "stream",
       "stream": "stdout",
       "text": [
        "\n"
       ]
      }
     ],
     "prompt_number": 4
    },
    {
     "cell_type": "code",
     "collapsed": false,
     "input": [
      "# LOAD vegas lines and def/off ratings to memory from excel files\n",
      "vegas_lines = data_getters.read_from_file('vegas_lines', 'vegas_lines/' + str(latest_day+datetime.timedelta(days=1)) +'_lines.csv')\n",
      "#normally should be +datetime.timedelta(days=1) but isn't now due to testing\n",
      "\n",
      "def_ratings, off_ratings = data_getters.read_from_file('ratings', 'defoff_ratings/' + str(latest_day) + '.csv')"
     ],
     "language": "python",
     "metadata": {},
     "outputs": [],
     "prompt_number": 5
    },
    {
     "cell_type": "code",
     "collapsed": false,
     "input": [
      "##### LOADS BOXSCORE DATA TO MEMORY #####\n",
      "player_data, game_data = boxscores.load_jsons_to_memory('boxscores_advanced/2014', latest_day)\n",
      "players = [p.get_name() for p in player_data]\n",
      "\n",
      "# writes EMA model results\n",
      "ema_dk_projections = model.write_predictions(player_data, 'ema', vegas_lines=None, def_ratings=None, off_ratings=None,\n",
      "                        excel_fn='model_predictions/model_predictions_' + dk + '_' + str(latest_day) + '.csv', dfs_site=dk)\n",
      "ema_fd_projections = model.write_predictions(player_data, 'ema', vegas_lines=None, def_ratings=None, off_ratings=None,\n",
      "                        excel_fn='model_predictions/model_predictions_' + fd + '_' + str(latest_day) + '.csv', dfs_site=fd)\n",
      "\n",
      "# writes possession model results, commented out right now because vegas lines are wonky\n",
      "\n",
      "poss_dk_projections = model.write_predictions(player_data, 'possessions', vegas_lines, def_ratings, off_ratings,\n",
      "                        'model_predictions/pos_model_predictions_' + dk + '_' + str(latest_day) + '.csv', dk)"
     ],
     "language": "python",
     "metadata": {},
     "outputs": [],
     "prompt_number": 6
    },
    {
     "cell_type": "code",
     "collapsed": false,
     "input": [
      "##### RUN OPTIMIZER #####\n",
      "salary_day = (latest_day+datetime.timedelta(days=1)).strftime('%m%d%Y')\n",
      "fn = 'draftkings_data/DKSalaries_'+salary_day+'.csv'\n",
      "adjustments = {'Kevin Martin': 0.0, #injury - wrist (early jan)\n",
      "               'Terrence Jones': 0.0, #injury - leg\n",
      "               'Perry Jones': 0.0, #injury\n",
      "               'Gary Neal': 0.0, #QUESTIONABLE\n",
      "               'Marvin Williams': 0.0, #QUESTIONABLE\n",
      "               'Michael Kidd-Gilchrist': 0.0, #injury\n",
      "               'Joakim Noah': 0.0, #questionable - knee\n",
      "               'Taj Gibson': 0.0, #doubtful - ankle\n",
      "               'Derrick Rose': 0.0, #doubtful - hamstring\n",
      "               'Raymond Felton': 0.0, #QUESTIONABLE\n",
      "               'Jameer Nelson': 0.0, #QUESTIONABLE\n",
      "               'JaVale McGee': 0.0, #QUESTIONABLE\n",
      "               'Danilo Gallinari': 0.0, #QUESTIONABLE\n",
      "               'David Lee': 0.0, #injured - hamstring\n",
      "               'Dwight Howard': 0.0, # doubtful - knee\n",
      "               'Patrick Beverley': 0.0, #doubtful - hamstring\n",
      "               'George Hill': 0.0, #QUESTIONABLE\n",
      "               'C.J. Watson': 0.0, #QUESTIONABLE\n",
      "               'David West': 0.0, #QUESTIONABLE\n",
      "               'Roy Hibbert': 0.0, #QUESTIONABLE\n",
      "               'Matt Barnes': 0.0, #QUESTIONABLE\n",
      "               'Dwyane Wade': 0.0, #QUESTIONABLE\n",
      "               'Ricky Rubio': 0.0, #injured - ankle (early jan)\n",
      "               'Eric Gordon': 0.0, #out indefinitely\n",
      "               'Carmelo Anthony': 0.0, # doubtful - back\n",
      "               'Aaron Gordon': 0.0, #out indefinitely\n",
      "               'Isaiah Thomas': 0.0, #questionable, ankle\n",
      "               'Tiago Splitter': 0.0, #out indefinitely\n",
      "               #'Tyler Hansbrough': 0.0, #doubtful\n",
      "               #'Nene Hilario': 0.0, #QUESTIONABLE\n",
      "               #'Dirk Nowitzki': 0.0,\n",
      "               #'Ersan Ilyasova': 0.0,\n",
      "               #'Jamal Crawford': 0.0,\n",
      "               'Tony Wroten': 0.0,\n",
      "               'Gordon Hayward': 0.0\n",
      "               #'Kemba Walker':0.0,\n",
      "               #'James Ennis':0.0,\n",
      "               #'Ed Davis':0.0\n",
      "               #'Andrew Wiggins': 0.0, #nope\n",
      "               #'DeMarcus Cousins': 0\n",
      "              }\n",
      "num_lineups = 10\n",
      "\n",
      "##### gets results for pure DraftKings projections #####\n",
      "#results = optimizer.run_optimization(fn, None, adjustments, num_lineups)\n",
      "\n",
      "##### gets results for our EMA DraftKings projections #####\n",
      "#results = optimizer.run_optimization(fn, ema_dk_projections, adjustments, num_lineups)\n",
      "\n",
      "##### gets results for our possessiions model projections #####\n",
      "results = optimizer.run_optimization(fn, poss_dk_projections, adjustments, num_lineups)\n",
      "\n",
      "# get best teams of every night\n",
      "for r in results:\n",
      "    print r['value'], r['team']\n"
     ],
     "language": "python",
     "metadata": {},
     "outputs": [
      {
       "output_type": "stream",
       "stream": "stdout",
       "text": [
        "256.13376921 ['Ty Lawson', 'Kawhi Leonard', 'Marcin Gortat', 'Wilson Chandler', 'Jamal Crawford', 'Mo Williams', 'Boris Diaw', 'Danny Green']\n",
        "255.86266443 ['Ty Lawson', 'Kawhi Leonard', 'Marcin Gortat', 'Corey Brewer', 'Jamal Crawford', 'Mo Williams', 'Boris Diaw', 'Danny Green']\n",
        "255.84207715 ['Ty Lawson', 'Kawhi Leonard', 'Marcin Gortat', 'Jamal Crawford', 'Luol Deng', 'Mo Williams', 'Boris Diaw', 'Danny Green']\n",
        "254.91756448 ['Ty Lawson', 'Kawhi Leonard', 'Marcin Gortat', 'Wilson Chandler', 'Jamal Crawford', 'Mo Williams', 'Nene Hilario', 'Danny Green']\n",
        "254.85340979 ['Chris Bosh', 'Derrick Favors', 'Marcin Gortat', 'Wilson Chandler', 'Jamal Crawford', 'Luol Deng', 'Mo Williams', 'Danny Green']\n",
        "254.6881535 ['Ty Lawson', 'Tim Duncan', 'Marcin Gortat', 'Jamal Crawford', 'Luol Deng', 'Mo Williams', 'Danny Green', 'Shabazz Muhammad']\n",
        "254.6464597 ['Ty Lawson', 'Kawhi Leonard', 'Marcin Gortat', 'Corey Brewer', 'Jamal Crawford', 'Mo Williams', 'Nene Hilario', 'Danny Green']\n",
        "254.62587242 ['Ty Lawson', 'Kawhi Leonard', 'Marcin Gortat', 'Jamal Crawford', 'Luol Deng', 'Mo Williams', 'Nene Hilario', 'Danny Green']\n",
        "254.58230501 ['Chris Bosh', 'Derrick Favors', 'Marcin Gortat', 'Corey Brewer', 'Jamal Crawford', 'Luol Deng', 'Mo Williams', 'Danny Green']\n",
        "254.5790744 ['Blake Griffin', 'Ty Lawson', 'Marcin Gortat', 'Jamal Crawford', 'Luol Deng', 'Mo Williams', 'Danny Green', 'Matt Bonner']\n"
       ]
      }
     ],
     "prompt_number": 7
    },
    {
     "cell_type": "code",
     "collapsed": false,
     "input": [
      "# EXAMPLE USAGE\n",
      "lookup = 'Jimmy Butler'\n",
      "p = player_data[players.index(lookup)]\n",
      "p_info = p.get_info()\n",
      "p_adv_info = p.get_adv_info()\n",
      "\n",
      "#for key in p_info:\n",
      "#    print key + \": \" + str(p_info[key])\n",
      "\n",
      "#for key in p_adv_info:\n",
      "#    print key + \": \" + str(p_adv_info[key])\n",
      "    \n",
      "print \"\\npredictions\"\n",
      "\n",
      "for s in ['PTS', 'FG3M', 'REB', 'AST', 'STL', 'BLK', 'TO']:\n",
      "    print s + \": \" + str(p.predict(s))\n",
      "\n",
      "print \"expected FP (DK): \" + str(p.calculate_fp(game_number=-1, site=\"DraftKings\"))\n",
      "\n",
      "p.possessions_model(101.)"
     ],
     "language": "python",
     "metadata": {},
     "outputs": [
      {
       "output_type": "stream",
       "stream": "stdout",
       "text": [
        "\n",
        "predictions\n",
        "PTS: 24.1321346872\n",
        "FG3M: 0.552618717703\n",
        "REB: 4.82032641748\n",
        "AST: 2.773281612\n",
        "STL: 1.42508401554\n",
        "BLK: 0.06369978568\n",
        "TO: 1.59949994342\n",
        "expected FP (DK): 41.0\n"
       ]
      },
      {
       "metadata": {},
       "output_type": "pyout",
       "prompt_number": 17,
       "text": [
        "{'predicted_fp': 39.371707231766258, 'predicted_sd': 8.5208264596810359}"
       ]
      }
     ],
     "prompt_number": 17
    },
    {
     "cell_type": "code",
     "collapsed": false,
     "input": [
      "# CALCULATES FP FOR A GIVEN TEAM\n",
      "\n",
      "def print_summary(team, game_number, site='DraftKings'):\n",
      "    score = []\n",
      "    var = []\n",
      "    for t in team:\n",
      "        p = player_data[players.index(t)]\n",
      "        score.append(p.calculate_fp(game_number, site))\n",
      "        var.append(p.calculate_fp_variance(scaled=False))\n",
      "        print t + \": \" + \"%.2f\" % score[-1] + \"\\t\\tStd: \" + \"%.2f\" % np.sqrt(var[-1]) + \"\\t ScaledStd: \" + \"%.2f\" % (np.sqrt(var[-1])/score[-1])\n",
      "    \n",
      "    print \"Total: \" + str(sum([x for x in score if x != None]))\n",
      "    print \"Std of lineup: \" + str(np.sqrt(sum(var)))\n",
      "\n",
      "team = ['LaMarcus Aldridge','Marc Gasol','Kyle Lowry','Rudy Gay','Mo Williams','Courtney Lee','Patrick Patterson','Shawne Williams']\n",
      "\n",
      "#team = ['Kyle Lowry', 'Tobias Harris', 'Markieff Morris', 'Chris Bosh', 'Mo Williams', 'Ed Davis', 'Shawne Williams', 'Jimmy Butler']\n",
      "#team = ['Kyle Lowry', 'Courtney Lee', 'Tobias Harris', 'Markieff Morris', 'Marc Gasol', 'Mo Williams', 'Corey Brewer', 'Chris Kaman']\n",
      "print_summary(team, game_number=-1, site='DraftKings')\n",
      "print"
     ],
     "language": "python",
     "metadata": {},
     "outputs": [
      {
       "output_type": "stream",
       "stream": "stdout",
       "text": [
        "LaMarcus Aldridge: 48.75\t\tStd: 7.46\t ScaledStd: 0.15\n",
        "Marc Gasol: 36.50\t\tStd: 8.37\t ScaledStd: 0.23\n",
        "Kyle Lowry: 55.50\t\tStd: 9.12\t ScaledStd: 0.16\n",
        "Rudy Gay: 29.50\t\tStd: 9.69\t ScaledStd: 0.33\n",
        "Mo Williams: 47.75\t\tStd: 12.83\t ScaledStd: 0.27\n",
        "Courtney Lee: 15.25\t\tStd: 6.37\t ScaledStd: 0.42\n",
        "Patrick Patterson: 34.25\t\tStd: 7.95\t ScaledStd: 0.23\n",
        "Shawne Williams: 12.25\t\tStd: 6.98\t ScaledStd: 0.57\n",
        "Total: 279.75\n",
        "Std of lineup: 24.8961815823\n",
        "\n"
       ]
      }
     ],
     "prompt_number": 33
    },
    {
     "cell_type": "code",
     "collapsed": false,
     "input": [],
     "language": "python",
     "metadata": {},
     "outputs": []
    },
    {
     "cell_type": "code",
     "collapsed": false,
     "input": [],
     "language": "python",
     "metadata": {},
     "outputs": []
    },
    {
     "cell_type": "code",
     "collapsed": false,
     "input": [
      "import data_getters, model, boxscores, optimizer\n",
      "date = datetime.date(2014,11,2)\n",
      "player_data, game_data = boxscores.load_jsons_to_memory('boxscores_advanced/2014', date)\n",
      "players = [p.get_name() for p in player_data]\n",
      "\n",
      "relevant_games =[g for g in game_data if g.home_info['TEAM_ABBREVIATION'] == \"MIN\" or g.away_info['TEAM_ABBREVIATION'] == \"MIN\"]\n",
      "game_dates = [g.home_info['GAME_DATE_EST'] for g in relevant_games]\n",
      "game_date_objs = []\n",
      "for game_date in game_dates:\n",
      "    print game_date\n",
      "    date_attrs = game_date.split(\"T\")[0].split('-')\n",
      "    game_date_objs.append(datetime.date(int(date_attrs[0]), int(date_attrs[1]), int(date_attrs[2])))\n",
      "\n",
      "game_id = relevant_games[game_date_objs.index(date)].home_info['GAME_ID']\n",
      "\n",
      "print game_id"
     ],
     "language": "python",
     "metadata": {},
     "outputs": [
      {
       "output_type": "stream",
       "stream": "stdout",
       "text": [
        "2014-10-29T00:00:00\n",
        "2014-10-30T00:00:00\n",
        "2014-11-01T00:00:00\n"
       ]
      },
      {
       "ename": "ValueError",
       "evalue": "datetime.date(2014, 11, 2) is not in list",
       "output_type": "pyerr",
       "traceback": [
        "\u001b[0;31m---------------------------------------------------------------------------\u001b[0m\n\u001b[0;31mValueError\u001b[0m                                Traceback (most recent call last)",
        "\u001b[0;32m<ipython-input-83-67b7241f22eb>\u001b[0m in \u001b[0;36m<module>\u001b[0;34m()\u001b[0m\n\u001b[1;32m     12\u001b[0m     \u001b[0mgame_date_objs\u001b[0m\u001b[0;34m.\u001b[0m\u001b[0mappend\u001b[0m\u001b[0;34m(\u001b[0m\u001b[0mdatetime\u001b[0m\u001b[0;34m.\u001b[0m\u001b[0mdate\u001b[0m\u001b[0;34m(\u001b[0m\u001b[0mint\u001b[0m\u001b[0;34m(\u001b[0m\u001b[0mdate_attrs\u001b[0m\u001b[0;34m[\u001b[0m\u001b[0;36m0\u001b[0m\u001b[0;34m]\u001b[0m\u001b[0;34m)\u001b[0m\u001b[0;34m,\u001b[0m \u001b[0mint\u001b[0m\u001b[0;34m(\u001b[0m\u001b[0mdate_attrs\u001b[0m\u001b[0;34m[\u001b[0m\u001b[0;36m1\u001b[0m\u001b[0;34m]\u001b[0m\u001b[0;34m)\u001b[0m\u001b[0;34m,\u001b[0m \u001b[0mint\u001b[0m\u001b[0;34m(\u001b[0m\u001b[0mdate_attrs\u001b[0m\u001b[0;34m[\u001b[0m\u001b[0;36m2\u001b[0m\u001b[0;34m]\u001b[0m\u001b[0;34m)\u001b[0m\u001b[0;34m)\u001b[0m\u001b[0;34m)\u001b[0m\u001b[0;34m\u001b[0m\u001b[0m\n\u001b[1;32m     13\u001b[0m \u001b[0;34m\u001b[0m\u001b[0m\n\u001b[0;32m---> 14\u001b[0;31m \u001b[0mgame_id\u001b[0m \u001b[0;34m=\u001b[0m \u001b[0mrelevant_games\u001b[0m\u001b[0;34m[\u001b[0m\u001b[0mgame_date_objs\u001b[0m\u001b[0;34m.\u001b[0m\u001b[0mindex\u001b[0m\u001b[0;34m(\u001b[0m\u001b[0mdate\u001b[0m\u001b[0;34m)\u001b[0m\u001b[0;34m]\u001b[0m\u001b[0;34m.\u001b[0m\u001b[0mhome_info\u001b[0m\u001b[0;34m[\u001b[0m\u001b[0;34m'GAME_ID'\u001b[0m\u001b[0;34m]\u001b[0m\u001b[0;34m\u001b[0m\u001b[0m\n\u001b[0m\u001b[1;32m     15\u001b[0m \u001b[0;34m\u001b[0m\u001b[0m\n\u001b[1;32m     16\u001b[0m \u001b[0;32mprint\u001b[0m \u001b[0mgame_id\u001b[0m\u001b[0;34m\u001b[0m\u001b[0m\n",
        "\u001b[0;31mValueError\u001b[0m: datetime.date(2014, 11, 2) is not in list"
       ]
      }
     ],
     "prompt_number": 83
    },
    {
     "cell_type": "code",
     "collapsed": false,
     "input": [
      "# BACKTESTER\n",
      "# Backtester basically first uses all days except the desired day to make projections, then calculates the actual fpts\n",
      "# performance of all players on the desired day. The optimizer then runs with the projections, and then the fpts of the teams \n",
      "# it spits out is returned. The backtester supports multiple lineups on each day. \n",
      "\n",
      "import os\n",
      "import datetime\n",
      "import data_getters, model, boxscores, optimizer\n",
      "\n",
      "date = datetime.date(2014,11,1)\n",
      "end_date = datetime.date(2014,11,30)\n",
      "dk = 'DraftKings'\n",
      "num_lineups = 10\n",
      "\n",
      "# backtest through date range\n",
      "while date < end_date:\n",
      "    # load data up to the date\n",
      "    player_data, game_data = boxscores.load_jsons_to_memory('boxscores_advanced/2014', date-datetime.timedelta(days=1))\n",
      "    players = [p.get_name() for p in player_data]\n",
      "\n",
      "    # get predictions given data up to the day before the desired date\n",
      "    ema_dk_projections = model.write_predictions(player_data, 'ema', vegas_lines=None, def_ratings=None, off_ratings=None,excel_fn='model_predictions/model_predictions_' + dk + '_' + str(date) + '.csv', dfs_site=dk)\n",
      "\n",
      "    adjustments = {} # fades/injuries\n",
      "    players_fpts = {} # player performance of desired day\n",
      "    \n",
      "    # load the boxscore up to desired date\n",
      "    player_data, game_data = boxscores.load_jsons_to_memory('boxscores_advanced/2014', date)\n",
      "    #print \"length\", len(player_data[0].info['GAME_ID'])\n",
      "    players = [p.get_name() for p in player_data]\n",
      "    \n",
      "    # go through players, get the game_id that the player is in on the given date, and\n",
      "    # put player's fantasy performance into players_fpts\n",
      "    for player_name in players:\n",
      "        player = player_data[players.index(player_name)]\n",
      "        relevant_games =[g for g in game_data if g.home_info['TEAM_ABBREVIATION'] == player.info['TEAM_ABBREVIATION'][0] or g.away_info['TEAM_ABBREVIATION'] == player.info['TEAM_ABBREVIATION'][0]]\n",
      "        game_dates = [g.home_info['GAME_DATE_EST'] for g in relevant_games]\n",
      "        game_date_objs = []\n",
      "        for game_date in game_dates:\n",
      "            date_attrs = game_date.split(\"T\")[0].split('-')\n",
      "            game_date_objs.append(datetime.date(int(date_attrs[0]), int(date_attrs[1]), int(date_attrs[2])))\n",
      "        try:\n",
      "            game_id = relevant_games[game_date_objs.index(date)].home_info['GAME_ID']\n",
      "            index = player.info['GAME_ID'].index(game_id) \n",
      "            players_fpts[player_name] = player.calculate_fp(game_number=index)\n",
      "            if players_fpts[player_name] == None: # can't compute player fp due to injury, coach's decision to not play, etc. \n",
      "                adjustments[player_name] = 0.0\n",
      "        except Exception as e: # player didn't play on the date or doesn't have the game_id (both cases do occur, i've checked)\n",
      "            adjustments[player_name] = 0.0 \n",
      "            \n",
      "    try:\n",
      "        fn = 'DKSalaries_' + date.strftime('%m%d%Y') + '.csv' \n",
      "        print fn\n",
      "        \n",
      "        # weird bug where player might not be in our players dict. if this happens, toss player and rerun optimizer\n",
      "        # TODO: investigate bug more -- what's really going on? \n",
      "        finished = False\n",
      "        \n",
      "        \n",
      "        adjustments_disc = {'Kevin Martin': 0.0, #injury - wrist (early jan)\n",
      "               'Terrence Jones': 0.0, #injury - leg\n",
      "               'Perry Jones': 0.0, #injury\n",
      "               'Gary Neal': 0.0, #QUESTIONABLE\n",
      "               'Marvin Williams': 0.0, #QUESTIONABLE\n",
      "               'Michael Kidd-Gilchrist': 0.0, #injury\n",
      "               'Joakim Noah': 0.0, #questionable - knee\n",
      "               'Taj Gibson': 0.0, #doubtful - ankle\n",
      "               'Derrick Rose': 0.0, #doubtful - hamstring\n",
      "               'Raymond Felton': 0.0, #QUESTIONABLE\n",
      "               'Jameer Nelson': 0.0, #QUESTIONABLE\n",
      "               'JaVale McGee': 0.0, #QUESTIONABLE\n",
      "               'Danilo Gallinari': 0.0, #QUESTIONABLE\n",
      "               'Brandon Jennings': 0.0, #QUESTIONABLE\n",
      "               'David Lee': 0.0, #injured - hamstring\n",
      "               'Dwight Howard': 0.0, # doubtful - knee\n",
      "               'Patrick Beverley': 0.0, #doubtful - hamstring\n",
      "               'George Hill': 0.0, #QUESTIONABLE\n",
      "               'C.J. Watson': 0.0, #QUESTIONABLE\n",
      "               'David West': 0.0, #QUESTIONABLE\n",
      "               'Roy Hibbert': 0.0, #QUESTIONABLE\n",
      "               'Matt Barnes': 0.0, #QUESTIONABLE\n",
      "               'Dwyane Wade': 0.0, #QUESTIONABLE\n",
      "               'Ricky Rubio': 0.0, #injured - ankle (early jan)\n",
      "               'Eric Gordon': 0.0, #out indefinitely\n",
      "               'Carmelo Anthony': 0.0, # doubtful - back\n",
      "               'Aaron Gordon': 0.0, #out indefinitely\n",
      "               'Isaiah Thomas': 0.0, #questionable, ankle\n",
      "               'Darren Collison': 0.0, # questionable, quad\n",
      "               'Rudy Gay': 0.0, #questionable, achilles\n",
      "               'Tiago Splitter': 0.0, #out indefinitely\n",
      "               'Tyler Hansbrough': 0.0, #doubtful\n",
      "               'Nene Hilario': 0.0, #QUESTIONABLE\n",
      "               'Dirk Nowitzki': 0.0,\n",
      "               'Ersan Ilyasova': 0.0,\n",
      "               'Jamal Crawford': 0.0,\n",
      "               'Tony Wroten': 0.0,\n",
      "               'Kemba Walker':0.0\n",
      "               #'Andrew Wiggins': 0.0, #nope\n",
      "              }\n",
      "        for key in adjustments_disc.keys():\n",
      "            adjustments[key] = 0.0\n",
      "        \n",
      "        while (finished == False):\n",
      "            finished = True\n",
      "            results = optimizer.run_optimization(os.path.join('draftkings_data', fn), ema_dk_projections, adjustments, num_lineups)\n",
      "            for i in range(num_lineups): #make sure all lineups are valid\n",
      "                for player_name in results[i]['team']:\n",
      "                    if player_name not in players_fpts.keys():\n",
      "                        adjustments[player_name] = 0.0\n",
      "                        finished = False\n",
      "        for i in range(num_lineups):\n",
      "            team_fpts = 0.0\n",
      "            for player_name in results[i]['team']:\n",
      "                team_fpts += players_fpts[player_name] \n",
      "            print results[i]['team'] , team_fpts, str(date)\n",
      "    except IOError, e:\n",
      "        print 'no cost data for date ' + str(date)\n",
      "        #print 'no cost data for date ' + str(date) \n",
      "    \n",
      "    print \"\\n\"\n",
      "    date += datetime.timedelta(days=1)\n",
      "            "
     ],
     "language": "python",
     "metadata": {},
     "outputs": [
      {
       "output_type": "stream",
       "stream": "stdout",
       "text": [
        "DKSalaries_11012014.csv\n",
        "['Anthony Davis', 'Chris Bosh', 'Brandon Knight', 'Omer Asik', 'D.J. Augustin', 'O.J. Mayo', 'Mike Scott', 'Mike Dunleavy']"
       ]
      },
      {
       "output_type": "stream",
       "stream": "stdout",
       "text": [
        " 228.5 2014-11-01\n",
        "['Anthony Davis', 'Chris Bosh', 'Kenneth Faried', 'Omer Asik', 'D.J. Augustin', 'O.J. Mayo', 'Kirk Hinrich', 'Mike Dunleavy'] 211.0 2014-11-01\n",
        "['Anthony Davis', 'Chris Bosh', 'Brandon Knight', 'Omer Asik', 'Norris Cole', 'O.J. Mayo', 'Mike Scott', 'Mike Dunleavy'] 240.5 2014-11-01\n",
        "['Anthony Davis', 'Chris Bosh', 'Kenneth Faried', 'Omer Asik', 'Norris Cole', 'O.J. Mayo', 'Kirk Hinrich', 'Mike Dunleavy'] 223.0 2014-11-01\n",
        "['Anthony Davis', 'Chris Bosh', 'Brandon Knight', 'Omer Asik', 'Mirza Teletovic', 'O.J. Mayo', 'Kirk Hinrich', 'Mike Dunleavy'] 246.75 2014-11-01\n",
        "['Anthony Davis', 'Chris Bosh', 'Kenneth Faried', 'Omer Asik', 'D.J. Augustin', 'O.J. Mayo', 'Mike Dunleavy', 'Mo Williams'] 201.75 2014-11-01\n",
        "['Anthony Davis', 'Chris Bosh', 'Kenneth Faried', 'Omer Asik', 'Norris Cole', 'O.J. Mayo', 'Mike Dunleavy', 'Mo Williams'] 213.75 2014-11-01\n",
        "['Anthony Davis', 'Chris Bosh', 'Brandon Knight', 'Omer Asik', 'Mirza Teletovic', 'O.J. Mayo', 'Mike Dunleavy', 'Mo Williams'] 237.5 2014-11-01\n",
        "['Anthony Davis', 'Chris Bosh', 'DeMar DeRozan', 'Omer Asik', 'Mirza Teletovic', 'O.J. Mayo', 'Kirk Hinrich', 'Mike Dunleavy'] 245.0 2014-11-01\n",
        "['Anthony Davis', 'Kenneth Faried', 'Brandon Knight', 'Omer Asik', 'D.J. Augustin', 'Mirza Teletovic', 'O.J. Mayo', 'Mike Dunleavy'] 207.5 2014-11-01\n",
        "\n",
        "\n",
        "DKSalaries_11022014.csv"
       ]
      },
      {
       "output_type": "stream",
       "stream": "stdout",
       "text": [
        "\n",
        "['Stephen Curry', 'Blake Griffin', 'Chris Bosh', 'Klay Thompson', 'Chris Kaman', 'Shawne Williams', 'Quincy Acy', 'Shane Larkin']"
       ]
      },
      {
       "output_type": "stream",
       "stream": "stdout",
       "text": [
        " 227.5 2014-11-02\n",
        "['Stephen Curry', 'Chris Bosh', 'DeMar DeRozan', 'Klay Thompson', 'Harrison Barnes', 'Chris Kaman', 'Shawne Williams', 'Quincy Acy'] 223.75 2014-11-02\n",
        "['Stephen Curry', 'Blake Griffin', 'Chris Bosh', 'Klay Thompson', 'Chris Kaman', 'Shawne Williams', 'Quincy Acy', 'Steve Blake'] 222.0 2014-11-02\n",
        "['Stephen Curry', 'Chris Bosh', 'DeMar DeRozan', 'Klay Thompson', 'Harrison Barnes', 'Shawne Williams', 'Quincy Acy', 'Shane Larkin'] 235.5 2014-11-02\n",
        "['Stephen Curry', 'Chris Bosh', 'DeMar DeRozan', 'Klay Thompson', 'Terrence Ross', 'Chris Kaman', 'Shawne Williams', 'Quincy Acy'] 222.5 2014-11-02\n",
        "['Stephen Curry', 'Blake Griffin', 'Chris Bosh', 'Klay Thompson', 'Iman Shumpert', 'Shawne Williams', 'Quincy Acy', 'Shane Larkin'] 240.25 2014-11-02\n",
        "['Stephen Curry', 'Chris Bosh', 'DeMar DeRozan', 'Klay Thompson', 'Terrence Ross', 'Shawne Williams', 'Quincy Acy', 'Shane Larkin'] 234.25 2014-11-02\n",
        "['Stephen Curry', 'Chris Bosh', 'DeMar DeRozan', 'Klay Thompson', 'Patrick Patterson', 'Harrison Barnes', 'Chris Kaman', 'Shawne Williams'] 218.5 2014-11-02\n",
        "['Stephen Curry', 'Chris Bosh', 'DeMar DeRozan', 'Klay Thompson', 'Andre Iguodala', 'Chris Kaman', 'Shawne Williams', 'Quincy Acy'] 234.75 2014-11-02\n",
        "['Stephen Curry', 'Chris Bosh', 'LaMarcus Aldridge', 'Klay Thompson', 'Harrison Barnes', 'Chris Kaman', 'Shawne Williams', 'Shane Larkin'] 243.0 2014-11-02\n",
        "\n",
        "\n",
        "DKSalaries_11032014.csv"
       ]
      },
      {
       "output_type": "stream",
       "stream": "stdout",
       "text": [
        "\n",
        "['Anthony Davis', 'Tyreke Evans', 'Jrue Holiday', 'Joe Johnson', 'Omer Asik', 'Evan Turner', 'Trevor Booker', 'Kostas Papanikolaou']"
       ]
      },
      {
       "output_type": "stream",
       "stream": "stdout",
       "text": [
        " 181.5 2014-11-03\n",
        "['Anthony Davis', 'Tyreke Evans', 'Joe Johnson', 'Omer Asik', 'Kevin Garnett', 'Devin Harris', 'Evan Turner', 'Kostas Papanikolaou'] 180.5 2014-11-03\n",
        "['Anthony Davis', 'Tyreke Evans', 'Joe Johnson', 'Omer Asik', 'Kevin Garnett', 'Mirza Teletovic', 'Evan Turner', 'Alexey Shved'] 179.25 2014-11-03\n",
        "['Anthony Davis', 'Tyreke Evans', 'Joe Johnson', 'Omer Asik', 'Kevin Garnett', 'Devin Harris', 'Evan Turner', 'Kendrick Perkins'] 174.25 2014-11-03\n",
        "['Anthony Davis', 'Tyreke Evans', 'Joe Johnson', 'Omer Asik', 'Mirza Teletovic', 'Devin Harris', 'Evan Turner', 'Trevor Booker'] 194.75 2014-11-03\n",
        "['Anthony Davis', 'Tyreke Evans', 'Jrue Holiday', 'Joe Johnson', 'Omer Asik', 'Evan Turner', 'Trevor Booker', 'Malcolm Thomas'] 175.5 2014-11-03\n",
        "['Anthony Davis', 'Tyreke Evans', 'Joe Johnson', 'Kevin Garnett', 'Kelly Olynyk', 'Mirza Teletovic', 'Devin Harris', 'Evan Turner'] 185.5 2014-11-03\n",
        "['Anthony Davis', 'DeMarcus Cousins', 'Tyreke Evans', 'Joe Johnson', 'Devin Harris', 'Trevor Booker', 'Malcolm Thomas', 'Kostas Papanikolaou'] 193.25 2014-11-03\n",
        "['Anthony Davis', 'Tyreke Evans', 'Joe Johnson', 'Omer Asik', 'Kevin Garnett', 'Kelly Olynyk', 'Evan Turner', 'Alexey Shved'] 174.0 2014-11-03\n",
        "['Anthony Davis', 'Tyreke Evans', 'Joe Johnson', 'Omer Asik', 'Kevin Garnett', 'Devin Harris', 'Evan Turner', 'Alexey Shved'] 186.0 2014-11-03\n",
        "\n",
        "\n",
        "DKSalaries_11042014.csv"
       ]
      },
      {
       "output_type": "stream",
       "stream": "stdout",
       "text": [
        "\n",
        "['John Wall', 'Nikola Vucevic', 'Tyreke Evans', 'Trevor Ariza', 'Reggie Jackson', 'Jimmy Butler', 'Chris Copeland', 'Shawne Williams']"
       ]
      },
      {
       "output_type": "stream",
       "stream": "stdout",
       "text": [
        " 272.5 2014-11-04\n",
        "['John Wall', 'Chris Bosh', 'Tyreke Evans', 'Reggie Jackson', 'Jordan Hill', 'Jimmy Butler', 'Chris Copeland', 'Shawne Williams'] 273.75 2014-11-04\n",
        "['John Wall', 'Chris Bosh', 'Brandon Knight', 'Tyreke Evans', 'Jimmy Butler', 'Chris Copeland', 'Otto Porter', 'Shawne Williams'] 246.5 2014-11-04\n",
        "['John Wall', 'Nikola Vucevic', 'Brandon Knight', 'Trevor Ariza', 'Jordan Hill', 'Jimmy Butler', 'Chris Copeland', 'Shawne Williams'] 280.5 2014-11-04\n",
        "['John Wall', 'Chris Bosh', 'Marcin Gortat', 'Trevor Ariza', 'Reggie Jackson', 'Jimmy Butler', 'Chris Copeland', 'Shawne Williams'] 248.0 2014-11-04\n",
        "['Chris Bosh', 'Nikola Vucevic', 'Brandon Knight', 'Trevor Ariza', 'Reggie Jackson', 'Jimmy Butler', 'Chris Copeland', 'Shawne Williams'] 285.0 2014-11-04\n",
        "['John Wall', 'Brandon Knight', 'Tyreke Evans', 'Marcin Gortat', 'Trevor Ariza', 'Jimmy Butler', 'Chris Copeland', 'Shawne Williams'] 247.25 2014-11-04\n",
        "['John Wall', 'Chris Bosh', 'Nikola Vucevic', 'Reggie Jackson', 'Jimmy Butler', 'Chris Copeland', 'Mike Dunleavy', 'Shawne Williams'] 242.5 2014-11-04\n",
        "['John Wall', 'Nikola Vucevic', 'Brandon Knight', 'Tyreke Evans', 'Jimmy Butler', 'Chris Copeland', 'Mike Dunleavy', 'Shawne Williams'] 241.75 2014-11-04\n",
        "['Chris Bosh', 'Nikola Vucevic', 'DeMar DeRozan', 'Trevor Ariza', 'Reggie Jackson', 'Jimmy Butler', 'Chris Copeland', 'Shawne Williams'] 271.0 2014-11-04\n",
        "\n",
        "\n",
        "DKSalaries_11052014.csv"
       ]
      },
      {
       "output_type": "stream",
       "stream": "stdout",
       "text": [
        "\n",
        "no cost data for date 2014-11-05\n",
        "\n",
        "\n",
        "DKSalaries_11062014.csv"
       ]
      },
      {
       "output_type": "stream",
       "stream": "stdout",
       "text": [
        "\n",
        "['James Harden', 'Trevor Ariza', 'Chandler Parsons', 'Robin Lopez', 'Tyson Chandler', 'Devin Harris', 'Boris Diaw', 'Isaiah Canaan']"
       ]
      },
      {
       "output_type": "stream",
       "stream": "stdout",
       "text": [
        " 172.25 2014-11-06\n",
        "['James Harden', 'Chandler Parsons', 'Wesley Matthews', 'Robin Lopez', 'Tyson Chandler', 'Devin Harris', 'Boris Diaw', 'Brandan Wright'] 164.25 2014-11-06\n",
        "['James Harden', 'Damian Lillard', 'Chandler Parsons', 'Robin Lopez', 'Devin Harris', 'Boris Diaw', 'Brandan Wright', 'Danny Green'] 180.0 2014-11-06\n",
        "['James Harden', 'Damian Lillard', 'Trevor Ariza', 'Robin Lopez', 'Devin Harris', 'Boris Diaw', 'Brandan Wright', 'Chris Kaman'] 183.0 2014-11-06\n",
        "['James Harden', 'Trevor Ariza', 'Chandler Parsons', 'Robin Lopez', 'Devin Harris', 'Boris Diaw', 'Brandan Wright', 'Danny Green'] 166.0 2014-11-06\n",
        "['James Harden', 'Trevor Ariza', 'Chandler Parsons', 'Robin Lopez', 'Tyson Chandler', 'Devin Harris', 'Boris Diaw', 'Cory Joseph'] 171.0 2014-11-06\n",
        "['James Harden', 'Trevor Ariza', 'Chandler Parsons', 'Wesley Matthews', 'Robin Lopez', 'Boris Diaw', 'Brandan Wright', 'Isaiah Canaan'] 166.25 2014-11-06\n",
        "['James Harden', 'Damian Lillard', 'Trevor Ariza', 'Robin Lopez', 'Devin Harris', 'Boris Diaw', 'Kostas Papanikolaou', 'Chris Kaman'] 180.25 2014-11-06\n",
        "['James Harden', 'Trevor Ariza', 'Chandler Parsons', 'Wesley Matthews', 'Tyson Chandler', 'Devin Harris', 'Brandan Wright', 'Isaiah Canaan'] 162.75 2014-11-06\n",
        "['James Harden', 'Damian Lillard', 'Trevor Ariza', 'Chandler Parsons', 'Robin Lopez', 'Brandan Wright', 'Chris Kaman', 'Isaiah Canaan'] 183.5 2014-11-06\n",
        "\n",
        "\n",
        "DKSalaries_11072014.csv"
       ]
      },
      {
       "output_type": "stream",
       "stream": "stdout",
       "text": [
        "\n",
        "['DeMarcus Cousins', 'Brandon Knight', 'Jeff Green', 'Greg Monroe', 'Jimmy Butler', 'Chris Copeland', 'Elfrid Payton', 'Garrett Temple']"
       ]
      },
      {
       "output_type": "stream",
       "stream": "stdout",
       "text": [
        " 252.5 2014-11-07\n",
        "['Rajon Rondo', 'Marc Gasol', 'Jeff Green', 'Greg Monroe', 'Donald Sloan', 'Jimmy Butler', 'Chris Copeland', 'Garrett Temple'] 215.25 2014-11-07\n",
        "['Marc Gasol', 'Pau Gasol', 'Brandon Knight', 'Jeff Green', 'Greg Monroe', 'Jimmy Butler', 'Sebastian Telfair', 'Garrett Temple'] 223.25 2014-11-07\n",
        "['Marc Gasol', 'Pau Gasol', 'Brandon Knight', 'Jeff Green', 'Greg Monroe', 'Jimmy Butler', 'Sebastian Telfair', 'Courtney Lee'] 234.5 2014-11-07\n",
        "['DeMarcus Cousins', 'Pau Gasol', 'Jeff Green', 'Greg Monroe', 'Donald Sloan', 'Jimmy Butler', 'Sebastian Telfair', 'Garrett Temple'] 239.75 2014-11-07\n",
        "['Nikola Vucevic', 'Pau Gasol', 'Brandon Knight', 'Jeff Green', 'Greg Monroe', 'Jimmy Butler', 'Sebastian Telfair', 'Garrett Temple'] 227.75 2014-11-07\n",
        "['Marc Gasol', 'Gordon Hayward', 'Brandon Knight', 'Greg Monroe', 'Donald Sloan', 'Jimmy Butler', 'Chris Copeland', 'Garrett Temple'] 226.75 2014-11-07\n",
        "['Marc Gasol', 'Gordon Hayward', 'Brandon Knight', 'Greg Monroe', 'Donald Sloan', 'Jimmy Butler', 'Chris Copeland', 'Courtney Lee'] 238.0 2014-11-07\n",
        "['Marc Gasol', 'Brandon Knight', 'Jeff Green', 'Greg Monroe', 'Donald Sloan', 'Jimmy Butler', 'Chris Copeland', 'Garrett Temple'] 224.75 2014-11-07\n",
        "['Marc Gasol', 'Brandon Knight', 'Jeff Green', 'Greg Monroe', 'Donald Sloan', 'Jimmy Butler', 'Chris Copeland', 'Courtney Lee'] 236.0 2014-11-07\n",
        "\n",
        "\n",
        "DKSalaries_11082014.csv"
       ]
      },
      {
       "output_type": "stream",
       "stream": "stdout",
       "text": [
        "\n",
        "no cost data for date 2014-11-08\n",
        "\n",
        "\n",
        "DKSalaries_11092014.csv"
       ]
      },
      {
       "output_type": "stream",
       "stream": "stdout",
       "text": [
        "\n",
        "no cost data for date 2014-11-09\n",
        "\n",
        "\n",
        "DKSalaries_11102014.csv"
       ]
      },
      {
       "output_type": "stream",
       "stream": "stdout",
       "text": [
        "\n",
        "no cost data for date 2014-11-10\n",
        "\n",
        "\n",
        "DKSalaries_11112014.csv"
       ]
      },
      {
       "output_type": "stream",
       "stream": "stdout",
       "text": [
        "\n",
        "['Stephen Curry', 'Zach Randolph', 'Reggie Jackson', 'Draymond Green', 'Tyson Chandler', 'Kawhi Leonard', 'Courtney Lee', 'Jeremy Lamb']"
       ]
      },
      {
       "output_type": "stream",
       "stream": "stdout",
       "text": [
        " 236.5 2014-11-11\n",
        "['Stephen Curry', 'Jordan Hill', 'Reggie Jackson', 'Draymond Green', 'Tyson Chandler', 'Kawhi Leonard', 'Courtney Lee', 'Jeremy Lamb'] 256.0 2014-11-11\n",
        "['Stephen Curry', 'Zach Randolph', 'Reggie Jackson', 'Draymond Green', 'Robin Lopez', 'Kawhi Leonard', 'Courtney Lee', 'Jeremy Lamb'] 211.25 2014-11-11\n",
        "['Stephen Curry', 'Zach Randolph', 'Reggie Jackson', 'Draymond Green', 'Kawhi Leonard', 'Andrew Bogut', 'Courtney Lee', 'Jeremy Lamb'] 221.5 2014-11-11\n",
        "['Stephen Curry', 'Tim Duncan', 'Reggie Jackson', 'Draymond Green', 'Kawhi Leonard', 'Larry Sanders', 'Courtney Lee', 'Jeremy Lamb'] 227.5 2014-11-11\n",
        "['Stephen Curry', 'Zach Randolph', 'Jordan Hill', 'Draymond Green', 'Tyson Chandler', 'Kawhi Leonard', 'Courtney Lee', 'Jeremy Lamb'] 235.0 2014-11-11\n",
        "['Stephen Curry', 'Al Jefferson', 'Tim Duncan', 'Draymond Green', 'Kawhi Leonard', 'Courtney Lee', 'Jeremy Lamb', 'Sebastian Telfair'] 198.25 2014-11-11\n",
        "['Stephen Curry', 'Tim Duncan', 'Reggie Jackson', 'Draymond Green', 'Tyson Chandler', 'Kawhi Leonard', 'Jeremy Lamb', 'Chris Kaman'] 254.5 2014-11-11\n",
        "['Stephen Curry', 'Al Jefferson', 'Tim Duncan', 'Draymond Green', 'Kawhi Leonard', 'Courtney Lee', 'Jeremy Lamb', 'Chris Kaman'] 222.0 2014-11-11\n",
        "['Stephen Curry', 'Nikola Vucevic', 'Tim Duncan', 'Draymond Green', 'Kawhi Leonard', 'Courtney Lee', 'Jeremy Lamb', 'Sebastian Telfair'] 217.25 2014-11-11\n",
        "\n",
        "\n",
        "DKSalaries_11122014.csv"
       ]
      },
      {
       "output_type": "stream",
       "stream": "stdout",
       "text": [
        "\n",
        "no cost data for date 2014-11-12\n",
        "\n",
        "\n",
        "DKSalaries_11132014.csv"
       ]
      },
      {
       "output_type": "stream",
       "stream": "stdout",
       "text": [
        "\n",
        "no cost data for date 2014-11-13\n",
        "\n",
        "\n",
        "DKSalaries_11142014.csv"
       ]
      },
      {
       "output_type": "stream",
       "stream": "stdout",
       "text": [
        "\n",
        "['Anthony Davis', 'Paul Millsap', 'Reggie Jackson', 'Kawhi Leonard', 'Kyle Korver', 'Anthony Morrow', 'Zaza Pachulia', 'A.J. Price']"
       ]
      },
      {
       "output_type": "stream",
       "stream": "stdout",
       "text": [
        " 236.0 2014-11-14\n",
        "['Anthony Davis', 'Reggie Jackson', 'Ty Lawson', 'Kawhi Leonard', 'Kyle Korver', 'Anthony Morrow', 'Lavoy Allen', 'Lance Thomas'] 227.0 2014-11-14\n",
        "['Anthony Davis', 'Kobe Bryant', 'Reggie Jackson', 'Kawhi Leonard', 'Kyle Korver', 'Lavoy Allen', 'A.J. Price', 'Lance Thomas'] 228.0 2014-11-14\n",
        "['Anthony Davis', 'Paul Millsap', 'Reggie Jackson', 'Kawhi Leonard', 'Kyle Korver', 'Anthony Morrow', 'Zaza Pachulia', 'Nick Collison'] 219.25 2014-11-14\n",
        "['Paul Millsap', 'Nikola Vucevic', 'Reggie Jackson', 'Kawhi Leonard', 'Kyle Korver', 'Ryan Anderson', 'Anthony Morrow', 'Lavoy Allen'] 250.5 2014-11-14\n",
        "['Anthony Davis', 'Paul Millsap', 'Reggie Jackson', 'Kawhi Leonard', 'Gerald Green', 'Anthony Morrow', 'Lavoy Allen', 'Corey Brewer'] 222.75 2014-11-14\n",
        "['Anthony Davis', 'Paul Millsap', 'Reggie Jackson', 'Nikola Pekovic', 'Kyle Korver', 'Anthony Morrow', 'Corey Brewer', 'A.J. Price'] 239.75 2014-11-14\n",
        "['Rajon Rondo', 'Paul Millsap', 'Reggie Jackson', 'Kawhi Leonard', 'Nikola Pekovic', 'Evan Fournier', 'Anthony Morrow', 'Lance Thomas'] 213.0 2014-11-14\n",
        "['Anthony Davis', 'Rajon Rondo', 'Reggie Jackson', 'Kawhi Leonard', 'Kyle Korver', 'Anthony Morrow', 'Nick Collison', 'Lance Thomas'] 223.0 2014-11-14\n",
        "['Anthony Davis', 'Kyrie Irving', 'Reggie Jackson', 'Kawhi Leonard', 'Kyle Korver', 'Anthony Morrow', 'Lavoy Allen', 'Lance Thomas'] 243.75 2014-11-14\n",
        "\n",
        "\n",
        "DKSalaries_11152014.csv"
       ]
      },
      {
       "output_type": "stream",
       "stream": "stdout",
       "text": [
        "\n",
        "no cost data for date 2014-11-15\n",
        "\n",
        "\n",
        "DKSalaries_11162014.csv"
       ]
      },
      {
       "output_type": "stream",
       "stream": "stdout",
       "text": [
        "\n",
        "no cost data for date 2014-11-16\n",
        "\n",
        "\n",
        "DKSalaries_11172014.csv"
       ]
      },
      {
       "output_type": "stream",
       "stream": "stdout",
       "text": [
        "\n",
        "['Damian Lillard', 'Rajon Rondo', 'DeAndre Jordan', 'Jimmy Butler', 'Ryan Anderson', 'Manu Ginobili', 'Shawne Williams', 'Nerlens Noel']"
       ]
      },
      {
       "output_type": "stream",
       "stream": "stdout",
       "text": [
        " 224.25 2014-11-17\n",
        "['Damian Lillard', 'Rajon Rondo', 'Zach Randolph', 'Tyreke Evans', 'Tyson Chandler', 'Gerald Green', 'Shawne Williams', 'Nerlens Noel'] 220.0 2014-11-17\n",
        "['Damian Lillard', 'Rajon Rondo', 'Jimmy Butler', 'Tyreke Evans', 'Tyson Chandler', 'Wilson Chandler', 'Shawne Williams', 'Nerlens Noel'] 254.25 2014-11-17\n",
        "['LeBron James', 'Damian Lillard', 'DeAndre Jordan', 'Jimmy Butler', 'Manu Ginobili', 'Shawne Williams', 'Austin Rivers', 'Nerlens Noel'] 215.25 2014-11-17\n",
        "['Damian Lillard', 'Rajon Rondo', 'Tyreke Evans', 'Greg Monroe', 'Tyson Chandler', 'Manu Ginobili', 'Shawne Williams', 'Nerlens Noel'] 200.5 2014-11-17\n",
        "['Damian Lillard', 'Rajon Rondo', 'Tyreke Evans', 'Tobias Harris', 'Tyson Chandler', 'Manu Ginobili', 'Shawne Williams', 'Nerlens Noel'] 236.5 2014-11-17\n",
        "['Damian Lillard', 'Zach Randolph', 'DeAndre Jordan', 'Jimmy Butler', 'Tyson Chandler', 'Manu Ginobili', 'Shawne Williams', 'Nerlens Noel'] 223.0 2014-11-17\n",
        "['Damian Lillard', 'DeAndre Jordan', 'Jimmy Butler', 'Tyreke Evans', 'Tyson Chandler', 'Ryan Anderson', 'Shawne Williams', 'Nerlens Noel'] 241.5 2014-11-17\n",
        "['Damian Lillard', 'Kyrie Irving', 'Zach Randolph', 'Tyreke Evans', 'Tyson Chandler', 'Manu Ginobili', 'Shawne Williams', 'Nerlens Noel'] 214.5 2014-11-17\n",
        "['LeBron James', 'Rajon Rondo', 'DeAndre Jordan', 'Jimmy Butler', 'Manu Ginobili', 'Shawne Williams', 'Austin Rivers', 'Nerlens Noel'] 213.75 2014-11-17\n",
        "\n",
        "\n",
        "DKSalaries_11182014.csv"
       ]
      },
      {
       "output_type": "stream",
       "stream": "stdout",
       "text": [
        "\n",
        "no cost data for date 2014-11-18\n",
        "\n",
        "\n",
        "DKSalaries_11192014.csv"
       ]
      },
      {
       "output_type": "stream",
       "stream": "stdout",
       "text": [
        "\n",
        "no cost data for date 2014-11-19\n",
        "\n",
        "\n",
        "DKSalaries_11202014.csv"
       ]
      },
      {
       "output_type": "stream",
       "stream": "stdout",
       "text": [
        "\n",
        "no cost data for date 2014-11-20\n",
        "\n",
        "\n",
        "DKSalaries_11212014.csv"
       ]
      },
      {
       "output_type": "stream",
       "stream": "stdout",
       "text": [
        "\n",
        "no cost data for date 2014-11-21\n",
        "\n",
        "\n",
        "DKSalaries_11222014.csv"
       ]
      },
      {
       "output_type": "stream",
       "stream": "stdout",
       "text": [
        "\n",
        "no cost data for date 2014-11-22\n",
        "\n",
        "\n",
        "DKSalaries_11232014.csv"
       ]
      },
      {
       "output_type": "stream",
       "stream": "stdout",
       "text": [
        "\n",
        "no cost data for date 2014-11-23\n",
        "\n",
        "\n",
        "DKSalaries_11242014.csv"
       ]
      },
      {
       "output_type": "stream",
       "stream": "stdout",
       "text": [
        "\n",
        "no cost data for date 2014-11-24\n",
        "\n",
        "\n",
        "DKSalaries_11252014.csv"
       ]
      },
      {
       "output_type": "stream",
       "stream": "stdout",
       "text": [
        "\n",
        "no cost data for date 2014-11-25\n",
        "\n",
        "\n",
        "DKSalaries_11262014.csv"
       ]
      },
      {
       "output_type": "stream",
       "stream": "stdout",
       "text": [
        "\n",
        "no cost data for date 2014-11-26\n",
        "\n",
        "\n",
        "DKSalaries_11272014.csv"
       ]
      },
      {
       "output_type": "stream",
       "stream": "stdout",
       "text": [
        "\n",
        "no cost data for date 2014-11-27\n",
        "\n",
        "\n",
        "DKSalaries_11282014.csv"
       ]
      },
      {
       "output_type": "stream",
       "stream": "stdout",
       "text": [
        "\n",
        "['Eric Bledsoe', 'Jeff Teague', 'Tobias Harris', 'Markieff Morris', 'Tyson Chandler', 'Andrew Bogut', 'Harrison Barnes', 'Jose Calderon']"
       ]
      },
      {
       "output_type": "stream",
       "stream": "stdout",
       "text": [
        " 194.75 2014-11-28\n",
        "['Eric Bledsoe', 'Jeff Teague', 'Tobias Harris', 'Markieff Morris', 'Tyson Chandler', 'Andrew Bogut', 'Jose Calderon', 'Donatas Motiejunas'] 189.75 2014-11-28\n",
        "['Eric Bledsoe', 'Jeff Teague', 'Tobias Harris', 'Markieff Morris', 'Josh Smith', 'Tyson Chandler', 'Jose Calderon', 'Larry Sanders'] 195.5 2014-11-28\n",
        "['Eric Bledsoe', 'Jeff Teague', 'Tobias Harris', 'Markieff Morris', 'Tyson Chandler', 'Andrew Bogut', 'DeMarre Carroll', 'Jose Calderon'] 197.25 2014-11-28\n",
        "['Stephen Curry', 'Tobias Harris', 'Markieff Morris', 'Tyson Chandler', 'Andrew Bogut', 'Corey Brewer', 'Jose Calderon', 'Jeremy Lamb'] 207.75 2014-11-28\n",
        "['Eric Bledsoe', 'Jeff Teague', 'Markieff Morris', 'Josh Smith', 'Tyson Chandler', 'Andrew Bogut', 'Corey Brewer', 'Jose Calderon'] 223.25 2014-11-28\n",
        "['Eric Bledsoe', 'Jeff Teague', 'Tobias Harris', 'Markieff Morris', 'Josh Smith', 'Tyson Chandler', 'Jose Calderon', 'Rodney Stuckey'] 213.25 2014-11-28\n",
        "['Stephen Curry', 'Tobias Harris', 'Markieff Morris', 'Tyson Chandler', 'Andrew Bogut', 'Wilson Chandler', 'Jose Calderon', 'Rodney Stuckey'] 202.0 2014-11-28\n",
        "['Stephen Curry', 'Eric Bledsoe', 'Markieff Morris', 'Tyson Chandler', 'Andrew Bogut', 'Harrison Barnes', 'Jose Calderon', 'Donatas Motiejunas'] 192.5 2014-11-28\n",
        "['Stephen Curry', 'Serge Ibaka', 'Tobias Harris', 'Markieff Morris', 'Tyson Chandler', 'Jose Calderon', 'Jeremy Lamb', 'Donatas Motiejunas'] 187.5 2014-11-28\n",
        "\n",
        "\n",
        "DKSalaries_11292014.csv"
       ]
      },
      {
       "output_type": "stream",
       "stream": "stdout",
       "text": [
        "\n",
        "['LeBron James', 'Jeff Teague', 'Tyreke Evans', 'Tyson Chandler', 'Donald Sloan', 'Luis Scola', 'Jabari Parker', 'Lavoy Allen']"
       ]
      },
      {
       "output_type": "stream",
       "stream": "stdout",
       "text": [
        " 225.0 2014-11-29\n",
        "['James Harden', 'Jeff Teague', 'Tyreke Evans', 'Tyson Chandler', 'Trevor Ariza', 'Luis Scola', 'Jabari Parker', 'Lavoy Allen'] 282.0 2014-11-29\n",
        "['James Harden', 'Paul Millsap', 'Jeff Teague', 'Tyson Chandler', 'Luis Scola', 'Rodney Stuckey', 'Jabari Parker', 'Lavoy Allen'] 267.25 2014-11-29\n",
        "['James Harden', 'Monta Ellis', 'Jeff Teague', 'Tyson Chandler', 'Luis Scola', 'DeMarre Carroll', 'Jabari Parker', 'Lavoy Allen'] 271.75 2014-11-29\n",
        "['LeBron James', 'Monta Ellis', 'Jeff Teague', 'Tyson Chandler', 'Cody Zeller', 'Rodney Stuckey', 'Jabari Parker', 'Lavoy Allen'] 227.25 2014-11-29\n",
        "['LeBron James', 'Jeff Teague', 'Tyreke Evans', 'Tyson Chandler', 'Luis Scola', 'Rodney Stuckey', 'Jabari Parker', 'Lavoy Allen'] 230.0 2014-11-29\n",
        "['James Harden', 'Paul Millsap', 'Jeff Teague', 'Tyson Chandler', 'DeMarre Carroll', 'Rodney Stuckey', 'Jabari Parker', 'Lavoy Allen'] 264.5 2014-11-29\n",
        "['James Harden', 'Jeff Teague', 'Tyreke Evans', 'Tyson Chandler', 'Chandler Parsons', 'Luis Scola', 'Jabari Parker', 'Lavoy Allen'] 279.5 2014-11-29\n",
        "['James Harden', 'Blake Griffin', 'Jeff Teague', 'Tyson Chandler', 'Donatas Motiejunas', 'Rodney Stuckey', 'Jabari Parker', 'Lavoy Allen'] 287.5 2014-11-29\n",
        "['James Harden', 'Jeff Teague', 'Tyreke Evans', 'Tyson Chandler', 'Ryan Anderson', 'Luis Scola', 'Jabari Parker', 'Lavoy Allen'] 269.0 2014-11-29\n",
        "\n",
        "\n"
       ]
      }
     ],
     "prompt_number": 19
    },
    {
     "cell_type": "code",
     "collapsed": false,
     "input": [
      "### REGRESSION: Players' fantasy points vs pace of the game. Filtered by players who play more than X minutes.\n",
      "## results: ??\n",
      "\n",
      "gids = [g.get_game_id() for g in game_data]\n",
      "pace = []\n",
      "player_fp = []\n",
      "for p in player_data:\n",
      "    p_info = p.get_info()\n",
      "    index = 0\n",
      "    for gid in p_info['GAME_ID']:\n",
      "        g = game_data[gids.index(gid)]\n",
      "        temp = p.calculate_fp(game_number=index,site='DraftKings')\n",
      "        if temp is not None:\n",
      "            # minutes filter\n",
      "            if float(p_info['MIN'][index].split(':')[0]) > 20:\n",
      "                pace.append(g.home_info['PACE']) #WLOG use home_info, pace should be the same for both teams\n",
      "                player_fp.append(temp)\n",
      "        index += 1\n",
      "        \n",
      "df = pd.DataFrame(np.array([pace, player_fp]).T, columns=['pace', 'fp'])\n",
      "df['const'] = np.ones((len(df), ))\n",
      "reg = sm.OLS(df.fp, df[['pace', 'const']]).fit()\n",
      "print reg.summary()\n",
      "\n",
      "plt.figure()\n",
      "plt.plot(df.pace, df.fp, '.', alpha=0.5)\n",
      "xval = np.linspace(80,110,10)\n",
      "plt.plot(xval, reg.params['const']+reg.params['pace']*xval,'-')\n",
      "plt.xlabel('pace')\n",
      "plt.ylabel('fantasy points')\n",
      "plt.show()\n"
     ],
     "language": "python",
     "metadata": {},
     "outputs": [
      {
       "ename": "NameError",
       "evalue": "name 'game_data' is not defined",
       "output_type": "pyerr",
       "traceback": [
        "\u001b[0;31m---------------------------------------------------------------------------\u001b[0m\n\u001b[0;31mNameError\u001b[0m                                 Traceback (most recent call last)",
        "\u001b[0;32m<ipython-input-13-6fb3a4da5eda>\u001b[0m in \u001b[0;36m<module>\u001b[0;34m()\u001b[0m\n\u001b[1;32m      2\u001b[0m \u001b[0;31m## results: ??\u001b[0m\u001b[0;34m\u001b[0m\u001b[0;34m\u001b[0m\u001b[0m\n\u001b[1;32m      3\u001b[0m \u001b[0;34m\u001b[0m\u001b[0m\n\u001b[0;32m----> 4\u001b[0;31m \u001b[0mgids\u001b[0m \u001b[0;34m=\u001b[0m \u001b[0;34m[\u001b[0m\u001b[0mg\u001b[0m\u001b[0;34m.\u001b[0m\u001b[0mget_game_id\u001b[0m\u001b[0;34m(\u001b[0m\u001b[0;34m)\u001b[0m \u001b[0;32mfor\u001b[0m \u001b[0mg\u001b[0m \u001b[0;32min\u001b[0m \u001b[0mgame_data\u001b[0m\u001b[0;34m]\u001b[0m\u001b[0;34m\u001b[0m\u001b[0m\n\u001b[0m\u001b[1;32m      5\u001b[0m \u001b[0mpace\u001b[0m \u001b[0;34m=\u001b[0m \u001b[0;34m[\u001b[0m\u001b[0;34m]\u001b[0m\u001b[0;34m\u001b[0m\u001b[0m\n\u001b[1;32m      6\u001b[0m \u001b[0mplayer_fp\u001b[0m \u001b[0;34m=\u001b[0m \u001b[0;34m[\u001b[0m\u001b[0;34m]\u001b[0m\u001b[0;34m\u001b[0m\u001b[0m\n",
        "\u001b[0;31mNameError\u001b[0m: name 'game_data' is not defined"
       ]
      }
     ],
     "prompt_number": 13
    },
    {
     "cell_type": "code",
     "collapsed": false,
     "input": [
      "### REGRESSION: Players' fantasy points vs opponent's def ratings. Filtered by players who play more than X minutes.\n",
      "## results: not promising; check accuracy of data?\n",
      "\n",
      "#for g in game_data:\n",
      "#    print g\n",
      "#def_ratings, off_ratings = data_getters.get_ratings(2015) # may take a bit to hit all the teams\n",
      "def_ratings['CHA'] = def_ratings['CHO'] # note CHO = CHA\n",
      "def_ratings['PHX'] = def_ratings['PHO'] # note PHO = PHX\n",
      "def_ratings['BKN'] = def_ratings['BRK']\n",
      "#print def_ratings\n",
      "\n",
      "\n",
      "# regress a player's fantasy points vs opponent's def rating\n",
      "gids = [g.get_game_id() for g in game_data]\n",
      "opp_def_rating = []\n",
      "player_fp = []\n",
      "for p in player_data:\n",
      "    p_info = p.get_info()\n",
      "    index = 0\n",
      "    for gid in p_info['GAME_ID']:\n",
      "        g = game_data[gids.index(gid)]\n",
      "        # check for which team the player is on, then get the other team's defensive rating\n",
      "        if p_info['TEAM_ID'][index] == g.get_home_id():\n",
      "            opp_abb = g.get_away_abb()\n",
      "        elif p_info['TEAM_ID'][index] == g.get_away_id():\n",
      "            opp_abb = g.get_home_abb()\n",
      "        else:\n",
      "            print \"what\"\n",
      "        temp = p.calculate_fp(game_number=index,site='DraftKings')\n",
      "        if temp is not None:\n",
      "            # minutes filter\n",
      "            if float(p_info['MIN'][index].split(':')[0]) > 20:\n",
      "                opp_def_rating.append(def_ratings[opp_abb])\n",
      "                player_fp.append(temp)\n",
      "        index += 1\n",
      "\n",
      "        \n",
      "df = pd.DataFrame(np.array([opp_def_rating, player_fp]).T, columns=['opp_def_rating', 'fp'])\n",
      "df['const'] = np.ones((len(df), ))\n",
      "reg = sm.OLS(df.fp, df[['opp_def_rating', 'const']]).fit()\n",
      "print reg.summary()\n",
      "\n",
      "plt.figure()\n",
      "plt.plot(df.opp_def_rating, df.fp, '.', alpha=0.5)\n",
      "xval = np.linspace(95,120,10)\n",
      "plt.plot(xval, reg.params['const']+reg.params['opp_def_rating']*xval,'-')\n",
      "plt.xlabel('opponent def rating')\n",
      "plt.ylabel('fantasy points')\n",
      "plt.show()"
     ],
     "language": "python",
     "metadata": {},
     "outputs": []
    }
   ],
   "metadata": {}
  }
 ]
}